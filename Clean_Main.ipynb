{
  "nbformat": 4,
  "nbformat_minor": 0,
  "metadata": {
    "colab": {
      "name": "Clean_Main.ipynb",
      "provenance": [],
      "collapsed_sections": [],
      "authorship_tag": "ABX9TyPcGqc5iix7uKHRhZhtyA/N",
      "include_colab_link": true
    },
    "kernelspec": {
      "name": "python3",
      "display_name": "Python 3"
    },
    "accelerator": "GPU"
  },
  "cells": [
    {
      "cell_type": "markdown",
      "metadata": {
        "id": "view-in-github",
        "colab_type": "text"
      },
      "source": [
        "<a href=\"https://colab.research.google.com/github/jithinraj9895/CopyHelper-CH/blob/master/Clean_Main.ipynb\" target=\"_parent\"><img src=\"https://colab.research.google.com/assets/colab-badge.svg\" alt=\"Open In Colab\"/></a>"
      ]
    },
    {
      "cell_type": "code",
      "metadata": {
        "colab": {
          "base_uri": "https://localhost:8080/"
        },
        "id": "vaZ5s4J-e-tC",
        "outputId": "a07cc192-4064-45d3-9330-ef9ac961dc7b"
      },
      "source": [
        "from google.colab import drive\r\n",
        "drive.mount('/content/drive')"
      ],
      "execution_count": null,
      "outputs": [
        {
          "output_type": "stream",
          "text": [
            "Mounted at /content/drive\n"
          ],
          "name": "stdout"
        }
      ]
    },
    {
      "cell_type": "code",
      "metadata": {
        "id": "6T3HtXI0JxJC"
      },
      "source": [
        "   from torchvision.datasets import ImageFolder\r\n",
        "   from torchvision.transforms import ToTensor\r\n",
        "   import torchvision.transforms as transforms"
      ],
      "execution_count": null,
      "outputs": []
    },
    {
      "cell_type": "code",
      "metadata": {
        "id": "MmdaV4_zKUMh"
      },
      "source": [
        "from torch.utils.data.sampler import SubsetRandomSampler\r\n",
        "from torch.utils.data.dataloader import DataLoader\r\n",
        "import torch\r\n",
        "\r\n",
        "import os\r\n",
        "dir = \"/content/drive/MyDrive/mnist_stego\"\r\n",
        "\r\n",
        "dataset = ImageFolder(dir, transform= transforms.Compose([ transforms.Grayscale(num_output_channels=1), ToTensor()]))\r\n",
        "\r\n",
        "train_dl = DataLoader(dataset, batch_size=10,shuffle= True)"
      ],
      "execution_count": null,
      "outputs": []
    },
    {
      "cell_type": "code",
      "metadata": {
        "id": "uxGSg476q58I",
        "colab": {
          "base_uri": "https://localhost:8080/"
        },
        "outputId": "d3e0d688-c33a-4a43-f31c-509eafde1119"
      },
      "source": [
        "print(dataset.classes)"
      ],
      "execution_count": null,
      "outputs": [
        {
          "output_type": "stream",
          "text": [
            "['cover', 'steg']\n"
          ],
          "name": "stdout"
        }
      ]
    },
    {
      "cell_type": "code",
      "metadata": {
        "colab": {
          "base_uri": "https://localhost:8080/"
        },
        "id": "fv9ss41RLqoa",
        "outputId": "b046ee01-0066-4424-e6d8-6ae54701b0fe"
      },
      "source": [
        "data = next(iter(train_dl))\r\n",
        "inputs, labels = data\r\n",
        "\r\n",
        "print(inputs.shape)\r\n",
        "print(labels)"
      ],
      "execution_count": null,
      "outputs": [
        {
          "output_type": "stream",
          "text": [
            "torch.Size([10, 1, 28, 28])\n",
            "tensor([0, 1, 1, 1, 1, 1, 0, 1, 1, 0])\n"
          ],
          "name": "stdout"
        }
      ]
    },
    {
      "cell_type": "code",
      "metadata": {
        "id": "ef1fCcdBfOrP"
      },
      "source": [
        "import numpy as np\r\n",
        "import os\r\n",
        "import matplotlib.pyplot as plt\r\n",
        "import cv2\r\n",
        "import numpy as np\r\n",
        "import PIL as image\r\n",
        "import pickle as pl\r\n",
        "\r\n",
        "srm_dir = \"/content/drive/MyDrive\"\r\n",
        "SRM_npy = np.load(os.path.join(srm_dir,\"SRM_Kernels.npy\"))"
      ],
      "execution_count": null,
      "outputs": []
    },
    {
      "cell_type": "code",
      "metadata": {
        "id": "XRV3meWgfREa"
      },
      "source": [
        "import torch.nn as nn\r\n",
        "import torch.nn.functional as F"
      ],
      "execution_count": null,
      "outputs": []
    },
    {
      "cell_type": "code",
      "metadata": {
        "id": "RFnOgDElfhYS"
      },
      "source": [
        "def activation(x):\r\n",
        "  a = torch.ones(x.shape)\r\n",
        "  a = torch.mul(a, 3)\r\n",
        "  return torch.where(x > -3,x,a)\r\n",
        "\r\n",
        "\r\n",
        "class the_tlu(nn.Module):\r\n",
        "    def __init__(self):\r\n",
        "        super(the_tlu, self).__init__()\r\n",
        "        \r\n",
        "    def forward(self, x):\r\n",
        "        return activation(x)"
      ],
      "execution_count": null,
      "outputs": []
    },
    {
      "cell_type": "code",
      "metadata": {
        "id": "h4kAMlksgM2F"
      },
      "source": [
        "import torch\r\n",
        "import torch.nn as nn\r\n",
        "from torch.optim.adamax import Adamax\r\n",
        "from torch.optim.adadelta import Adadelta\r\n",
        "import numpy as np\r\n",
        "import torch\r\n",
        "import torch.nn.functional as F\r\n",
        "from torch import nn\r\n",
        "from torch.nn import Parameter"
      ],
      "execution_count": null,
      "outputs": []
    },
    {
      "cell_type": "code",
      "metadata": {
        "id": "-tgB-4SAhO52"
      },
      "source": [
        "\r\n",
        "\r\n",
        "class SRMConv2d(nn.Module):\r\n",
        "\r\n",
        "    def __init__(self, stride=1, padding=0):\r\n",
        "        super(SRMConv2d, self).__init__()\r\n",
        "        self.in_channels = 1\r\n",
        "        self.out_channels = 30\r\n",
        "        self.kernel_size = (5, 5)\r\n",
        "        if isinstance(stride, int):\r\n",
        "            self.stride = (stride, stride)\r\n",
        "        else:\r\n",
        "            self.stride = stride\r\n",
        "        if isinstance(padding, int):\r\n",
        "            self.padding = (padding, padding)\r\n",
        "        else:\r\n",
        "            self.padding = padding\r\n",
        "        self.dilation = (1, 1)\r\n",
        "        self.transpose = False\r\n",
        "        self.output_padding = (0,)\r\n",
        "        self.groups = 1\r\n",
        "        self.weight = Parameter(torch.Tensor(30, 1, 5, 5), requires_grad=True)\r\n",
        "        self.bias = Parameter(torch.Tensor(30), requires_grad=True)\r\n",
        "        self.reset_parameters()\r\n",
        "\r\n",
        "    def reset_parameters(self):\r\n",
        "        self.weight.data.numpy()[:] = SRM_npy\r\n",
        "        self.bias.data.zero_()\r\n",
        "\r\n",
        "    def forward(self, input):\r\n",
        "        return F.conv2d(input, self.weight, self.bias, self.stride, self.padding,\r\n",
        "                        self.dilation, self.groups)\r\n",
        "\r\n",
        "\r\n",
        "class BlockA(nn.Module):\r\n",
        "\r\n",
        "    def __init__(self, in_planes, out_planes, norm_layer=None,activation = nn.ReLU(inplace=True)):\r\n",
        "        super(BlockA, self).__init__()\r\n",
        "\r\n",
        "        if norm_layer is None:\r\n",
        "            norm_layer = nn.BatchNorm2d\r\n",
        "\r\n",
        "        self.conv1 = conv3x3(in_planes, out_planes)\r\n",
        "        self.bn1 = norm_layer(out_planes)\r\n",
        "        self.conv2 = conv3x3(out_planes, out_planes)\r\n",
        "        self.bn2 = norm_layer(out_planes)\r\n",
        "\r\n",
        "        self.relu = activation\r\n",
        "\r\n",
        "    def forward(self, x):\r\n",
        "        identity = x\r\n",
        "\r\n",
        "        out = self.conv1(x)\r\n",
        "        out = self.bn1(out)\r\n",
        "        out = self.relu(out)\r\n",
        "\r\n",
        "        out = self.conv2(out)\r\n",
        "        out = self.bn2(out)\r\n",
        "\r\n",
        "        out += identity\r\n",
        "        out = self.relu(out)\r\n",
        "\r\n",
        "        return out"
      ],
      "execution_count": null,
      "outputs": []
    },
    {
      "cell_type": "code",
      "metadata": {
        "id": "XR-kU_0jj-fm"
      },
      "source": [
        "\r\n",
        "def accuracy(outputs, labels):\r\n",
        "    _, argmax = torch.max(outputs, 1)\r\n",
        "    return (labels == argmax.squeeze()).float().mean()\r\n",
        "\r\n",
        "\r\n",
        "def conv3x3(in_planes, out_planes, stride=1, groups=1, dilation=1):\r\n",
        "    return nn.Conv2d(in_planes, out_planes, kernel_size=3, stride=stride,\r\n",
        "                     padding=dilation, groups=groups, bias=False, dilation=dilation)\r\n",
        "\r\n",
        "\r\n",
        "def conv1x1(in_planes, out_planes, stride=1):\r\n",
        "    return nn.Conv2d(in_planes, out_planes, kernel_size=1, stride=stride, bias=False)\r\n",
        "\r\n"
      ],
      "execution_count": null,
      "outputs": []
    },
    {
      "cell_type": "code",
      "metadata": {
        "id": "iymQw_QPj8M6"
      },
      "source": [
        "class BlockB(nn.Module):\r\n",
        "\r\n",
        "    def __init__(self, in_planes, out_planes, norm_layer=None):\r\n",
        "        super(BlockB, self).__init__()\r\n",
        "\r\n",
        "        if norm_layer is None:\r\n",
        "            norm_layer = nn.BatchNorm2d\r\n",
        "\r\n",
        "        self.conv1 = conv3x3(in_planes, out_planes, stride=2)\r\n",
        "        self.bn1 = norm_layer(out_planes)\r\n",
        "        self.conv2 = conv3x3(out_planes, out_planes)\r\n",
        "        self.bn2 = norm_layer(out_planes)\r\n",
        "        # self.pool = nn.AvgPool2d(3, stride=2, padding=1)\r\n",
        "\r\n",
        "        self.shortcut_conv = conv1x1(in_planes, out_planes, stride=2)\r\n",
        "        self.shortcut_bn = norm_layer(out_planes)\r\n",
        "\r\n",
        "        self.relu = nn.ReLU(inplace=True)\r\n",
        "\r\n",
        "    def forward(self, x):\r\n",
        "        identity = x\r\n",
        "\r\n",
        "        out = self.conv1(x)\r\n",
        "        out = self.bn1(out)\r\n",
        "        out = self.relu(out)\r\n",
        "\r\n",
        "        out = self.conv2(out)\r\n",
        "        out = self.bn2(out)\r\n",
        "        # out = self.pool(out)\r\n",
        "\r\n",
        "        identity = self.shortcut_conv(identity)\r\n",
        "        identity = self.shortcut_bn(identity)\r\n",
        "\r\n",
        "        out += identity\r\n",
        "        out = self.relu(out)\r\n",
        "\r\n",
        "        return out\r\n"
      ],
      "execution_count": null,
      "outputs": []
    },
    {
      "cell_type": "code",
      "metadata": {
        "id": "syGiDmSgkECX"
      },
      "source": [
        "class KeNet(nn.Module):\r\n",
        "\r\n",
        "    def __init__(self, norm_layer=None, zero_init_residual=True, p=0.5):\r\n",
        "        super(KeNet, self).__init__()\r\n",
        "\r\n",
        "        self.zero_init_residual = zero_init_residual\r\n",
        "\r\n",
        "        if norm_layer is None:\r\n",
        "            norm_layer = nn.BatchNorm2d\r\n",
        "\r\n",
        "        self.srm = SRMConv2d(1, 0)\r\n",
        "        self.bn1 = norm_layer(30)\r\n",
        "\r\n",
        "        self.A1 = BlockA(30, 30, norm_layer=norm_layer)\r\n",
        "        self.A2 = BlockA(30, 30, norm_layer=norm_layer)\r\n",
        "        self.AA = BlockA(30, 30, norm_layer=norm_layer)\r\n",
        "\r\n",
        "        # self.B1 = BlockB(30, 30, norm_layer=norm_layer)\r\n",
        "        # self.B2 = BlockB(30, 64, norm_layer=norm_layer)\r\n",
        "\r\n",
        "        self.B3 = BlockB(30, 64, norm_layer=norm_layer)\r\n",
        "        self.A3 = BlockA(64, 64, norm_layer=norm_layer)\r\n",
        "\r\n",
        "        self.B4 = BlockB(64, 128, norm_layer=norm_layer)\r\n",
        "        self.A4 = BlockA(128, 128, norm_layer=norm_layer)\r\n",
        "\r\n",
        "        self.avgpool = nn.AdaptiveAvgPool2d((1, 1))\r\n",
        "        # self.bnfc = nn.BatchNorm1d(128)\r\n",
        "        self.relu = nn.ReLU(inplace=True)\r\n",
        "        # self.fcfusion = nn.Linear(128, 128) #4\r\n",
        "        self.fc = nn.Linear(128 * 4 + 1, 2)\r\n",
        "        self.dropout = nn.Dropout(p=p)\r\n",
        "\r\n",
        "        self.reset_parameters()\r\n",
        "\r\n",
        "    def reset_parameters(self):\r\n",
        "        for m in self.modules():\r\n",
        "            if isinstance(m, nn.Conv2d):\r\n",
        "                # nn.init.xavier_uniform_(m.weight)\r\n",
        "                # nn.init.constant_(m.bias, 0.2)\r\n",
        "                nn.init.kaiming_normal_(m.weight, mode='fan_out', nonlinearity='relu')\r\n",
        "            elif isinstance(m, nn.BatchNorm2d):\r\n",
        "                nn.init.constant_(m.weight, 1)\r\n",
        "                nn.init.constant_(m.bias, 0)\r\n",
        "            elif isinstance(m, nn.Linear):\r\n",
        "                nn.init.normal_(m.weight, std=0.01)\r\n",
        "\r\n",
        "        if self.zero_init_residual:\r\n",
        "            for m in self.modules():\r\n",
        "                if isinstance(m, (BlockA, BlockB)):\r\n",
        "                    nn.init.constant_(m.bn2.weight, 0)\r\n",
        "\r\n",
        "    def extract_feat(self, x):\r\n",
        "        x = x.float()\r\n",
        "        out = self.srm(x)\r\n",
        "        out = self.bn1(out)\r\n",
        "        out = self.relu(out)\r\n",
        "\r\n",
        "        out = self.A1(out)\r\n",
        "        out = self.A2(out)\r\n",
        "        out = self.AA(out)\r\n",
        "\r\n",
        "        # out = self.B1(out)\r\n",
        "        # out = self.B2(out)\r\n",
        "\r\n",
        "        out = self.B3(out)\r\n",
        "        out = self.A3(out)\r\n",
        "\r\n",
        "        out = self.B4(out)\r\n",
        "        out = self.A4(out)\r\n",
        "\r\n",
        "        out = self.avgpool(out)\r\n",
        "        out = out.view(out.size(0), out.size(1))\r\n",
        "\r\n",
        "        # out = self.relu(out)\r\n",
        "        # out = self.bnfc(out)\r\n",
        "\r\n",
        "        return out\r\n",
        "\r\n",
        "    def forward(self, *args):\r\n",
        "        ############# statistics fusion start #############\r\n",
        "        feats = torch.stack(\r\n",
        "            [self.extract_feat(subarea) for subarea in args], dim=0\r\n",
        "        )\r\n",
        "\r\n",
        "        euclidean_distance = F.pairwise_distance(feats[0], feats[1], eps=1e-6,\r\n",
        "                                                 keepdim=True)\r\n",
        "\r\n",
        "        if feats.shape[0] == 1:\r\n",
        "            final_feat = feats.squeeze(dim=0)\r\n",
        "        else:\r\n",
        "            # feats_sum = feats.sum(dim=0)\r\n",
        "            # feats_sub = feats[0] - feats[1]\r\n",
        "            feats_mean = feats.mean(dim=0)\r\n",
        "            feats_var = feats.var(dim=0)\r\n",
        "            feats_min, _ = feats.min(dim=0)\r\n",
        "            feats_max, _ = feats.max(dim=0)\r\n",
        "\r\n",
        "            '''feats_sum = feats.sum(dim=0)\r\n",
        "            feats_sub = abs(feats[0] - feats[1])\r\n",
        "            feats_prod = feats.prod(dim=0)\r\n",
        "            feats_max, _ = feats.max(dim=0)'''\r\n",
        "            \r\n",
        "            #final_feat = torch.cat(\r\n",
        "            #    [feats[0], feats[1], feats[0], feats[1]], dim=-1\r\n",
        "            #    #[euclidean_distance, feats_sum, feats_sub, feats_prod, feats_max], dim=-1\r\n",
        "            #)\r\n",
        "\r\n",
        "            final_feat = torch.cat(\r\n",
        "                [euclidean_distance, feats_mean, feats_var, feats_min, feats_max], dim=-1\r\n",
        "                #[euclidean_distance, feats_sum, feats_sub, feats_prod, feats_max], dim=-1\r\n",
        "            )\r\n",
        "\r\n",
        "        out = self.dropout(final_feat)\r\n",
        "        # out = self.fcfusion(out)\r\n",
        "        # out = self.relu(out)\r\n",
        "        out = self.fc(out)\r\n",
        "\r\n",
        "        return out, feats[0], feats[1]\r\n"
      ],
      "execution_count": null,
      "outputs": []
    },
    {
      "cell_type": "code",
      "metadata": {
        "id": "75JIv1swkKYs"
      },
      "source": [
        "def preprocess_data(images, labels, random_crop):\r\n",
        "    # images of shape: NxCxHxW\r\n",
        "    if images.ndim == 5:  # 1xNxCxHxW\r\n",
        "        images = images.squeeze(0)\r\n",
        "        labels = labels.squeeze(0)\r\n",
        "    h, w = images.shape[-2:]\r\n",
        "\r\n",
        "    if random_crop:\r\n",
        "        ch = random.randint(h * 3 // 4, h)  # h // 2      #256\r\n",
        "        cw = random.randint(w * 3 // 4, w)  # square ch   #256\r\n",
        "\r\n",
        "        h0 = random.randint(0, h - ch)  # 128\r\n",
        "        w0 = random.randint(0, w - cw)  # 128\r\n",
        "    else:\r\n",
        "        ch, cw, h0, w0 = h, w, 0, 0\r\n",
        " \r\n",
        "        cw = cw & ~1\r\n",
        "        inputs = [\r\n",
        "            images[..., h0:h0 + ch, w0:w0 + cw // 2],\r\n",
        "            images[..., h0:h0 + ch, w0 + cw // 2:w0 + cw]\r\n",
        "        ]\r\n",
        "        \r\n",
        "    return inputs, labels"
      ],
      "execution_count": null,
      "outputs": []
    },
    {
      "cell_type": "code",
      "metadata": {
        "id": "XGbJpr35kP9x"
      },
      "source": [
        "class ContrastiveLoss(nn.Module):\r\n",
        "\r\n",
        "    def __init__(self, margin=1.25):  # margin=2\r\n",
        "        super(ContrastiveLoss, self).__init__()\r\n",
        "        self.margin = margin\r\n",
        "\r\n",
        "    def forward(self, output1, output2, label):\r\n",
        "        label = label.to(torch.float32)\r\n",
        "        euclidean_distance = F.pairwise_distance(output1, output2)\r\n",
        "        loss_contrastive = torch.mean(\r\n",
        "            (1 - label) * torch.pow(euclidean_distance, 2) +\r\n",
        "            label * torch.pow(torch.clamp(self.margin - euclidean_distance, min=0.0), 2)\r\n",
        "        )\r\n",
        "\r\n",
        "        return loss_contrastive"
      ],
      "execution_count": null,
      "outputs": []
    },
    {
      "cell_type": "code",
      "metadata": {
        "id": "LWrAjBzGnulQ"
      },
      "source": [
        "model = KeNet(norm_layer=None, zero_init_residual=True, p=0.5)"
      ],
      "execution_count": null,
      "outputs": []
    },
    {
      "cell_type": "code",
      "metadata": {
        "id": "HCfXKC1qkSx6"
      },
      "source": [
        "criterion_1 = nn.CrossEntropyLoss()\r\n",
        "criterion_2 = ContrastiveLoss(margin=1)"
      ],
      "execution_count": null,
      "outputs": []
    },
    {
      "cell_type": "code",
      "metadata": {
        "id": "PI4AfgRlk8O4"
      },
      "source": [
        "data = next(iter(train_dl))"
      ],
      "execution_count": null,
      "outputs": []
    },
    {
      "cell_type": "code",
      "metadata": {
        "colab": {
          "base_uri": "https://localhost:8080/"
        },
        "id": "w2b-vIu-mecy",
        "outputId": "157987b5-30d3-4901-eecd-5b08dea35fb0"
      },
      "source": [
        "imgs, label = data\r\n",
        "print(imgs.shape, label.shape)"
      ],
      "execution_count": null,
      "outputs": [
        {
          "output_type": "stream",
          "text": [
            "torch.Size([10, 1, 28, 28]) torch.Size([10])\n"
          ],
          "name": "stdout"
        }
      ]
    },
    {
      "cell_type": "code",
      "metadata": {
        "colab": {
          "base_uri": "https://localhost:8080/"
        },
        "id": "BfLinZQImsQ5",
        "outputId": "4a8f52df-3920-4404-a44b-558b27f80c5c"
      },
      "source": [
        "inputs , labels = preprocess_data(*data,False)\r\n",
        "output, feat_0, feat_1 = model(*inputs)\r\n",
        "\r\n",
        "print(output,feat_0,feat_1)\r\n",
        "print(output.shape)"
      ],
      "execution_count": null,
      "outputs": [
        {
          "output_type": "stream",
          "text": [
            "tensor([[ 0.0618,  0.1070],\n",
            "        [-0.0443,  0.1546],\n",
            "        [ 0.0376, -0.0066],\n",
            "        [-0.0887, -0.0080],\n",
            "        [ 0.0158,  0.1275],\n",
            "        [-0.0549,  0.0499],\n",
            "        [ 0.1117,  0.0413],\n",
            "        [ 0.0065, -0.0989],\n",
            "        [ 0.1302,  0.1392],\n",
            "        [ 0.0423,  0.0331]], grad_fn=<AddmmBackward>) tensor([[0.4430, 0.3448, 0.2581,  ..., 0.5128, 0.2549, 0.2921],\n",
            "        [0.2272, 0.3317, 0.3770,  ..., 0.3296, 0.2352, 0.1929],\n",
            "        [0.4223, 0.3265, 0.3652,  ..., 0.2000, 0.3763, 0.1973],\n",
            "        ...,\n",
            "        [0.2317, 0.3008, 0.3271,  ..., 0.1344, 0.2285, 0.2054],\n",
            "        [0.1363, 0.3044, 0.4646,  ..., 0.7615, 0.2172, 0.1407],\n",
            "        [0.2927, 0.3406, 0.2817,  ..., 0.0429, 0.2523, 0.1837]],\n",
            "       grad_fn=<SelectBackward>) tensor([[0.2337, 0.5625, 0.2243,  ..., 0.2888, 0.3616, 0.4264],\n",
            "        [0.3408, 0.2916, 0.5200,  ..., 0.3058, 0.3985, 0.3405],\n",
            "        [0.2474, 0.3210, 0.3281,  ..., 0.5844, 0.2064, 0.1903],\n",
            "        ...,\n",
            "        [0.3382, 0.4267, 0.1904,  ..., 0.3474, 0.2619, 0.3719],\n",
            "        [0.3723, 0.1777, 0.2812,  ..., 0.5741, 0.2375, 0.2288],\n",
            "        [0.1907, 0.3545, 0.3111,  ..., 0.0726, 0.2203, 0.2958]],\n",
            "       grad_fn=<SelectBackward>)\n",
            "torch.Size([10, 2])\n"
          ],
          "name": "stdout"
        }
      ]
    },
    {
      "cell_type": "code",
      "metadata": {
        "colab": {
          "base_uri": "https://localhost:8080/"
        },
        "id": "cNWZtmSfDQ2o",
        "outputId": "9cfef33d-8ad6-45a9-802c-b7ac49bf7c30"
      },
      "source": [
        "print(feat_0.shape)"
      ],
      "execution_count": null,
      "outputs": [
        {
          "output_type": "stream",
          "text": [
            "torch.Size([10, 128])\n"
          ],
          "name": "stdout"
        }
      ]
    },
    {
      "cell_type": "code",
      "metadata": {
        "id": "K5XVw46tVEgq"
      },
      "source": [
        "optimizer = Adamax(model.parameters(), lr=0.001, eps=1e-08, weight_decay=0.0001)"
      ],
      "execution_count": null,
      "outputs": []
    },
    {
      "cell_type": "code",
      "metadata": {
        "id": "hv5-3J0oU-uA"
      },
      "source": [
        "optimizer.zero_grad()"
      ],
      "execution_count": null,
      "outputs": []
    },
    {
      "cell_type": "code",
      "metadata": {
        "id": "H_Y7AadWsxE_"
      },
      "source": [
        "loss = criterion_1(output, labels) + 0.1 * criterion_2(feat_0, feat_1, labels)"
      ],
      "execution_count": null,
      "outputs": []
    },
    {
      "cell_type": "code",
      "metadata": {
        "id": "C63jkA91V76T"
      },
      "source": [
        "def train(epoch):\r\n",
        "  running_loss, running_accuracy = 0., 0.\r\n",
        "  for batch in range(epoch):\r\n",
        "    data = next(iter(train_dl))\r\n",
        "    inputs , labels = preprocess_data(*data,False)\r\n",
        "    optimizer.zero_grad()\r\n",
        "    output, feat_0, feat_1 = model(*inputs)\r\n",
        "    loss = criterion_1(output, labels) + 0.1 * criterion_2(feat_0, feat_1, labels)\r\n",
        "\r\n",
        "    the_accuracy = accuracy(output, labels).item()\r\n",
        "    running_accuracy += the_accuracy\r\n",
        "    running_loss += loss.item()\r\n",
        "\r\n",
        "    print('EPOCH :',batch,\"RUNNING ACCURACY :\",running_accuracy, '  ',\"RUNNING LOSS:\", running_loss, '\\n')\r\n",
        "    loss.backward()\r\n",
        "    optimizer.step()"
      ],
      "execution_count": null,
      "outputs": []
    },
    {
      "cell_type": "code",
      "metadata": {
        "colab": {
          "base_uri": "https://localhost:8080/"
        },
        "id": "IpbnuurgYh6s",
        "outputId": "80f98541-869e-4ebf-d9eb-176c74c0c953"
      },
      "source": [
        "train(50)"
      ],
      "execution_count": null,
      "outputs": [
        {
          "output_type": "stream",
          "text": [
            "EPOCH : 0 RUNNING ACCURACY : 0.30000001192092896    RUNNING LOSS: 1.181064248085022 \n",
            "\n",
            "EPOCH : 1 RUNNING ACCURACY : 0.6000000238418579    RUNNING LOSS: 2.239732265472412 \n",
            "\n",
            "EPOCH : 2 RUNNING ACCURACY : 0.9000000357627869    RUNNING LOSS: 3.277995467185974 \n",
            "\n",
            "EPOCH : 3 RUNNING ACCURACY : 1.3000000417232513    RUNNING LOSS: 4.325651168823242 \n",
            "\n",
            "EPOCH : 4 RUNNING ACCURACY : 2.0000000298023224    RUNNING LOSS: 5.093396067619324 \n",
            "\n",
            "EPOCH : 5 RUNNING ACCURACY : 2.400000035762787    RUNNING LOSS: 6.2436524629592896 \n",
            "\n",
            "EPOCH : 6 RUNNING ACCURACY : 2.700000047683716    RUNNING LOSS: 7.316940665245056 \n",
            "\n",
            "EPOCH : 7 RUNNING ACCURACY : 3.1000000536441803    RUNNING LOSS: 8.397708296775818 \n",
            "\n",
            "EPOCH : 8 RUNNING ACCURACY : 3.4000000655651093    RUNNING LOSS: 9.480631470680237 \n",
            "\n",
            "EPOCH : 9 RUNNING ACCURACY : 4.000000089406967    RUNNING LOSS: 10.254092335700989 \n",
            "\n",
            "EPOCH : 10 RUNNING ACCURACY : 4.100000090897083    RUNNING LOSS: 11.5436429977417 \n",
            "\n",
            "EPOCH : 11 RUNNING ACCURACY : 4.600000090897083    RUNNING LOSS: 12.44427764415741 \n",
            "\n",
            "EPOCH : 12 RUNNING ACCURACY : 4.900000102818012    RUNNING LOSS: 13.588312029838562 \n",
            "\n",
            "EPOCH : 13 RUNNING ACCURACY : 5.400000102818012    RUNNING LOSS: 14.587530016899109 \n",
            "\n",
            "EPOCH : 14 RUNNING ACCURACY : 5.800000108778477    RUNNING LOSS: 15.597115159034729 \n",
            "\n",
            "EPOCH : 15 RUNNING ACCURACY : 6.100000120699406    RUNNING LOSS: 16.636178255081177 \n",
            "\n",
            "EPOCH : 16 RUNNING ACCURACY : 6.700000144541264    RUNNING LOSS: 17.55603951215744 \n",
            "\n",
            "EPOCH : 17 RUNNING ACCURACY : 7.400000132620335    RUNNING LOSS: 18.424761950969696 \n",
            "\n",
            "EPOCH : 18 RUNNING ACCURACY : 7.900000132620335    RUNNING LOSS: 19.282791912555695 \n",
            "\n",
            "EPOCH : 19 RUNNING ACCURACY : 8.400000132620335    RUNNING LOSS: 20.19356608390808 \n",
            "\n",
            "EPOCH : 20 RUNNING ACCURACY : 8.700000144541264    RUNNING LOSS: 21.234432220458984 \n",
            "\n",
            "EPOCH : 21 RUNNING ACCURACY : 8.80000014603138    RUNNING LOSS: 22.381049513816833 \n",
            "\n",
            "EPOCH : 22 RUNNING ACCURACY : 9.30000014603138    RUNNING LOSS: 23.427810192108154 \n",
            "\n",
            "EPOCH : 23 RUNNING ACCURACY : 9.700000151991844    RUNNING LOSS: 24.46621799468994 \n",
            "\n",
            "EPOCH : 24 RUNNING ACCURACY : 10.500000163912773    RUNNING LOSS: 25.1413551568985 \n",
            "\n",
            "EPOCH : 25 RUNNING ACCURACY : 10.900000169873238    RUNNING LOSS: 26.271676421165466 \n",
            "\n",
            "EPOCH : 26 RUNNING ACCURACY : 11.300000175833702    RUNNING LOSS: 27.233141839504242 \n",
            "\n",
            "EPOCH : 27 RUNNING ACCURACY : 11.700000181794167    RUNNING LOSS: 28.17200070619583 \n",
            "\n",
            "EPOCH : 28 RUNNING ACCURACY : 12.300000205636024    RUNNING LOSS: 29.14072334766388 \n",
            "\n",
            "EPOCH : 29 RUNNING ACCURACY : 12.800000205636024    RUNNING LOSS: 30.083383679389954 \n",
            "\n",
            "EPOCH : 30 RUNNING ACCURACY : 13.300000205636024    RUNNING LOSS: 30.96711039543152 \n",
            "\n",
            "EPOCH : 31 RUNNING ACCURACY : 13.900000229477882    RUNNING LOSS: 31.86325991153717 \n",
            "\n",
            "EPOCH : 32 RUNNING ACCURACY : 14.200000241398811    RUNNING LOSS: 33.01152217388153 \n",
            "\n",
            "EPOCH : 33 RUNNING ACCURACY : 14.600000247359276    RUNNING LOSS: 34.13282549381256 \n",
            "\n",
            "EPOCH : 34 RUNNING ACCURACY : 14.800000250339508    RUNNING LOSS: 35.31934714317322 \n",
            "\n",
            "EPOCH : 35 RUNNING ACCURACY : 15.100000262260437    RUNNING LOSS: 36.40017282962799 \n",
            "\n",
            "EPOCH : 36 RUNNING ACCURACY : 15.800000250339508    RUNNING LOSS: 37.2765434384346 \n",
            "\n",
            "EPOCH : 37 RUNNING ACCURACY : 16.50000023841858    RUNNING LOSS: 38.14592182636261 \n",
            "\n",
            "EPOCH : 38 RUNNING ACCURACY : 17.100000262260437    RUNNING LOSS: 38.96198916435242 \n",
            "\n",
            "EPOCH : 39 RUNNING ACCURACY : 17.800000250339508    RUNNING LOSS: 39.814310133457184 \n",
            "\n",
            "EPOCH : 40 RUNNING ACCURACY : 18.400000274181366    RUNNING LOSS: 40.630367159843445 \n",
            "\n",
            "EPOCH : 41 RUNNING ACCURACY : 18.900000274181366    RUNNING LOSS: 41.65889775753021 \n",
            "\n",
            "EPOCH : 42 RUNNING ACCURACY : 19.30000028014183    RUNNING LOSS: 42.71567952632904 \n",
            "\n",
            "EPOCH : 43 RUNNING ACCURACY : 19.90000030398369    RUNNING LOSS: 43.649550557136536 \n",
            "\n",
            "EPOCH : 44 RUNNING ACCURACY : 20.700000315904617    RUNNING LOSS: 44.43651521205902 \n",
            "\n",
            "EPOCH : 45 RUNNING ACCURACY : 21.100000321865082    RUNNING LOSS: 45.52842724323273 \n",
            "\n",
            "EPOCH : 46 RUNNING ACCURACY : 21.500000327825546    RUNNING LOSS: 46.454930782318115 \n",
            "\n",
            "EPOCH : 47 RUNNING ACCURACY : 22.000000327825546    RUNNING LOSS: 47.37464767694473 \n",
            "\n",
            "EPOCH : 48 RUNNING ACCURACY : 22.700000315904617    RUNNING LOSS: 48.086975395679474 \n",
            "\n",
            "EPOCH : 49 RUNNING ACCURACY : 23.200000315904617    RUNNING LOSS: 49.06085127592087 \n",
            "\n"
          ],
          "name": "stdout"
        }
      ]
    },
    {
      "cell_type": "code",
      "metadata": {
        "colab": {
          "base_uri": "https://localhost:8080/"
        },
        "id": "SKfnBVeWfPI7",
        "outputId": "be2183a1-ea39-467e-d7e3-739afede1b3e"
      },
      "source": [
        "test = next(iter(train_dl))\r\n",
        "inputs , labels = preprocess_data(*test,False)\r\n",
        "output, feat0, feat1 = model(*inputs)\r\n",
        "print(output)\r\n",
        "print(labels)"
      ],
      "execution_count": null,
      "outputs": [
        {
          "output_type": "stream",
          "text": [
            "tensor([[-0.2144,  0.1171],\n",
            "        [-0.1451,  0.1237],\n",
            "        [-0.2418,  0.0516],\n",
            "        [ 0.0081,  0.1123],\n",
            "        [-0.2175,  0.1187],\n",
            "        [-0.1294,  0.0470],\n",
            "        [-0.0567, -0.0321],\n",
            "        [-0.1172,  0.1819],\n",
            "        [-0.1181,  0.0820],\n",
            "        [-0.1862,  0.0399]], grad_fn=<AddmmBackward>)\n",
            "tensor([0, 0, 0, 0, 1, 0, 1, 0, 0, 0])\n"
          ],
          "name": "stdout"
        }
      ]
    },
    {
      "cell_type": "code",
      "metadata": {
        "colab": {
          "base_uri": "https://localhost:8080/"
        },
        "id": "uo21VZn9mm1d",
        "outputId": "50b37c02-9a9a-4b15-85c4-6e94d73b984a"
      },
      "source": [
        "F.softmax(output,dim = 0)"
      ],
      "execution_count": null,
      "outputs": [
        {
          "output_type": "execute_result",
          "data": {
            "text/plain": [
              "tensor([[0.0927, 0.1032],\n",
              "        [0.0994, 0.1039],\n",
              "        [0.0902, 0.0966],\n",
              "        [0.1159, 0.1027],\n",
              "        [0.0925, 0.1033],\n",
              "        [0.1010, 0.0962],\n",
              "        [0.1086, 0.0889],\n",
              "        [0.1022, 0.1101],\n",
              "        [0.1021, 0.0996],\n",
              "        [0.0954, 0.0955]], grad_fn=<SoftmaxBackward>)"
            ]
          },
          "metadata": {
            "tags": []
          },
          "execution_count": 66
        }
      ]
    }
  ]
}