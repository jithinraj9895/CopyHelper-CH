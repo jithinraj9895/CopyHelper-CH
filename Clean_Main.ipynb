{
  "nbformat": 4,
  "nbformat_minor": 0,
  "metadata": {
    "colab": {
      "name": "Clean_Main.ipynb",
      "provenance": [],
      "collapsed_sections": [],
      "authorship_tag": "ABX9TyO+qBeZofl9nssNrHiRtnR7",
      "include_colab_link": true
    },
    "kernelspec": {
      "name": "python3",
      "display_name": "Python 3"
    },
    "accelerator": "GPU"
  },
  "cells": [
    {
      "cell_type": "markdown",
      "metadata": {
        "id": "view-in-github",
        "colab_type": "text"
      },
      "source": [
        "<a href=\"https://colab.research.google.com/github/jithinraj9895/CopyHelper-CH/blob/master/Clean_Main.ipynb\" target=\"_parent\"><img src=\"https://colab.research.google.com/assets/colab-badge.svg\" alt=\"Open In Colab\"/></a>"
      ]
    },
    {
      "cell_type": "code",
      "metadata": {
        "colab": {
          "base_uri": "https://localhost:8080/"
        },
        "id": "vaZ5s4J-e-tC",
        "outputId": "e24efe8c-edf4-4ef6-c74f-680dd59d9819"
      },
      "source": [
        "from google.colab import drive\n",
        "drive.mount('/content/drive')"
      ],
      "execution_count": 1,
      "outputs": [
        {
          "output_type": "stream",
          "text": [
            "Mounted at /content/drive\n"
          ],
          "name": "stdout"
        }
      ]
    },
    {
      "cell_type": "code",
      "metadata": {
        "id": "6T3HtXI0JxJC"
      },
      "source": [
        "   from torchvision.datasets import ImageFolder\n",
        "   from torchvision.transforms import ToTensor\n",
        "   import torchvision.transforms as transforms"
      ],
      "execution_count": 2,
      "outputs": []
    },
    {
      "cell_type": "code",
      "metadata": {
        "id": "MmdaV4_zKUMh"
      },
      "source": [
        "from torch.utils.data.sampler import SubsetRandomSampler\n",
        "from torch.utils.data.dataloader import DataLoader\n",
        "import torch\n",
        "\n",
        "import os\n",
        "dir = \"/content/drive/MyDrive/mnist_stego\"\n",
        "\n",
        "dataset = ImageFolder(dir, transform= transforms.Compose([ transforms.Grayscale(num_output_channels=1), ToTensor()]))\n",
        "\n",
        "train_dl = DataLoader(dataset, batch_size=32,shuffle= True)"
      ],
      "execution_count": null,
      "outputs": []
    },
    {
      "cell_type": "code",
      "metadata": {
        "colab": {
          "base_uri": "https://localhost:8080/"
        },
        "id": "9xd6h73eiCgw",
        "outputId": "c8b16d78-977a-4be3-de11-7c7c110f0094"
      },
      "source": [
        "print(len(train_dl))"
      ],
      "execution_count": null,
      "outputs": [
        {
          "output_type": "stream",
          "text": [
            "190\n"
          ],
          "name": "stdout"
        }
      ]
    },
    {
      "cell_type": "code",
      "metadata": {
        "id": "uxGSg476q58I"
      },
      "source": [
        "print(dataset.classes)"
      ],
      "execution_count": null,
      "outputs": []
    },
    {
      "cell_type": "code",
      "metadata": {
        "colab": {
          "base_uri": "https://localhost:8080/"
        },
        "id": "fv9ss41RLqoa",
        "outputId": "64058431-df3c-407c-9356-195e131d4f85"
      },
      "source": [
        "data = next(iter(train_dl))\n",
        "inputs, labels = data\n",
        "\n",
        "print(inputs.shape)\n",
        "print(labels)"
      ],
      "execution_count": null,
      "outputs": [
        {
          "output_type": "stream",
          "text": [
            "torch.Size([32, 1, 28, 28])\n",
            "tensor([1, 1, 1, 1, 1, 1, 1, 1, 0, 1, 0, 1, 1, 0, 0, 1, 0, 1, 1, 0, 0, 1, 1, 0,\n",
            "        0, 1, 0, 0, 0, 0, 0, 1])\n"
          ],
          "name": "stdout"
        }
      ]
    },
    {
      "cell_type": "code",
      "metadata": {
        "id": "ef1fCcdBfOrP"
      },
      "source": [
        "import numpy as np\n",
        "import os\n",
        "import matplotlib.pyplot as plt\n",
        "import cv2\n",
        "import numpy as np\n",
        "import PIL as image\n",
        "import pickle as pl\n",
        "\n",
        "srm_dir = \"/content/drive/MyDrive\"\n",
        "SRM_npy = np.load(os.path.join(srm_dir,\"SRM_Kernels.npy\"))"
      ],
      "execution_count": 3,
      "outputs": []
    },
    {
      "cell_type": "code",
      "metadata": {
        "id": "XRV3meWgfREa"
      },
      "source": [
        "import torch.nn as nn\n",
        "import torch.nn.functional as F"
      ],
      "execution_count": 4,
      "outputs": []
    },
    {
      "cell_type": "code",
      "metadata": {
        "id": "RFnOgDElfhYS"
      },
      "source": [
        "def activation(x):\n",
        "  a = torch.ones(x.shape)\n",
        "  a = torch.mul(a, 3)\n",
        "  return torch.where(x > -3,x,a)\n",
        "\n",
        "\n",
        "class the_tlu(nn.Module):\n",
        "    def __init__(self):\n",
        "        super(the_tlu, self).__init__()\n",
        "        \n",
        "    def forward(self, x):\n",
        "        return activation(x)"
      ],
      "execution_count": 5,
      "outputs": []
    },
    {
      "cell_type": "code",
      "metadata": {
        "id": "h4kAMlksgM2F"
      },
      "source": [
        "import torch\n",
        "import torch.nn as nn\n",
        "from torch.optim.adamax import Adamax\n",
        "from torch.optim.adadelta import Adadelta\n",
        "import numpy as np\n",
        "import torch\n",
        "import torch.nn.functional as F\n",
        "from torch import nn\n",
        "from torch.nn import Parameter"
      ],
      "execution_count": 6,
      "outputs": []
    },
    {
      "cell_type": "code",
      "metadata": {
        "id": "-tgB-4SAhO52"
      },
      "source": [
        "\n",
        "\n",
        "class SRMConv2d(nn.Module):\n",
        "\n",
        "    def __init__(self, stride=1, padding=0):\n",
        "        super(SRMConv2d, self).__init__()\n",
        "        self.in_channels = 1\n",
        "        self.out_channels = 30\n",
        "        self.kernel_size = (5, 5)\n",
        "        if isinstance(stride, int):\n",
        "            self.stride = (stride, stride)\n",
        "        else:\n",
        "            self.stride = stride\n",
        "        if isinstance(padding, int):\n",
        "            self.padding = (padding, padding)\n",
        "        else:\n",
        "            self.padding = padding\n",
        "        self.dilation = (1, 1)\n",
        "        self.transpose = False\n",
        "        self.output_padding = (0,)\n",
        "        self.groups = 1\n",
        "        self.weight = Parameter(torch.Tensor(30, 1, 5, 5), requires_grad=True)\n",
        "        self.bias = Parameter(torch.Tensor(30), requires_grad=True)\n",
        "        self.reset_parameters()\n",
        "\n",
        "    def reset_parameters(self):\n",
        "        self.weight.data.numpy()[:] = SRM_npy\n",
        "        self.bias.data.zero_()\n",
        "\n",
        "    def forward(self, input):\n",
        "        return F.conv2d(input, self.weight, self.bias, self.stride, self.padding,\n",
        "                        self.dilation, self.groups)\n",
        "\n",
        "\n",
        "class BlockA(nn.Module):\n",
        "\n",
        "    def __init__(self, in_planes, out_planes, norm_layer=None,activation = nn.ReLU(inplace=True)):\n",
        "        super(BlockA, self).__init__()\n",
        "\n",
        "        if norm_layer is None:\n",
        "            norm_layer = nn.BatchNorm2d\n",
        "\n",
        "        self.conv1 = conv3x3(in_planes, out_planes)\n",
        "        self.bn1 = norm_layer(out_planes)\n",
        "        self.conv2 = conv3x3(out_planes, out_planes)\n",
        "        self.bn2 = norm_layer(out_planes)\n",
        "\n",
        "        self.relu = nn.ReLU(inplace=True)\n",
        "\n",
        "    def forward(self, x):\n",
        "        identity = x\n",
        "\n",
        "        out = self.conv1(x)\n",
        "        out = self.bn1(out)\n",
        "        out = self.relu(out)\n",
        "\n",
        "        out = self.conv2(out)\n",
        "        out = self.bn2(out)\n",
        "\n",
        "        out += identity\n",
        "        out = self.relu(out)\n",
        "\n",
        "        return out"
      ],
      "execution_count": 7,
      "outputs": []
    },
    {
      "cell_type": "code",
      "metadata": {
        "id": "XR-kU_0jj-fm"
      },
      "source": [
        "\n",
        "def accuracy(outputs, labels):\n",
        "    _, argmax = torch.max(outputs, 1)\n",
        "    return (labels == argmax.squeeze()).float().mean()\n",
        "\n",
        "\n",
        "def conv3x3(in_planes, out_planes, stride=1, groups=1, dilation=1):\n",
        "    return nn.Conv2d(in_planes, out_planes, kernel_size=3, stride=stride,\n",
        "                     padding=dilation, groups=groups, bias=False, dilation=dilation)\n",
        "\n",
        "\n",
        "def conv1x1(in_planes, out_planes, stride=1):\n",
        "    return nn.Conv2d(in_planes, out_planes, kernel_size=1, stride=stride, bias=False)\n",
        "\n"
      ],
      "execution_count": 8,
      "outputs": []
    },
    {
      "cell_type": "code",
      "metadata": {
        "id": "iymQw_QPj8M6"
      },
      "source": [
        "class BlockB(nn.Module):\n",
        "\n",
        "    def __init__(self, in_planes, out_planes, norm_layer=None):\n",
        "        super(BlockB, self).__init__()\n",
        "\n",
        "        if norm_layer is None:\n",
        "            norm_layer = nn.BatchNorm2d\n",
        "\n",
        "        self.conv1 = conv3x3(in_planes, out_planes, stride=2)\n",
        "        self.bn1 = norm_layer(out_planes)\n",
        "        self.conv2 = conv3x3(out_planes, out_planes)\n",
        "        self.bn2 = norm_layer(out_planes)\n",
        "        # self.pool = nn.AvgPool2d(3, stride=2, padding=1)\n",
        "\n",
        "        self.shortcut_conv = conv1x1(in_planes, out_planes, stride=2)\n",
        "        self.shortcut_bn = norm_layer(out_planes)\n",
        "\n",
        "        self.relu = nn.ReLU(inplace=True)\n",
        "\n",
        "    def forward(self, x):\n",
        "        identity = x\n",
        "\n",
        "        out = self.conv1(x)\n",
        "        out = self.bn1(out)\n",
        "        out = self.relu(out)\n",
        "\n",
        "        out = self.conv2(out)\n",
        "        out = self.bn2(out)\n",
        "        # out = self.pool(out)\n",
        "\n",
        "        identity = self.shortcut_conv(identity)\n",
        "        identity = self.shortcut_bn(identity)\n",
        "\n",
        "        out += identity\n",
        "        out = self.relu(out)\n",
        "\n",
        "        return out\n"
      ],
      "execution_count": 10,
      "outputs": []
    },
    {
      "cell_type": "code",
      "metadata": {
        "id": "syGiDmSgkECX"
      },
      "source": [
        "class KeNet(nn.Module):\n",
        "\n",
        "    def __init__(self, norm_layer=None, zero_init_residual=True, p=0.5):\n",
        "        super(KeNet, self).__init__()\n",
        "\n",
        "        self.zero_init_residual = zero_init_residual\n",
        "\n",
        "        if norm_layer is None:\n",
        "            norm_layer = nn.BatchNorm2d\n",
        "\n",
        "        self.srm = SRMConv2d(1, 0)\n",
        "        self.bn1 = norm_layer(30)\n",
        "\n",
        "        self.A1 = BlockA(30, 30, norm_layer=norm_layer)\n",
        "        self.A2 = BlockA(30, 30, norm_layer=norm_layer)\n",
        "        self.AA = BlockA(30, 30, norm_layer=norm_layer)\n",
        "\n",
        "        # self.B1 = BlockB(30, 30, norm_layer=norm_layer)\n",
        "        # self.B2 = BlockB(30, 64, norm_layer=norm_layer)\n",
        "\n",
        "        self.B3 = BlockB(30, 64, norm_layer=norm_layer)\n",
        "        self.A3 = BlockA(64, 64, norm_layer=norm_layer)\n",
        "\n",
        "        self.B4 = BlockB(64, 128, norm_layer=norm_layer)\n",
        "        self.A4 = BlockA(128, 128, norm_layer=norm_layer)\n",
        "\n",
        "        self.avgpool = nn.AdaptiveAvgPool2d((1, 1))\n",
        "        # self.bnfc = nn.BatchNorm1d(128)\n",
        "        self.relu = nn.ReLU(inplace=True)\n",
        "        # self.fcfusion = nn.Linear(128, 128) #4\n",
        "        self.fc = nn.Linear(128 * 4 + 1, 2)\n",
        "        self.dropout = nn.Dropout(p=p)\n",
        "\n",
        "        self.reset_parameters()\n",
        "\n",
        "    def reset_parameters(self):\n",
        "        for m in self.modules():\n",
        "            if isinstance(m, nn.Conv2d):\n",
        "                # nn.init.xavier_uniform_(m.weight)\n",
        "                # nn.init.constant_(m.bias, 0.2)\n",
        "                nn.init.kaiming_normal_(m.weight, mode='fan_out', nonlinearity='relu')\n",
        "            elif isinstance(m, nn.BatchNorm2d):\n",
        "                nn.init.constant_(m.weight, 1)\n",
        "                nn.init.constant_(m.bias, 0)\n",
        "            elif isinstance(m, nn.Linear):\n",
        "                nn.init.normal_(m.weight, std=0.01)\n",
        "\n",
        "        if self.zero_init_residual:\n",
        "            for m in self.modules():\n",
        "                if isinstance(m, (BlockA, BlockB)):\n",
        "                    nn.init.constant_(m.bn2.weight, 0)\n",
        "\n",
        "    def extract_feat(self, x):\n",
        "        x = x.float()\n",
        "        out = self.srm(x)\n",
        "        out = self.bn1(out)\n",
        "        out = self.relu(out)\n",
        "\n",
        "        out = self.A1(out)\n",
        "        out = self.A2(out)\n",
        "        out = self.AA(out)\n",
        "\n",
        "        # out = self.B1(out)\n",
        "        # out = self.B2(out)\n",
        "\n",
        "        out = self.B3(out)\n",
        "        out = self.A3(out)\n",
        "\n",
        "        out = self.B4(out)\n",
        "        out = self.A4(out)\n",
        "\n",
        "        out = self.avgpool(out)\n",
        "        out = out.view(out.size(0), out.size(1))\n",
        "\n",
        "        # out = self.relu(out)\n",
        "        # out = self.bnfc(out)\n",
        "\n",
        "        return out\n",
        "\n",
        "    def forward(self, *args):\n",
        "        ############# statistics fusion start #############\n",
        "        feats = torch.stack(\n",
        "            [self.extract_feat(subarea) for subarea in args], dim=0\n",
        "        )\n",
        "\n",
        "        euclidean_distance = F.pairwise_distance(feats[0], feats[1], eps=1e-6,\n",
        "                                                 keepdim=True)\n",
        "\n",
        "        if feats.shape[0] == 1:\n",
        "            final_feat = feats.squeeze(dim=0)\n",
        "        else:\n",
        "            # feats_sum = feats.sum(dim=0)\n",
        "            # feats_sub = feats[0] - feats[1]\n",
        "            feats_mean = feats.mean(dim=0)\n",
        "            feats_var = feats.var(dim=0)\n",
        "            feats_min, _ = feats.min(dim=0)\n",
        "            feats_max, _ = feats.max(dim=0)\n",
        "\n",
        "            '''feats_sum = feats.sum(dim=0)\n",
        "            feats_sub = abs(feats[0] - feats[1])\n",
        "            feats_prod = feats.prod(dim=0)\n",
        "            feats_max, _ = feats.max(dim=0)'''\n",
        "            \n",
        "            #final_feat = torch.cat(\n",
        "            #    [feats[0], feats[1], feats[0], feats[1]], dim=-1\n",
        "            #    #[euclidean_distance, feats_sum, feats_sub, feats_prod, feats_max], dim=-1\n",
        "            #)\n",
        "\n",
        "            final_feat = torch.cat(\n",
        "                [euclidean_distance, feats_mean, feats_var, feats_min, feats_max], dim=-1\n",
        "                #[euclidean_distance, feats_sum, feats_sub, feats_prod, feats_max], dim=-1\n",
        "            )\n",
        "\n",
        "        out = self.dropout(final_feat)\n",
        "        # out = self.fcfusion(out)\n",
        "        # out = self.relu(out)\n",
        "        out = self.fc(out)\n",
        "\n",
        "        return out, feats[0], feats[1]\n"
      ],
      "execution_count": 11,
      "outputs": []
    },
    {
      "cell_type": "code",
      "metadata": {
        "id": "75JIv1swkKYs"
      },
      "source": [
        "def preprocess_data(images, labels, random_crop):\n",
        "    # images of shape: NxCxHxW\n",
        "    if images.ndim == 5:  # 1xNxCxHxW\n",
        "        images = images.squeeze(0)\n",
        "        labels = labels.squeeze(0)\n",
        "    h, w = images.shape[-2:]\n",
        "\n",
        "    if random_crop:\n",
        "        ch = random.randint(h * 3 // 4, h)  # h // 2      #256\n",
        "        cw = random.randint(w * 3 // 4, w)  # square ch   #256\n",
        "\n",
        "        h0 = random.randint(0, h - ch)  # 128\n",
        "        w0 = random.randint(0, w - cw)  # 128\n",
        "    else:\n",
        "        ch, cw, h0, w0 = h, w, 0, 0\n",
        " \n",
        "    cw = cw & ~1\n",
        "    inputs = [\n",
        "                images[..., h0:h0 + ch, w0:w0 + cw // 2],\n",
        "                images[..., h0:h0 + ch, w0 + cw // 2:w0 + cw]\n",
        "        ]\n",
        "        \n",
        "    return inputs, labels"
      ],
      "execution_count": 12,
      "outputs": []
    },
    {
      "cell_type": "code",
      "metadata": {
        "id": "XGbJpr35kP9x"
      },
      "source": [
        "class ContrastiveLoss(nn.Module):\n",
        "\n",
        "    def __init__(self, margin=1.25):  # margin=2\n",
        "        super(ContrastiveLoss, self).__init__()\n",
        "        self.margin = margin\n",
        "\n",
        "    def forward(self, output1, output2, label):\n",
        "        label = label.to(torch.float32)\n",
        "        euclidean_distance = F.pairwise_distance(output1, output2)\n",
        "        loss_contrastive = torch.mean(\n",
        "            (1 - label) * torch.pow(euclidean_distance, 2) +\n",
        "            label * torch.pow(torch.clamp(self.margin - euclidean_distance, min=0.0), 2)\n",
        "        )\n",
        "\n",
        "        return loss_contrastive"
      ],
      "execution_count": 13,
      "outputs": []
    },
    {
      "cell_type": "code",
      "metadata": {
        "id": "LWrAjBzGnulQ"
      },
      "source": [
        "model = KeNet(norm_layer=None, zero_init_residual=True, p=0.5)"
      ],
      "execution_count": 14,
      "outputs": []
    },
    {
      "cell_type": "code",
      "metadata": {
        "id": "HCfXKC1qkSx6"
      },
      "source": [
        "criterion_1 = nn.CrossEntropyLoss()\n",
        "criterion_2 = ContrastiveLoss(margin=1)"
      ],
      "execution_count": 15,
      "outputs": []
    },
    {
      "cell_type": "code",
      "metadata": {
        "id": "PI4AfgRlk8O4"
      },
      "source": [
        "data = next(iter(train_dl))"
      ],
      "execution_count": null,
      "outputs": []
    },
    {
      "cell_type": "code",
      "metadata": {
        "colab": {
          "base_uri": "https://localhost:8080/"
        },
        "id": "w2b-vIu-mecy",
        "outputId": "157987b5-30d3-4901-eecd-5b08dea35fb0"
      },
      "source": [
        "imgs, label = data\n",
        "print(imgs.shape, label.shape)"
      ],
      "execution_count": null,
      "outputs": [
        {
          "output_type": "stream",
          "text": [
            "torch.Size([10, 1, 28, 28]) torch.Size([10])\n"
          ],
          "name": "stdout"
        }
      ]
    },
    {
      "cell_type": "code",
      "metadata": {
        "colab": {
          "base_uri": "https://localhost:8080/"
        },
        "id": "BfLinZQImsQ5",
        "outputId": "e9f4c651-2595-4dc6-cbcf-bdc3da917d4a"
      },
      "source": [
        "inputs , labels = preprocess_data(*data,False)\n",
        "output, feat_0, feat_1 = model(*inputs)\n",
        "\n",
        "print(output,feat_0,feat_1)\n",
        "print(output.shape)"
      ],
      "execution_count": null,
      "outputs": [
        {
          "output_type": "stream",
          "text": [
            "tensor([[-0.0570,  0.0979],\n",
            "        [ 0.0166,  0.0476],\n",
            "        [ 0.0298,  0.0207],\n",
            "        [ 0.0054,  0.0356],\n",
            "        [ 0.0506, -0.0063],\n",
            "        [-0.0585,  0.1010],\n",
            "        [-0.0357,  0.0741],\n",
            "        [ 0.0532, -0.0012],\n",
            "        [ 0.0062,  0.0508],\n",
            "        [-0.0571,  0.0979]], grad_fn=<AddmmBackward>) tensor([[0.1886, 0.2415, 0.4465,  ..., 0.1046, 0.2226, 0.2636],\n",
            "        [0.2070, 0.2435, 0.4370,  ..., 0.1660, 0.1074, 0.2305],\n",
            "        [0.1251, 0.2095, 0.4968,  ..., 0.0831, 0.1254, 0.1909],\n",
            "        ...,\n",
            "        [0.1428, 0.1893, 0.4391,  ..., 0.1197, 0.0586, 0.2107],\n",
            "        [0.1543, 0.2271, 0.4634,  ..., 0.1171, 0.1076, 0.2154],\n",
            "        [0.1882, 0.2416, 0.4465,  ..., 0.1048, 0.2223, 0.2636]],\n",
            "       grad_fn=<SelectBackward>) tensor([[0.1774, 0.2487, 0.4449,  ..., 0.1032, 0.2344, 0.2790],\n",
            "        [0.1539, 0.2143, 0.4542,  ..., 0.1332, 0.0598, 0.2136],\n",
            "        [0.1318, 0.2001, 0.4960,  ..., 0.0939, 0.1001, 0.1667],\n",
            "        ...,\n",
            "        [0.1623, 0.1735, 0.3709,  ..., 0.1550, 0.0174, 0.2275],\n",
            "        [0.2073, 0.2366, 0.4215,  ..., 0.1582, 0.1203, 0.2138],\n",
            "        [0.1772, 0.2489, 0.4448,  ..., 0.1035, 0.2342, 0.2792]],\n",
            "       grad_fn=<SelectBackward>)\n",
            "torch.Size([10, 2])\n"
          ],
          "name": "stdout"
        }
      ]
    },
    {
      "cell_type": "code",
      "metadata": {
        "colab": {
          "base_uri": "https://localhost:8080/"
        },
        "id": "cNWZtmSfDQ2o",
        "outputId": "9cfef33d-8ad6-45a9-802c-b7ac49bf7c30"
      },
      "source": [
        "print(feat_0.shape)"
      ],
      "execution_count": null,
      "outputs": [
        {
          "output_type": "stream",
          "text": [
            "torch.Size([10, 128])\n"
          ],
          "name": "stdout"
        }
      ]
    },
    {
      "cell_type": "code",
      "metadata": {
        "id": "K5XVw46tVEgq"
      },
      "source": [
        "optimizer = Adamax(model.parameters(), lr=0.00001, eps=1e-08, weight_decay=0.0001)"
      ],
      "execution_count": 27,
      "outputs": []
    },
    {
      "cell_type": "code",
      "metadata": {
        "id": "hv5-3J0oU-uA"
      },
      "source": [
        "optimizer.zero_grad()"
      ],
      "execution_count": null,
      "outputs": []
    },
    {
      "cell_type": "code",
      "metadata": {
        "id": "H_Y7AadWsxE_"
      },
      "source": [
        "loss = criterion_1(output, labels) + 0.1 * criterion_2(feat_0, feat_1, labels)"
      ],
      "execution_count": null,
      "outputs": []
    },
    {
      "cell_type": "code",
      "metadata": {
        "id": "Iq_wn4oBeUbX"
      },
      "source": [
        "#  VALIDATION AND TRAINING STARTS #"
      ],
      "execution_count": null,
      "outputs": []
    },
    {
      "cell_type": "code",
      "metadata": {
        "id": "S8XNYMUvTWtj"
      },
      "source": [
        "def set_random_seed(seed=None):\n",
        "    \"\"\"Sets random seed for reproducibility.\n",
        "\n",
        "    Args:\n",
        "        seed (int, optional): Random seed.\n",
        "    \"\"\"\n",
        "    if seed is None:\n",
        "        seed = (\n",
        "                os.getpid()\n",
        "                + int(datetime.now().strftime(\"%S%f\"))\n",
        "                + int.from_bytes(os.urandom(2), \"big\")\n",
        "        )\n",
        "        logger = logging.getLogger(__name__)\n",
        "        logger.info('Using a generated random seed {}'.format(seed))\n",
        "    random.seed(seed)\n",
        "    np.random.seed(seed)\n",
        "    torch.set_rng_state(torch.manual_seed(seed).get_state())\n",
        "\n",
        "\n",
        "def get_random_seed():\n",
        "    return np.random.randint(2 ** 31)"
      ],
      "execution_count": 17,
      "outputs": []
    },
    {
      "cell_type": "code",
      "metadata": {
        "id": "bx0HIDrzL5lU"
      },
      "source": [
        "import torchvision\n",
        "import itertools\n",
        "import logging\n",
        "import math\n",
        "\n",
        "\n",
        "from torch.utils.data import BatchSampler\n",
        "from torch.utils.data import DataLoader\n",
        "from torch.utils.data import Sampler\n",
        "from torch.utils.data import SequentialSampler\n",
        "\n",
        "\n",
        "\n",
        "\n",
        "\n",
        "\n",
        "class TrainingSampler(Sampler):\n",
        "\n",
        "    def __init__(self, size, seed=None, shuffle=True):\n",
        "        self._size = size\n",
        "        self._shuffle = shuffle\n",
        "\n",
        "        if seed is None:\n",
        "            seed = get_random_seed()\n",
        "        self._seed = seed\n",
        "\n",
        "    def __iter__(self):\n",
        "        yield from itertools.islice(self._infinite_indices(), 0, None, 1)\n",
        "\n",
        "    def _infinite_indices(self):\n",
        "        g = torch.Generator()\n",
        "        g.manual_seed(self._seed)\n",
        "        while True:\n",
        "            if self._shuffle:\n",
        "                yield from torch.randperm(self._size, generator=g)\n",
        "            else:\n",
        "                yield from torch.arange(self._size)\n",
        "\n",
        "\n",
        "class BalancedBatchSampler(BatchSampler):\n",
        "\n",
        "    def __init__(self, sampler, group_ids, batch_size):\n",
        "        \"\"\"\n",
        "        Args:\n",
        "            sampler (Sampler): Base sampler.\n",
        "            group_ids (list[int]): If the sampler produces indices in range [0, N),\n",
        "                `group_ids` must be a list of `N` ints which contains the group id of each\n",
        "                sample. The group ids must be a set of integers in [0, num_groups).\n",
        "            batch_size (int): Size of mini-batch.\n",
        "        \"\"\"\n",
        "        if not isinstance(sampler, Sampler):\n",
        "            raise ValueError(\"sampler should be an instance of torch.utils.data.Sampler, \"\n",
        "                             \"but got sampler={}\".format(sampler))\n",
        "\n",
        "        self._sampler = sampler\n",
        "        self._group_ids = np.asarray(group_ids)\n",
        "        assert self._group_ids.ndim == 1\n",
        "        self._batch_size = batch_size\n",
        "        groups = np.unique(self._group_ids).tolist()\n",
        "        assert batch_size % len(groups) == 0\n",
        "\n",
        "        # buffer the indices of each group until batch size is reached\n",
        "        self._buffer_per_group = {k: [] for k in groups}\n",
        "        self._group_size = batch_size // len(groups)\n",
        "\n",
        "    def __iter__(self):\n",
        "        for idx in self._sampler:\n",
        "            group_id = self._group_ids[idx]\n",
        "            self._buffer_per_group[group_id].append(idx)\n",
        "            if all(len(v) >= self._group_size for k, v in self._buffer_per_group.items()):\n",
        "                idxs = []\n",
        "                # Collect across all groups\n",
        "                for k, v in self._buffer_per_group.items():\n",
        "                    idxs.extend(v[:self._group_size])\n",
        "                    del v[:self._group_size]\n",
        "\n",
        "                idxs = np.random.permutation(idxs)\n",
        "                yield idxs\n",
        "\n",
        "    def __len__(self):\n",
        "        raise NotImplementedError(\"len() of GroupedBatchSampler is not well-defined.\")\n",
        "\n",
        "\n",
        "def build_train_loader(cover_dir, stego_dir, batch_size=32, num_workers=0):\n",
        "    transform = transforms.Compose([\n",
        "        RandomRot(),\n",
        "        RandomFlip(),\n",
        "        ToTensor(),\n",
        "    ])\n",
        "    dataset = CoverStegoDataset(cover_dir, stego_dir, transform)\n",
        "\n",
        "    print(dataset.images)\n",
        "\n",
        "    size = len(dataset)\n",
        "\n",
        "    sampler = TrainingSampler(size)\n",
        "\n",
        "\n",
        "    batch_sampler = BalancedBatchSampler(sampler, dataset.labels, batch_size)\n",
        "    \n",
        "    print(batch_sampler)\n",
        "    epoch_length = math.ceil(size / batch_size)\n",
        "\n",
        "\n",
        "    train_loader = DataLoader(\n",
        "        dataset,\n",
        "        batch_sampler=batch_sampler,\n",
        "        num_workers=num_workers,\n",
        "        worker_init_fn= worker_init_reset_seed(0)\n",
        "    )\n",
        "    return train_loader, epoch_length\n",
        "\n",
        "def worker_init_reset_seed(worker_id):\n",
        "    set_random_seed(np.random.randint(2 ** 31) + worker_id)"
      ],
      "execution_count": 18,
      "outputs": []
    },
    {
      "cell_type": "code",
      "metadata": {
        "id": "KK-DnUZ0UoMU"
      },
      "source": [
        "import numpy as np\n",
        "from torch.utils.data import Dataset\n",
        "from PIL import Image\n",
        "import cv2\n",
        "\n",
        "\n",
        "class CoverStegoDataset(Dataset):\n",
        "\n",
        "    def __init__(self, cover_dir, stego_dir, transform=None):\n",
        "        self._transform = transform\n",
        "\n",
        "        self.images, self.labels = self.get_items(cover_dir, stego_dir)\n",
        "\n",
        "    def __len__(self):\n",
        "        return len(self.images)\n",
        "\n",
        "    def __getitem__(self, idx):\n",
        "        image = np.array(Image.open(self.images[idx]))\n",
        "        image = np.expand_dims(image, 2)  # (H, W, C)\n",
        "        assert image.ndim == 3\n",
        "\n",
        "        sample = {\n",
        "            'image': image,\n",
        "            'label': self.labels[idx]\n",
        "        }\n",
        "\n",
        "        if self._transform:\n",
        "            sample = self._transform(sample)\n",
        "        return sample\n",
        "\n",
        "    @staticmethod\n",
        "    def get_items(cover_dir, stego_dir):\n",
        "        images, labels = [], []\n",
        "\n",
        "        cover_names = sorted(os.listdir(cover_dir))\n",
        "        if stego_dir is not None:\n",
        "            stego_names = sorted(os.listdir(stego_dir))\n",
        "            assert cover_names == stego_names\n",
        "\n",
        "        file_names = cover_names\n",
        "        if stego_dir is None:\n",
        "            dir_to_label = [(cover_dir, 0), ]\n",
        "        else:\n",
        "            dir_to_label = [(cover_dir, 0), (stego_dir, 1)]\n",
        "        for image_dir, label in dir_to_label:\n",
        "            for file_name in file_names:\n",
        "                image_path = os.path.join(image_dir, file_name)\n",
        "                if not os.path.isfile(image_path):\n",
        "                    raise FileNotFoundError('{} not exists'.format(image_path))\n",
        "                images.append(image_path)\n",
        "                labels.append(label)\n",
        "\n",
        "        return images, labels"
      ],
      "execution_count": 19,
      "outputs": []
    },
    {
      "cell_type": "code",
      "metadata": {
        "id": "j7xayQfnPoxb"
      },
      "source": [
        "import numpy as np\n",
        "import torch\n",
        "import random\n",
        "\n",
        "\n",
        "class RandomRot(object):\n",
        "\n",
        "    def __call__(self, sample):\n",
        "        rot = random.randint(0, 3)\n",
        "        return {\n",
        "            'image': np.rot90(sample['image'], rot, axes=[-3, -2]).copy(),\n",
        "            'label': sample['label'],\n",
        "        }\n",
        "\n",
        "\n",
        "class RandomFlip(object):\n",
        "\n",
        "    def __init__(self, p=0.5):\n",
        "        self._p = p\n",
        "\n",
        "    def __call__(self, sample):\n",
        "        if random.random() < self._p:\n",
        "            return {\n",
        "                'image': np.flip(sample['image'], axis=-2).copy(),\n",
        "                'label': sample['label'],\n",
        "            }\n",
        "        else:\n",
        "            return sample\n",
        "\n",
        "\n",
        "class ToTensor(object):\n",
        "\n",
        "    def __call__(self, sample):\n",
        "        image, label = sample['image'], sample['label']\n",
        "        if image.ndim == 3:  # HxWxC\n",
        "            image = image.transpose(2, 0, 1)\n",
        "        else:  # NxHxWxC\n",
        "            image = image.transpose(0, 3, 1, 2)\n",
        "        return {\n",
        "            'image': torch.from_numpy(image).type(torch.FloatTensor),\n",
        "            'label': torch.tensor(label).long()\n",
        "        }\n"
      ],
      "execution_count": 20,
      "outputs": []
    },
    {
      "cell_type": "code",
      "metadata": {
        "id": "ml7PWEMFP0b4"
      },
      "source": [
        "covr_dir = \"/content/drive/MyDrive/the_dataset/cover/\"\n",
        "steg_dir = \"/content/drive/MyDrive/the_dataset/stego/\"\n",
        "\n"
      ],
      "execution_count": 21,
      "outputs": []
    },
    {
      "cell_type": "code",
      "metadata": {
        "id": "rsZc7hMUwrN8"
      },
      "source": [
        "print(sorted(os.listdir(covr_dir)),\"==================\\n\",sorted(os.listdir(steg_dir)))"
      ],
      "execution_count": null,
      "outputs": []
    },
    {
      "cell_type": "code",
      "metadata": {
        "id": "r2ukSmf-VLdP",
        "colab": {
          "base_uri": "https://localhost:8080/"
        },
        "outputId": "f8b4b812-449f-4a1e-fc0f-612f99cf8425"
      },
      "source": [
        "train_loader, epoch_length = build_train_loader(\n",
        "        covr_dir, steg_dir, batch_size=10,\n",
        "        num_workers = 0\n",
        "    )"
      ],
      "execution_count": 23,
      "outputs": [
        {
          "output_type": "stream",
          "text": [
            "['/content/drive/MyDrive/the_dataset/cover/1.pgm', '/content/drive/MyDrive/the_dataset/cover/10.pgm', '/content/drive/MyDrive/the_dataset/cover/100.pgm', '/content/drive/MyDrive/the_dataset/cover/1000.pgm', '/content/drive/MyDrive/the_dataset/cover/101.pgm', '/content/drive/MyDrive/the_dataset/cover/102.pgm', '/content/drive/MyDrive/the_dataset/cover/103.pgm', '/content/drive/MyDrive/the_dataset/cover/104.pgm', '/content/drive/MyDrive/the_dataset/cover/105.pgm', '/content/drive/MyDrive/the_dataset/cover/106.pgm', '/content/drive/MyDrive/the_dataset/cover/107.pgm', '/content/drive/MyDrive/the_dataset/cover/108.pgm', '/content/drive/MyDrive/the_dataset/cover/109.pgm', '/content/drive/MyDrive/the_dataset/cover/11.pgm', '/content/drive/MyDrive/the_dataset/cover/110.pgm', '/content/drive/MyDrive/the_dataset/cover/111.pgm', '/content/drive/MyDrive/the_dataset/cover/112.pgm', '/content/drive/MyDrive/the_dataset/cover/113.pgm', '/content/drive/MyDrive/the_dataset/cover/114.pgm', '/content/drive/MyDrive/the_dataset/cover/115.pgm', '/content/drive/MyDrive/the_dataset/cover/116.pgm', '/content/drive/MyDrive/the_dataset/cover/117.pgm', '/content/drive/MyDrive/the_dataset/cover/118.pgm', '/content/drive/MyDrive/the_dataset/cover/119.pgm', '/content/drive/MyDrive/the_dataset/cover/12.pgm', '/content/drive/MyDrive/the_dataset/cover/120.pgm', '/content/drive/MyDrive/the_dataset/cover/121.pgm', '/content/drive/MyDrive/the_dataset/cover/122.pgm', '/content/drive/MyDrive/the_dataset/cover/123.pgm', '/content/drive/MyDrive/the_dataset/cover/124.pgm', '/content/drive/MyDrive/the_dataset/cover/125.pgm', '/content/drive/MyDrive/the_dataset/cover/126.pgm', '/content/drive/MyDrive/the_dataset/cover/127.pgm', '/content/drive/MyDrive/the_dataset/cover/128.pgm', '/content/drive/MyDrive/the_dataset/cover/129.pgm', '/content/drive/MyDrive/the_dataset/cover/13.pgm', '/content/drive/MyDrive/the_dataset/cover/130.pgm', '/content/drive/MyDrive/the_dataset/cover/131.pgm', '/content/drive/MyDrive/the_dataset/cover/132.pgm', '/content/drive/MyDrive/the_dataset/cover/133.pgm', '/content/drive/MyDrive/the_dataset/cover/134.pgm', '/content/drive/MyDrive/the_dataset/cover/135.pgm', '/content/drive/MyDrive/the_dataset/cover/136.pgm', '/content/drive/MyDrive/the_dataset/cover/137.pgm', '/content/drive/MyDrive/the_dataset/cover/138.pgm', '/content/drive/MyDrive/the_dataset/cover/139.pgm', '/content/drive/MyDrive/the_dataset/cover/14.pgm', '/content/drive/MyDrive/the_dataset/cover/140.pgm', '/content/drive/MyDrive/the_dataset/cover/141.pgm', '/content/drive/MyDrive/the_dataset/cover/142.pgm', '/content/drive/MyDrive/the_dataset/cover/143.pgm', '/content/drive/MyDrive/the_dataset/cover/144.pgm', '/content/drive/MyDrive/the_dataset/cover/145.pgm', '/content/drive/MyDrive/the_dataset/cover/146.pgm', '/content/drive/MyDrive/the_dataset/cover/147.pgm', '/content/drive/MyDrive/the_dataset/cover/148.pgm', '/content/drive/MyDrive/the_dataset/cover/149.pgm', '/content/drive/MyDrive/the_dataset/cover/15.pgm', '/content/drive/MyDrive/the_dataset/cover/150.pgm', '/content/drive/MyDrive/the_dataset/cover/151.pgm', '/content/drive/MyDrive/the_dataset/cover/152.pgm', '/content/drive/MyDrive/the_dataset/cover/153.pgm', '/content/drive/MyDrive/the_dataset/cover/154.pgm', '/content/drive/MyDrive/the_dataset/cover/155.pgm', '/content/drive/MyDrive/the_dataset/cover/156.pgm', '/content/drive/MyDrive/the_dataset/cover/157.pgm', '/content/drive/MyDrive/the_dataset/cover/158.pgm', '/content/drive/MyDrive/the_dataset/cover/159.pgm', '/content/drive/MyDrive/the_dataset/cover/16.pgm', '/content/drive/MyDrive/the_dataset/cover/160.pgm', '/content/drive/MyDrive/the_dataset/cover/161.pgm', '/content/drive/MyDrive/the_dataset/cover/162.pgm', '/content/drive/MyDrive/the_dataset/cover/163.pgm', '/content/drive/MyDrive/the_dataset/cover/164.pgm', '/content/drive/MyDrive/the_dataset/cover/165.pgm', '/content/drive/MyDrive/the_dataset/cover/166.pgm', '/content/drive/MyDrive/the_dataset/cover/167.pgm', '/content/drive/MyDrive/the_dataset/cover/168.pgm', '/content/drive/MyDrive/the_dataset/cover/169.pgm', '/content/drive/MyDrive/the_dataset/cover/17.pgm', '/content/drive/MyDrive/the_dataset/cover/170.pgm', '/content/drive/MyDrive/the_dataset/cover/171.pgm', '/content/drive/MyDrive/the_dataset/cover/172.pgm', '/content/drive/MyDrive/the_dataset/cover/173.pgm', '/content/drive/MyDrive/the_dataset/cover/174.pgm', '/content/drive/MyDrive/the_dataset/cover/175.pgm', '/content/drive/MyDrive/the_dataset/cover/176.pgm', '/content/drive/MyDrive/the_dataset/cover/177.pgm', '/content/drive/MyDrive/the_dataset/cover/178.pgm', '/content/drive/MyDrive/the_dataset/cover/179.pgm', '/content/drive/MyDrive/the_dataset/cover/18.pgm', '/content/drive/MyDrive/the_dataset/cover/180.pgm', '/content/drive/MyDrive/the_dataset/cover/181.pgm', '/content/drive/MyDrive/the_dataset/cover/182.pgm', '/content/drive/MyDrive/the_dataset/cover/183.pgm', '/content/drive/MyDrive/the_dataset/cover/184.pgm', '/content/drive/MyDrive/the_dataset/cover/185.pgm', '/content/drive/MyDrive/the_dataset/cover/186.pgm', '/content/drive/MyDrive/the_dataset/cover/187.pgm', '/content/drive/MyDrive/the_dataset/cover/188.pgm', '/content/drive/MyDrive/the_dataset/cover/189.pgm', '/content/drive/MyDrive/the_dataset/cover/19.pgm', '/content/drive/MyDrive/the_dataset/cover/190.pgm', '/content/drive/MyDrive/the_dataset/cover/191.pgm', '/content/drive/MyDrive/the_dataset/cover/192.pgm', '/content/drive/MyDrive/the_dataset/cover/193.pgm', '/content/drive/MyDrive/the_dataset/cover/194.pgm', '/content/drive/MyDrive/the_dataset/cover/195.pgm', '/content/drive/MyDrive/the_dataset/cover/196.pgm', '/content/drive/MyDrive/the_dataset/cover/197.pgm', '/content/drive/MyDrive/the_dataset/cover/198.pgm', '/content/drive/MyDrive/the_dataset/cover/199.pgm', '/content/drive/MyDrive/the_dataset/cover/2.pgm', '/content/drive/MyDrive/the_dataset/cover/20.pgm', '/content/drive/MyDrive/the_dataset/cover/200.pgm', '/content/drive/MyDrive/the_dataset/cover/201.pgm', '/content/drive/MyDrive/the_dataset/cover/202.pgm', '/content/drive/MyDrive/the_dataset/cover/203.pgm', '/content/drive/MyDrive/the_dataset/cover/204.pgm', '/content/drive/MyDrive/the_dataset/cover/205.pgm', '/content/drive/MyDrive/the_dataset/cover/206.pgm', '/content/drive/MyDrive/the_dataset/cover/207.pgm', '/content/drive/MyDrive/the_dataset/cover/208.pgm', '/content/drive/MyDrive/the_dataset/cover/209.pgm', '/content/drive/MyDrive/the_dataset/cover/21.pgm', '/content/drive/MyDrive/the_dataset/cover/210.pgm', '/content/drive/MyDrive/the_dataset/cover/211.pgm', '/content/drive/MyDrive/the_dataset/cover/212.pgm', '/content/drive/MyDrive/the_dataset/cover/213.pgm', '/content/drive/MyDrive/the_dataset/cover/214.pgm', '/content/drive/MyDrive/the_dataset/cover/215.pgm', '/content/drive/MyDrive/the_dataset/cover/216.pgm', '/content/drive/MyDrive/the_dataset/cover/217.pgm', '/content/drive/MyDrive/the_dataset/cover/218.pgm', '/content/drive/MyDrive/the_dataset/cover/219.pgm', '/content/drive/MyDrive/the_dataset/cover/22.pgm', '/content/drive/MyDrive/the_dataset/cover/220.pgm', '/content/drive/MyDrive/the_dataset/cover/221.pgm', '/content/drive/MyDrive/the_dataset/cover/222.pgm', '/content/drive/MyDrive/the_dataset/cover/223.pgm', '/content/drive/MyDrive/the_dataset/cover/224.pgm', '/content/drive/MyDrive/the_dataset/cover/225.pgm', '/content/drive/MyDrive/the_dataset/cover/226.pgm', '/content/drive/MyDrive/the_dataset/cover/227.pgm', '/content/drive/MyDrive/the_dataset/cover/228.pgm', '/content/drive/MyDrive/the_dataset/cover/229.pgm', '/content/drive/MyDrive/the_dataset/cover/23.pgm', '/content/drive/MyDrive/the_dataset/cover/230.pgm', '/content/drive/MyDrive/the_dataset/cover/231.pgm', '/content/drive/MyDrive/the_dataset/cover/232.pgm', '/content/drive/MyDrive/the_dataset/cover/233.pgm', '/content/drive/MyDrive/the_dataset/cover/234.pgm', '/content/drive/MyDrive/the_dataset/cover/235.pgm', '/content/drive/MyDrive/the_dataset/cover/236.pgm', '/content/drive/MyDrive/the_dataset/cover/237.pgm', '/content/drive/MyDrive/the_dataset/cover/238.pgm', '/content/drive/MyDrive/the_dataset/cover/239.pgm', '/content/drive/MyDrive/the_dataset/cover/24.pgm', '/content/drive/MyDrive/the_dataset/cover/240.pgm', '/content/drive/MyDrive/the_dataset/cover/241.pgm', '/content/drive/MyDrive/the_dataset/cover/242.pgm', '/content/drive/MyDrive/the_dataset/cover/243.pgm', '/content/drive/MyDrive/the_dataset/cover/244.pgm', '/content/drive/MyDrive/the_dataset/cover/245.pgm', '/content/drive/MyDrive/the_dataset/cover/246.pgm', '/content/drive/MyDrive/the_dataset/cover/247.pgm', '/content/drive/MyDrive/the_dataset/cover/248.pgm', '/content/drive/MyDrive/the_dataset/cover/249.pgm', '/content/drive/MyDrive/the_dataset/cover/25.pgm', '/content/drive/MyDrive/the_dataset/cover/250.pgm', '/content/drive/MyDrive/the_dataset/cover/251.pgm', '/content/drive/MyDrive/the_dataset/cover/252.pgm', '/content/drive/MyDrive/the_dataset/cover/253.pgm', '/content/drive/MyDrive/the_dataset/cover/254.pgm', '/content/drive/MyDrive/the_dataset/cover/255.pgm', '/content/drive/MyDrive/the_dataset/cover/256.pgm', '/content/drive/MyDrive/the_dataset/cover/257.pgm', '/content/drive/MyDrive/the_dataset/cover/258.pgm', '/content/drive/MyDrive/the_dataset/cover/259.pgm', '/content/drive/MyDrive/the_dataset/cover/26.pgm', '/content/drive/MyDrive/the_dataset/cover/260.pgm', '/content/drive/MyDrive/the_dataset/cover/261.pgm', '/content/drive/MyDrive/the_dataset/cover/262.pgm', '/content/drive/MyDrive/the_dataset/cover/263.pgm', '/content/drive/MyDrive/the_dataset/cover/264.pgm', '/content/drive/MyDrive/the_dataset/cover/265.pgm', '/content/drive/MyDrive/the_dataset/cover/266.pgm', '/content/drive/MyDrive/the_dataset/cover/267.pgm', '/content/drive/MyDrive/the_dataset/cover/268.pgm', '/content/drive/MyDrive/the_dataset/cover/269.pgm', '/content/drive/MyDrive/the_dataset/cover/27.pgm', '/content/drive/MyDrive/the_dataset/cover/270.pgm', '/content/drive/MyDrive/the_dataset/cover/271.pgm', '/content/drive/MyDrive/the_dataset/cover/272.pgm', '/content/drive/MyDrive/the_dataset/cover/273.pgm', '/content/drive/MyDrive/the_dataset/cover/274.pgm', '/content/drive/MyDrive/the_dataset/cover/275.pgm', '/content/drive/MyDrive/the_dataset/cover/276.pgm', '/content/drive/MyDrive/the_dataset/cover/277.pgm', '/content/drive/MyDrive/the_dataset/cover/278.pgm', '/content/drive/MyDrive/the_dataset/cover/279.pgm', '/content/drive/MyDrive/the_dataset/cover/28.pgm', '/content/drive/MyDrive/the_dataset/cover/280.pgm', '/content/drive/MyDrive/the_dataset/cover/281.pgm', '/content/drive/MyDrive/the_dataset/cover/282.pgm', '/content/drive/MyDrive/the_dataset/cover/283.pgm', '/content/drive/MyDrive/the_dataset/cover/284.pgm', '/content/drive/MyDrive/the_dataset/cover/285.pgm', '/content/drive/MyDrive/the_dataset/cover/286.pgm', '/content/drive/MyDrive/the_dataset/cover/287.pgm', '/content/drive/MyDrive/the_dataset/cover/288.pgm', '/content/drive/MyDrive/the_dataset/cover/289.pgm', '/content/drive/MyDrive/the_dataset/cover/29.pgm', '/content/drive/MyDrive/the_dataset/cover/290.pgm', '/content/drive/MyDrive/the_dataset/cover/291.pgm', '/content/drive/MyDrive/the_dataset/cover/292.pgm', '/content/drive/MyDrive/the_dataset/cover/293.pgm', '/content/drive/MyDrive/the_dataset/cover/294.pgm', '/content/drive/MyDrive/the_dataset/cover/295.pgm', '/content/drive/MyDrive/the_dataset/cover/296.pgm', '/content/drive/MyDrive/the_dataset/cover/297.pgm', '/content/drive/MyDrive/the_dataset/cover/298.pgm', '/content/drive/MyDrive/the_dataset/cover/299.pgm', '/content/drive/MyDrive/the_dataset/cover/3.pgm', '/content/drive/MyDrive/the_dataset/cover/30.pgm', '/content/drive/MyDrive/the_dataset/cover/300.pgm', '/content/drive/MyDrive/the_dataset/cover/301.pgm', '/content/drive/MyDrive/the_dataset/cover/302.pgm', '/content/drive/MyDrive/the_dataset/cover/303.pgm', '/content/drive/MyDrive/the_dataset/cover/304.pgm', '/content/drive/MyDrive/the_dataset/cover/305.pgm', '/content/drive/MyDrive/the_dataset/cover/306.pgm', '/content/drive/MyDrive/the_dataset/cover/307.pgm', '/content/drive/MyDrive/the_dataset/cover/308.pgm', '/content/drive/MyDrive/the_dataset/cover/309.pgm', '/content/drive/MyDrive/the_dataset/cover/31.pgm', '/content/drive/MyDrive/the_dataset/cover/310.pgm', '/content/drive/MyDrive/the_dataset/cover/311.pgm', '/content/drive/MyDrive/the_dataset/cover/312.pgm', '/content/drive/MyDrive/the_dataset/cover/313.pgm', '/content/drive/MyDrive/the_dataset/cover/314.pgm', '/content/drive/MyDrive/the_dataset/cover/315.pgm', '/content/drive/MyDrive/the_dataset/cover/316.pgm', '/content/drive/MyDrive/the_dataset/cover/317.pgm', '/content/drive/MyDrive/the_dataset/cover/318.pgm', '/content/drive/MyDrive/the_dataset/cover/319.pgm', '/content/drive/MyDrive/the_dataset/cover/32.pgm', '/content/drive/MyDrive/the_dataset/cover/320.pgm', '/content/drive/MyDrive/the_dataset/cover/321.pgm', '/content/drive/MyDrive/the_dataset/cover/322.pgm', '/content/drive/MyDrive/the_dataset/cover/323.pgm', '/content/drive/MyDrive/the_dataset/cover/324.pgm', '/content/drive/MyDrive/the_dataset/cover/325.pgm', '/content/drive/MyDrive/the_dataset/cover/326.pgm', '/content/drive/MyDrive/the_dataset/cover/327.pgm', '/content/drive/MyDrive/the_dataset/cover/328.pgm', '/content/drive/MyDrive/the_dataset/cover/329.pgm', '/content/drive/MyDrive/the_dataset/cover/33.pgm', '/content/drive/MyDrive/the_dataset/cover/330.pgm', '/content/drive/MyDrive/the_dataset/cover/331.pgm', '/content/drive/MyDrive/the_dataset/cover/332.pgm', '/content/drive/MyDrive/the_dataset/cover/333.pgm', '/content/drive/MyDrive/the_dataset/cover/334.pgm', '/content/drive/MyDrive/the_dataset/cover/335.pgm', '/content/drive/MyDrive/the_dataset/cover/336.pgm', '/content/drive/MyDrive/the_dataset/cover/337.pgm', '/content/drive/MyDrive/the_dataset/cover/338.pgm', '/content/drive/MyDrive/the_dataset/cover/339.pgm', '/content/drive/MyDrive/the_dataset/cover/34.pgm', '/content/drive/MyDrive/the_dataset/cover/340.pgm', '/content/drive/MyDrive/the_dataset/cover/341.pgm', '/content/drive/MyDrive/the_dataset/cover/342.pgm', '/content/drive/MyDrive/the_dataset/cover/343.pgm', '/content/drive/MyDrive/the_dataset/cover/344.pgm', '/content/drive/MyDrive/the_dataset/cover/345.pgm', '/content/drive/MyDrive/the_dataset/cover/346.pgm', '/content/drive/MyDrive/the_dataset/cover/347.pgm', '/content/drive/MyDrive/the_dataset/cover/348.pgm', '/content/drive/MyDrive/the_dataset/cover/349.pgm', '/content/drive/MyDrive/the_dataset/cover/35.pgm', '/content/drive/MyDrive/the_dataset/cover/350.pgm', '/content/drive/MyDrive/the_dataset/cover/351.pgm', '/content/drive/MyDrive/the_dataset/cover/352.pgm', '/content/drive/MyDrive/the_dataset/cover/353.pgm', '/content/drive/MyDrive/the_dataset/cover/354.pgm', '/content/drive/MyDrive/the_dataset/cover/355.pgm', '/content/drive/MyDrive/the_dataset/cover/356.pgm', '/content/drive/MyDrive/the_dataset/cover/357.pgm', '/content/drive/MyDrive/the_dataset/cover/358.pgm', '/content/drive/MyDrive/the_dataset/cover/359.pgm', '/content/drive/MyDrive/the_dataset/cover/36.pgm', '/content/drive/MyDrive/the_dataset/cover/360.pgm', '/content/drive/MyDrive/the_dataset/cover/361.pgm', '/content/drive/MyDrive/the_dataset/cover/362.pgm', '/content/drive/MyDrive/the_dataset/cover/363.pgm', '/content/drive/MyDrive/the_dataset/cover/364.pgm', '/content/drive/MyDrive/the_dataset/cover/365.pgm', '/content/drive/MyDrive/the_dataset/cover/366.pgm', '/content/drive/MyDrive/the_dataset/cover/367.pgm', '/content/drive/MyDrive/the_dataset/cover/368.pgm', '/content/drive/MyDrive/the_dataset/cover/369.pgm', '/content/drive/MyDrive/the_dataset/cover/37.pgm', '/content/drive/MyDrive/the_dataset/cover/370.pgm', '/content/drive/MyDrive/the_dataset/cover/371.pgm', '/content/drive/MyDrive/the_dataset/cover/372.pgm', '/content/drive/MyDrive/the_dataset/cover/373.pgm', '/content/drive/MyDrive/the_dataset/cover/374.pgm', '/content/drive/MyDrive/the_dataset/cover/375.pgm', '/content/drive/MyDrive/the_dataset/cover/376.pgm', '/content/drive/MyDrive/the_dataset/cover/377.pgm', '/content/drive/MyDrive/the_dataset/cover/378.pgm', '/content/drive/MyDrive/the_dataset/cover/379.pgm', '/content/drive/MyDrive/the_dataset/cover/38.pgm', '/content/drive/MyDrive/the_dataset/cover/380.pgm', '/content/drive/MyDrive/the_dataset/cover/381.pgm', '/content/drive/MyDrive/the_dataset/cover/382.pgm', '/content/drive/MyDrive/the_dataset/cover/383.pgm', '/content/drive/MyDrive/the_dataset/cover/384.pgm', '/content/drive/MyDrive/the_dataset/cover/385.pgm', '/content/drive/MyDrive/the_dataset/cover/386.pgm', '/content/drive/MyDrive/the_dataset/cover/387.pgm', '/content/drive/MyDrive/the_dataset/cover/388.pgm', '/content/drive/MyDrive/the_dataset/cover/389.pgm', '/content/drive/MyDrive/the_dataset/cover/39.pgm', '/content/drive/MyDrive/the_dataset/cover/390.pgm', '/content/drive/MyDrive/the_dataset/cover/391.pgm', '/content/drive/MyDrive/the_dataset/cover/392.pgm', '/content/drive/MyDrive/the_dataset/cover/393.pgm', '/content/drive/MyDrive/the_dataset/cover/394.pgm', '/content/drive/MyDrive/the_dataset/cover/395.pgm', '/content/drive/MyDrive/the_dataset/cover/396.pgm', '/content/drive/MyDrive/the_dataset/cover/397.pgm', '/content/drive/MyDrive/the_dataset/cover/398.pgm', '/content/drive/MyDrive/the_dataset/cover/399.pgm', '/content/drive/MyDrive/the_dataset/cover/4.pgm', '/content/drive/MyDrive/the_dataset/cover/40.pgm', '/content/drive/MyDrive/the_dataset/cover/400.pgm', '/content/drive/MyDrive/the_dataset/cover/401.pgm', '/content/drive/MyDrive/the_dataset/cover/402.pgm', '/content/drive/MyDrive/the_dataset/cover/403.pgm', '/content/drive/MyDrive/the_dataset/cover/404.pgm', '/content/drive/MyDrive/the_dataset/cover/405.pgm', '/content/drive/MyDrive/the_dataset/cover/406.pgm', '/content/drive/MyDrive/the_dataset/cover/407.pgm', '/content/drive/MyDrive/the_dataset/cover/408.pgm', '/content/drive/MyDrive/the_dataset/cover/409.pgm', '/content/drive/MyDrive/the_dataset/cover/41.pgm', '/content/drive/MyDrive/the_dataset/cover/410.pgm', '/content/drive/MyDrive/the_dataset/cover/411.pgm', '/content/drive/MyDrive/the_dataset/cover/412.pgm', '/content/drive/MyDrive/the_dataset/cover/413.pgm', '/content/drive/MyDrive/the_dataset/cover/414.pgm', '/content/drive/MyDrive/the_dataset/cover/415.pgm', '/content/drive/MyDrive/the_dataset/cover/416.pgm', '/content/drive/MyDrive/the_dataset/cover/417.pgm', '/content/drive/MyDrive/the_dataset/cover/418.pgm', '/content/drive/MyDrive/the_dataset/cover/419.pgm', '/content/drive/MyDrive/the_dataset/cover/42.pgm', '/content/drive/MyDrive/the_dataset/cover/420.pgm', '/content/drive/MyDrive/the_dataset/cover/421.pgm', '/content/drive/MyDrive/the_dataset/cover/422.pgm', '/content/drive/MyDrive/the_dataset/cover/423.pgm', '/content/drive/MyDrive/the_dataset/cover/424.pgm', '/content/drive/MyDrive/the_dataset/cover/425.pgm', '/content/drive/MyDrive/the_dataset/cover/426.pgm', '/content/drive/MyDrive/the_dataset/cover/427.pgm', '/content/drive/MyDrive/the_dataset/cover/428.pgm', '/content/drive/MyDrive/the_dataset/cover/429.pgm', '/content/drive/MyDrive/the_dataset/cover/43.pgm', '/content/drive/MyDrive/the_dataset/cover/430.pgm', '/content/drive/MyDrive/the_dataset/cover/431.pgm', '/content/drive/MyDrive/the_dataset/cover/432.pgm', '/content/drive/MyDrive/the_dataset/cover/433.pgm', '/content/drive/MyDrive/the_dataset/cover/434.pgm', '/content/drive/MyDrive/the_dataset/cover/435.pgm', '/content/drive/MyDrive/the_dataset/cover/436.pgm', '/content/drive/MyDrive/the_dataset/cover/437.pgm', '/content/drive/MyDrive/the_dataset/cover/438.pgm', '/content/drive/MyDrive/the_dataset/cover/439.pgm', '/content/drive/MyDrive/the_dataset/cover/44.pgm', '/content/drive/MyDrive/the_dataset/cover/440.pgm', '/content/drive/MyDrive/the_dataset/cover/441.pgm', '/content/drive/MyDrive/the_dataset/cover/442.pgm', '/content/drive/MyDrive/the_dataset/cover/443.pgm', '/content/drive/MyDrive/the_dataset/cover/444.pgm', '/content/drive/MyDrive/the_dataset/cover/445.pgm', '/content/drive/MyDrive/the_dataset/cover/446.pgm', '/content/drive/MyDrive/the_dataset/cover/447.pgm', '/content/drive/MyDrive/the_dataset/cover/448.pgm', '/content/drive/MyDrive/the_dataset/cover/449.pgm', '/content/drive/MyDrive/the_dataset/cover/45.pgm', '/content/drive/MyDrive/the_dataset/cover/450.pgm', '/content/drive/MyDrive/the_dataset/cover/451.pgm', '/content/drive/MyDrive/the_dataset/cover/452.pgm', '/content/drive/MyDrive/the_dataset/cover/453.pgm', '/content/drive/MyDrive/the_dataset/cover/454.pgm', '/content/drive/MyDrive/the_dataset/cover/455.pgm', '/content/drive/MyDrive/the_dataset/cover/456.pgm', '/content/drive/MyDrive/the_dataset/cover/457.pgm', '/content/drive/MyDrive/the_dataset/cover/458.pgm', '/content/drive/MyDrive/the_dataset/cover/459.pgm', '/content/drive/MyDrive/the_dataset/cover/46.pgm', '/content/drive/MyDrive/the_dataset/cover/460.pgm', '/content/drive/MyDrive/the_dataset/cover/461.pgm', '/content/drive/MyDrive/the_dataset/cover/462.pgm', '/content/drive/MyDrive/the_dataset/cover/463.pgm', '/content/drive/MyDrive/the_dataset/cover/464.pgm', '/content/drive/MyDrive/the_dataset/cover/465.pgm', '/content/drive/MyDrive/the_dataset/cover/466.pgm', '/content/drive/MyDrive/the_dataset/cover/467.pgm', '/content/drive/MyDrive/the_dataset/cover/468.pgm', '/content/drive/MyDrive/the_dataset/cover/469.pgm', '/content/drive/MyDrive/the_dataset/cover/47.pgm', '/content/drive/MyDrive/the_dataset/cover/470.pgm', '/content/drive/MyDrive/the_dataset/cover/471.pgm', '/content/drive/MyDrive/the_dataset/cover/472.pgm', '/content/drive/MyDrive/the_dataset/cover/473.pgm', '/content/drive/MyDrive/the_dataset/cover/474.pgm', '/content/drive/MyDrive/the_dataset/cover/475.pgm', '/content/drive/MyDrive/the_dataset/cover/476.pgm', '/content/drive/MyDrive/the_dataset/cover/477.pgm', '/content/drive/MyDrive/the_dataset/cover/478.pgm', '/content/drive/MyDrive/the_dataset/cover/479.pgm', '/content/drive/MyDrive/the_dataset/cover/48.pgm', '/content/drive/MyDrive/the_dataset/cover/480.pgm', '/content/drive/MyDrive/the_dataset/cover/481.pgm', '/content/drive/MyDrive/the_dataset/cover/482.pgm', '/content/drive/MyDrive/the_dataset/cover/483.pgm', '/content/drive/MyDrive/the_dataset/cover/484.pgm', '/content/drive/MyDrive/the_dataset/cover/485.pgm', '/content/drive/MyDrive/the_dataset/cover/486.pgm', '/content/drive/MyDrive/the_dataset/cover/487.pgm', '/content/drive/MyDrive/the_dataset/cover/488.pgm', '/content/drive/MyDrive/the_dataset/cover/489.pgm', '/content/drive/MyDrive/the_dataset/cover/49.pgm', '/content/drive/MyDrive/the_dataset/cover/490.pgm', '/content/drive/MyDrive/the_dataset/cover/491.pgm', '/content/drive/MyDrive/the_dataset/cover/492.pgm', '/content/drive/MyDrive/the_dataset/cover/493.pgm', '/content/drive/MyDrive/the_dataset/cover/494.pgm', '/content/drive/MyDrive/the_dataset/cover/495.pgm', '/content/drive/MyDrive/the_dataset/cover/496.pgm', '/content/drive/MyDrive/the_dataset/cover/497.pgm', '/content/drive/MyDrive/the_dataset/cover/498.pgm', '/content/drive/MyDrive/the_dataset/cover/499.pgm', '/content/drive/MyDrive/the_dataset/cover/5.pgm', '/content/drive/MyDrive/the_dataset/cover/50.pgm', '/content/drive/MyDrive/the_dataset/cover/500.pgm', '/content/drive/MyDrive/the_dataset/cover/501.pgm', '/content/drive/MyDrive/the_dataset/cover/502.pgm', '/content/drive/MyDrive/the_dataset/cover/503.pgm', '/content/drive/MyDrive/the_dataset/cover/504.pgm', '/content/drive/MyDrive/the_dataset/cover/505.pgm', '/content/drive/MyDrive/the_dataset/cover/506.pgm', '/content/drive/MyDrive/the_dataset/cover/507.pgm', '/content/drive/MyDrive/the_dataset/cover/508.pgm', '/content/drive/MyDrive/the_dataset/cover/509.pgm', '/content/drive/MyDrive/the_dataset/cover/51.pgm', '/content/drive/MyDrive/the_dataset/cover/510.pgm', '/content/drive/MyDrive/the_dataset/cover/511.pgm', '/content/drive/MyDrive/the_dataset/cover/512.pgm', '/content/drive/MyDrive/the_dataset/cover/513.pgm', '/content/drive/MyDrive/the_dataset/cover/514.pgm', '/content/drive/MyDrive/the_dataset/cover/515.pgm', '/content/drive/MyDrive/the_dataset/cover/516.pgm', '/content/drive/MyDrive/the_dataset/cover/517.pgm', '/content/drive/MyDrive/the_dataset/cover/518.pgm', '/content/drive/MyDrive/the_dataset/cover/519.pgm', '/content/drive/MyDrive/the_dataset/cover/52.pgm', '/content/drive/MyDrive/the_dataset/cover/520.pgm', '/content/drive/MyDrive/the_dataset/cover/521.pgm', '/content/drive/MyDrive/the_dataset/cover/522.pgm', '/content/drive/MyDrive/the_dataset/cover/523.pgm', '/content/drive/MyDrive/the_dataset/cover/524.pgm', '/content/drive/MyDrive/the_dataset/cover/525.pgm', '/content/drive/MyDrive/the_dataset/cover/526.pgm', '/content/drive/MyDrive/the_dataset/cover/527.pgm', '/content/drive/MyDrive/the_dataset/cover/528.pgm', '/content/drive/MyDrive/the_dataset/cover/529.pgm', '/content/drive/MyDrive/the_dataset/cover/53.pgm', '/content/drive/MyDrive/the_dataset/cover/530.pgm', '/content/drive/MyDrive/the_dataset/cover/531.pgm', '/content/drive/MyDrive/the_dataset/cover/532.pgm', '/content/drive/MyDrive/the_dataset/cover/533.pgm', '/content/drive/MyDrive/the_dataset/cover/534.pgm', '/content/drive/MyDrive/the_dataset/cover/535.pgm', '/content/drive/MyDrive/the_dataset/cover/536.pgm', '/content/drive/MyDrive/the_dataset/cover/537.pgm', '/content/drive/MyDrive/the_dataset/cover/538.pgm', '/content/drive/MyDrive/the_dataset/cover/539.pgm', '/content/drive/MyDrive/the_dataset/cover/54.pgm', '/content/drive/MyDrive/the_dataset/cover/540.pgm', '/content/drive/MyDrive/the_dataset/cover/541.pgm', '/content/drive/MyDrive/the_dataset/cover/542.pgm', '/content/drive/MyDrive/the_dataset/cover/543.pgm', '/content/drive/MyDrive/the_dataset/cover/544.pgm', '/content/drive/MyDrive/the_dataset/cover/545.pgm', '/content/drive/MyDrive/the_dataset/cover/546.pgm', '/content/drive/MyDrive/the_dataset/cover/547.pgm', '/content/drive/MyDrive/the_dataset/cover/548.pgm', '/content/drive/MyDrive/the_dataset/cover/549.pgm', '/content/drive/MyDrive/the_dataset/cover/55.pgm', '/content/drive/MyDrive/the_dataset/cover/550.pgm', '/content/drive/MyDrive/the_dataset/cover/551.pgm', '/content/drive/MyDrive/the_dataset/cover/552.pgm', '/content/drive/MyDrive/the_dataset/cover/553.pgm', '/content/drive/MyDrive/the_dataset/cover/554.pgm', '/content/drive/MyDrive/the_dataset/cover/555.pgm', '/content/drive/MyDrive/the_dataset/cover/556.pgm', '/content/drive/MyDrive/the_dataset/cover/557.pgm', '/content/drive/MyDrive/the_dataset/cover/558.pgm', '/content/drive/MyDrive/the_dataset/cover/559.pgm', '/content/drive/MyDrive/the_dataset/cover/56.pgm', '/content/drive/MyDrive/the_dataset/cover/560.pgm', '/content/drive/MyDrive/the_dataset/cover/561.pgm', '/content/drive/MyDrive/the_dataset/cover/562.pgm', '/content/drive/MyDrive/the_dataset/cover/563.pgm', '/content/drive/MyDrive/the_dataset/cover/564.pgm', '/content/drive/MyDrive/the_dataset/cover/565.pgm', '/content/drive/MyDrive/the_dataset/cover/566.pgm', '/content/drive/MyDrive/the_dataset/cover/567.pgm', '/content/drive/MyDrive/the_dataset/cover/568.pgm', '/content/drive/MyDrive/the_dataset/cover/569.pgm', '/content/drive/MyDrive/the_dataset/cover/57.pgm', '/content/drive/MyDrive/the_dataset/cover/570.pgm', '/content/drive/MyDrive/the_dataset/cover/571.pgm', '/content/drive/MyDrive/the_dataset/cover/572.pgm', '/content/drive/MyDrive/the_dataset/cover/573.pgm', '/content/drive/MyDrive/the_dataset/cover/574.pgm', '/content/drive/MyDrive/the_dataset/cover/575.pgm', '/content/drive/MyDrive/the_dataset/cover/576.pgm', '/content/drive/MyDrive/the_dataset/cover/577.pgm', '/content/drive/MyDrive/the_dataset/cover/578.pgm', '/content/drive/MyDrive/the_dataset/cover/579.pgm', '/content/drive/MyDrive/the_dataset/cover/58.pgm', '/content/drive/MyDrive/the_dataset/cover/580.pgm', '/content/drive/MyDrive/the_dataset/cover/581.pgm', '/content/drive/MyDrive/the_dataset/cover/582.pgm', '/content/drive/MyDrive/the_dataset/cover/583.pgm', '/content/drive/MyDrive/the_dataset/cover/584.pgm', '/content/drive/MyDrive/the_dataset/cover/585.pgm', '/content/drive/MyDrive/the_dataset/cover/586.pgm', '/content/drive/MyDrive/the_dataset/cover/587.pgm', '/content/drive/MyDrive/the_dataset/cover/588.pgm', '/content/drive/MyDrive/the_dataset/cover/589.pgm', '/content/drive/MyDrive/the_dataset/cover/59.pgm', '/content/drive/MyDrive/the_dataset/cover/590.pgm', '/content/drive/MyDrive/the_dataset/cover/591.pgm', '/content/drive/MyDrive/the_dataset/cover/592.pgm', '/content/drive/MyDrive/the_dataset/cover/593.pgm', '/content/drive/MyDrive/the_dataset/cover/594.pgm', '/content/drive/MyDrive/the_dataset/cover/595.pgm', '/content/drive/MyDrive/the_dataset/cover/596.pgm', '/content/drive/MyDrive/the_dataset/cover/597.pgm', '/content/drive/MyDrive/the_dataset/cover/598.pgm', '/content/drive/MyDrive/the_dataset/cover/599.pgm', '/content/drive/MyDrive/the_dataset/cover/6.pgm', '/content/drive/MyDrive/the_dataset/cover/60.pgm', '/content/drive/MyDrive/the_dataset/cover/600.pgm', '/content/drive/MyDrive/the_dataset/cover/601.pgm', '/content/drive/MyDrive/the_dataset/cover/602.pgm', '/content/drive/MyDrive/the_dataset/cover/603.pgm', '/content/drive/MyDrive/the_dataset/cover/604.pgm', '/content/drive/MyDrive/the_dataset/cover/605.pgm', '/content/drive/MyDrive/the_dataset/cover/606.pgm', '/content/drive/MyDrive/the_dataset/cover/607.pgm', '/content/drive/MyDrive/the_dataset/cover/608.pgm', '/content/drive/MyDrive/the_dataset/cover/609.pgm', '/content/drive/MyDrive/the_dataset/cover/61.pgm', '/content/drive/MyDrive/the_dataset/cover/610.pgm', '/content/drive/MyDrive/the_dataset/cover/611.pgm', '/content/drive/MyDrive/the_dataset/cover/612.pgm', '/content/drive/MyDrive/the_dataset/cover/613.pgm', '/content/drive/MyDrive/the_dataset/cover/614.pgm', '/content/drive/MyDrive/the_dataset/cover/615.pgm', '/content/drive/MyDrive/the_dataset/cover/616.pgm', '/content/drive/MyDrive/the_dataset/cover/617.pgm', '/content/drive/MyDrive/the_dataset/cover/618.pgm', '/content/drive/MyDrive/the_dataset/cover/619.pgm', '/content/drive/MyDrive/the_dataset/cover/62.pgm', '/content/drive/MyDrive/the_dataset/cover/620.pgm', '/content/drive/MyDrive/the_dataset/cover/621.pgm', '/content/drive/MyDrive/the_dataset/cover/622.pgm', '/content/drive/MyDrive/the_dataset/cover/623.pgm', '/content/drive/MyDrive/the_dataset/cover/624.pgm', '/content/drive/MyDrive/the_dataset/cover/625.pgm', '/content/drive/MyDrive/the_dataset/cover/626.pgm', '/content/drive/MyDrive/the_dataset/cover/627.pgm', '/content/drive/MyDrive/the_dataset/cover/628.pgm', '/content/drive/MyDrive/the_dataset/cover/629.pgm', '/content/drive/MyDrive/the_dataset/cover/63.pgm', '/content/drive/MyDrive/the_dataset/cover/630.pgm', '/content/drive/MyDrive/the_dataset/cover/631.pgm', '/content/drive/MyDrive/the_dataset/cover/632.pgm', '/content/drive/MyDrive/the_dataset/cover/633.pgm', '/content/drive/MyDrive/the_dataset/cover/634.pgm', '/content/drive/MyDrive/the_dataset/cover/635.pgm', '/content/drive/MyDrive/the_dataset/cover/636.pgm', '/content/drive/MyDrive/the_dataset/cover/637.pgm', '/content/drive/MyDrive/the_dataset/cover/638.pgm', '/content/drive/MyDrive/the_dataset/cover/639.pgm', '/content/drive/MyDrive/the_dataset/cover/64.pgm', '/content/drive/MyDrive/the_dataset/cover/640.pgm', '/content/drive/MyDrive/the_dataset/cover/641.pgm', '/content/drive/MyDrive/the_dataset/cover/642.pgm', '/content/drive/MyDrive/the_dataset/cover/643.pgm', '/content/drive/MyDrive/the_dataset/cover/644.pgm', '/content/drive/MyDrive/the_dataset/cover/645.pgm', '/content/drive/MyDrive/the_dataset/cover/646.pgm', '/content/drive/MyDrive/the_dataset/cover/647.pgm', '/content/drive/MyDrive/the_dataset/cover/648.pgm', '/content/drive/MyDrive/the_dataset/cover/649.pgm', '/content/drive/MyDrive/the_dataset/cover/65.pgm', '/content/drive/MyDrive/the_dataset/cover/650.pgm', '/content/drive/MyDrive/the_dataset/cover/651.pgm', '/content/drive/MyDrive/the_dataset/cover/652.pgm', '/content/drive/MyDrive/the_dataset/cover/653.pgm', '/content/drive/MyDrive/the_dataset/cover/654.pgm', '/content/drive/MyDrive/the_dataset/cover/655.pgm', '/content/drive/MyDrive/the_dataset/cover/656.pgm', '/content/drive/MyDrive/the_dataset/cover/657.pgm', '/content/drive/MyDrive/the_dataset/cover/658.pgm', '/content/drive/MyDrive/the_dataset/cover/659.pgm', '/content/drive/MyDrive/the_dataset/cover/66.pgm', '/content/drive/MyDrive/the_dataset/cover/660.pgm', '/content/drive/MyDrive/the_dataset/cover/661.pgm', '/content/drive/MyDrive/the_dataset/cover/662.pgm', '/content/drive/MyDrive/the_dataset/cover/663.pgm', '/content/drive/MyDrive/the_dataset/cover/664.pgm', '/content/drive/MyDrive/the_dataset/cover/665.pgm', '/content/drive/MyDrive/the_dataset/cover/666.pgm', '/content/drive/MyDrive/the_dataset/cover/667.pgm', '/content/drive/MyDrive/the_dataset/cover/668.pgm', '/content/drive/MyDrive/the_dataset/cover/669.pgm', '/content/drive/MyDrive/the_dataset/cover/67.pgm', '/content/drive/MyDrive/the_dataset/cover/670.pgm', '/content/drive/MyDrive/the_dataset/cover/671.pgm', '/content/drive/MyDrive/the_dataset/cover/672.pgm', '/content/drive/MyDrive/the_dataset/cover/673.pgm', '/content/drive/MyDrive/the_dataset/cover/674.pgm', '/content/drive/MyDrive/the_dataset/cover/675.pgm', '/content/drive/MyDrive/the_dataset/cover/676.pgm', '/content/drive/MyDrive/the_dataset/cover/677.pgm', '/content/drive/MyDrive/the_dataset/cover/678.pgm', '/content/drive/MyDrive/the_dataset/cover/679.pgm', '/content/drive/MyDrive/the_dataset/cover/68.pgm', '/content/drive/MyDrive/the_dataset/cover/680.pgm', '/content/drive/MyDrive/the_dataset/cover/681.pgm', '/content/drive/MyDrive/the_dataset/cover/682.pgm', '/content/drive/MyDrive/the_dataset/cover/683.pgm', '/content/drive/MyDrive/the_dataset/cover/684.pgm', '/content/drive/MyDrive/the_dataset/cover/685.pgm', '/content/drive/MyDrive/the_dataset/cover/686.pgm', '/content/drive/MyDrive/the_dataset/cover/687.pgm', '/content/drive/MyDrive/the_dataset/cover/688.pgm', '/content/drive/MyDrive/the_dataset/cover/689.pgm', '/content/drive/MyDrive/the_dataset/cover/69.pgm', '/content/drive/MyDrive/the_dataset/cover/690.pgm', '/content/drive/MyDrive/the_dataset/cover/691.pgm', '/content/drive/MyDrive/the_dataset/cover/692.pgm', '/content/drive/MyDrive/the_dataset/cover/693.pgm', '/content/drive/MyDrive/the_dataset/cover/694.pgm', '/content/drive/MyDrive/the_dataset/cover/695.pgm', '/content/drive/MyDrive/the_dataset/cover/696.pgm', '/content/drive/MyDrive/the_dataset/cover/697.pgm', '/content/drive/MyDrive/the_dataset/cover/698.pgm', '/content/drive/MyDrive/the_dataset/cover/699.pgm', '/content/drive/MyDrive/the_dataset/cover/7.pgm', '/content/drive/MyDrive/the_dataset/cover/70.pgm', '/content/drive/MyDrive/the_dataset/cover/700.pgm', '/content/drive/MyDrive/the_dataset/cover/701.pgm', '/content/drive/MyDrive/the_dataset/cover/702.pgm', '/content/drive/MyDrive/the_dataset/cover/703.pgm', '/content/drive/MyDrive/the_dataset/cover/704.pgm', '/content/drive/MyDrive/the_dataset/cover/705.pgm', '/content/drive/MyDrive/the_dataset/cover/706.pgm', '/content/drive/MyDrive/the_dataset/cover/707.pgm', '/content/drive/MyDrive/the_dataset/cover/708.pgm', '/content/drive/MyDrive/the_dataset/cover/709.pgm', '/content/drive/MyDrive/the_dataset/cover/71.pgm', '/content/drive/MyDrive/the_dataset/cover/710.pgm', '/content/drive/MyDrive/the_dataset/cover/711.pgm', '/content/drive/MyDrive/the_dataset/cover/712.pgm', '/content/drive/MyDrive/the_dataset/cover/713.pgm', '/content/drive/MyDrive/the_dataset/cover/714.pgm', '/content/drive/MyDrive/the_dataset/cover/715.pgm', '/content/drive/MyDrive/the_dataset/cover/716.pgm', '/content/drive/MyDrive/the_dataset/cover/717.pgm', '/content/drive/MyDrive/the_dataset/cover/718.pgm', '/content/drive/MyDrive/the_dataset/cover/719.pgm', '/content/drive/MyDrive/the_dataset/cover/72.pgm', '/content/drive/MyDrive/the_dataset/cover/720.pgm', '/content/drive/MyDrive/the_dataset/cover/721.pgm', '/content/drive/MyDrive/the_dataset/cover/722.pgm', '/content/drive/MyDrive/the_dataset/cover/723.pgm', '/content/drive/MyDrive/the_dataset/cover/724.pgm', '/content/drive/MyDrive/the_dataset/cover/725.pgm', '/content/drive/MyDrive/the_dataset/cover/726.pgm', '/content/drive/MyDrive/the_dataset/cover/727.pgm', '/content/drive/MyDrive/the_dataset/cover/728.pgm', '/content/drive/MyDrive/the_dataset/cover/729.pgm', '/content/drive/MyDrive/the_dataset/cover/73.pgm', '/content/drive/MyDrive/the_dataset/cover/730.pgm', '/content/drive/MyDrive/the_dataset/cover/731.pgm', '/content/drive/MyDrive/the_dataset/cover/732.pgm', '/content/drive/MyDrive/the_dataset/cover/733.pgm', '/content/drive/MyDrive/the_dataset/cover/734.pgm', '/content/drive/MyDrive/the_dataset/cover/735.pgm', '/content/drive/MyDrive/the_dataset/cover/736.pgm', '/content/drive/MyDrive/the_dataset/cover/737.pgm', '/content/drive/MyDrive/the_dataset/cover/738.pgm', '/content/drive/MyDrive/the_dataset/cover/739.pgm', '/content/drive/MyDrive/the_dataset/cover/74.pgm', '/content/drive/MyDrive/the_dataset/cover/740.pgm', '/content/drive/MyDrive/the_dataset/cover/741.pgm', '/content/drive/MyDrive/the_dataset/cover/742.pgm', '/content/drive/MyDrive/the_dataset/cover/743.pgm', '/content/drive/MyDrive/the_dataset/cover/744.pgm', '/content/drive/MyDrive/the_dataset/cover/745.pgm', '/content/drive/MyDrive/the_dataset/cover/746.pgm', '/content/drive/MyDrive/the_dataset/cover/747.pgm', '/content/drive/MyDrive/the_dataset/cover/748.pgm', '/content/drive/MyDrive/the_dataset/cover/749.pgm', '/content/drive/MyDrive/the_dataset/cover/75.pgm', '/content/drive/MyDrive/the_dataset/cover/750.pgm', '/content/drive/MyDrive/the_dataset/cover/751.pgm', '/content/drive/MyDrive/the_dataset/cover/752.pgm', '/content/drive/MyDrive/the_dataset/cover/753.pgm', '/content/drive/MyDrive/the_dataset/cover/754.pgm', '/content/drive/MyDrive/the_dataset/cover/755.pgm', '/content/drive/MyDrive/the_dataset/cover/756.pgm', '/content/drive/MyDrive/the_dataset/cover/757.pgm', '/content/drive/MyDrive/the_dataset/cover/758.pgm', '/content/drive/MyDrive/the_dataset/cover/759.pgm', '/content/drive/MyDrive/the_dataset/cover/76.pgm', '/content/drive/MyDrive/the_dataset/cover/760.pgm', '/content/drive/MyDrive/the_dataset/cover/761.pgm', '/content/drive/MyDrive/the_dataset/cover/762.pgm', '/content/drive/MyDrive/the_dataset/cover/763.pgm', '/content/drive/MyDrive/the_dataset/cover/764.pgm', '/content/drive/MyDrive/the_dataset/cover/765.pgm', '/content/drive/MyDrive/the_dataset/cover/766.pgm', '/content/drive/MyDrive/the_dataset/cover/767.pgm', '/content/drive/MyDrive/the_dataset/cover/768.pgm', '/content/drive/MyDrive/the_dataset/cover/769.pgm', '/content/drive/MyDrive/the_dataset/cover/77.pgm', '/content/drive/MyDrive/the_dataset/cover/770.pgm', '/content/drive/MyDrive/the_dataset/cover/771.pgm', '/content/drive/MyDrive/the_dataset/cover/772.pgm', '/content/drive/MyDrive/the_dataset/cover/773.pgm', '/content/drive/MyDrive/the_dataset/cover/774.pgm', '/content/drive/MyDrive/the_dataset/cover/775.pgm', '/content/drive/MyDrive/the_dataset/cover/776.pgm', '/content/drive/MyDrive/the_dataset/cover/777.pgm', '/content/drive/MyDrive/the_dataset/cover/778.pgm', '/content/drive/MyDrive/the_dataset/cover/779.pgm', '/content/drive/MyDrive/the_dataset/cover/78.pgm', '/content/drive/MyDrive/the_dataset/cover/780.pgm', '/content/drive/MyDrive/the_dataset/cover/781.pgm', '/content/drive/MyDrive/the_dataset/cover/782.pgm', '/content/drive/MyDrive/the_dataset/cover/783.pgm', '/content/drive/MyDrive/the_dataset/cover/784.pgm', '/content/drive/MyDrive/the_dataset/cover/785.pgm', '/content/drive/MyDrive/the_dataset/cover/786.pgm', '/content/drive/MyDrive/the_dataset/cover/787.pgm', '/content/drive/MyDrive/the_dataset/cover/788.pgm', '/content/drive/MyDrive/the_dataset/cover/789.pgm', '/content/drive/MyDrive/the_dataset/cover/79.pgm', '/content/drive/MyDrive/the_dataset/cover/790.pgm', '/content/drive/MyDrive/the_dataset/cover/791.pgm', '/content/drive/MyDrive/the_dataset/cover/792.pgm', '/content/drive/MyDrive/the_dataset/cover/793.pgm', '/content/drive/MyDrive/the_dataset/cover/794.pgm', '/content/drive/MyDrive/the_dataset/cover/795.pgm', '/content/drive/MyDrive/the_dataset/cover/796.pgm', '/content/drive/MyDrive/the_dataset/cover/797.pgm', '/content/drive/MyDrive/the_dataset/cover/798.pgm', '/content/drive/MyDrive/the_dataset/cover/799.pgm', '/content/drive/MyDrive/the_dataset/cover/8.pgm', '/content/drive/MyDrive/the_dataset/cover/80.pgm', '/content/drive/MyDrive/the_dataset/cover/800.pgm', '/content/drive/MyDrive/the_dataset/cover/801.pgm', '/content/drive/MyDrive/the_dataset/cover/802.pgm', '/content/drive/MyDrive/the_dataset/cover/803.pgm', '/content/drive/MyDrive/the_dataset/cover/804.pgm', '/content/drive/MyDrive/the_dataset/cover/805.pgm', '/content/drive/MyDrive/the_dataset/cover/806.pgm', '/content/drive/MyDrive/the_dataset/cover/807.pgm', '/content/drive/MyDrive/the_dataset/cover/808.pgm', '/content/drive/MyDrive/the_dataset/cover/809.pgm', '/content/drive/MyDrive/the_dataset/cover/81.pgm', '/content/drive/MyDrive/the_dataset/cover/810.pgm', '/content/drive/MyDrive/the_dataset/cover/811.pgm', '/content/drive/MyDrive/the_dataset/cover/812.pgm', '/content/drive/MyDrive/the_dataset/cover/813.pgm', '/content/drive/MyDrive/the_dataset/cover/814.pgm', '/content/drive/MyDrive/the_dataset/cover/815.pgm', '/content/drive/MyDrive/the_dataset/cover/816.pgm', '/content/drive/MyDrive/the_dataset/cover/817.pgm', '/content/drive/MyDrive/the_dataset/cover/818.pgm', '/content/drive/MyDrive/the_dataset/cover/819.pgm', '/content/drive/MyDrive/the_dataset/cover/82.pgm', '/content/drive/MyDrive/the_dataset/cover/820.pgm', '/content/drive/MyDrive/the_dataset/cover/821.pgm', '/content/drive/MyDrive/the_dataset/cover/822.pgm', '/content/drive/MyDrive/the_dataset/cover/823.pgm', '/content/drive/MyDrive/the_dataset/cover/824.pgm', '/content/drive/MyDrive/the_dataset/cover/825.pgm', '/content/drive/MyDrive/the_dataset/cover/826.pgm', '/content/drive/MyDrive/the_dataset/cover/827.pgm', '/content/drive/MyDrive/the_dataset/cover/828.pgm', '/content/drive/MyDrive/the_dataset/cover/829.pgm', '/content/drive/MyDrive/the_dataset/cover/83.pgm', '/content/drive/MyDrive/the_dataset/cover/830.pgm', '/content/drive/MyDrive/the_dataset/cover/831.pgm', '/content/drive/MyDrive/the_dataset/cover/832.pgm', '/content/drive/MyDrive/the_dataset/cover/833.pgm', '/content/drive/MyDrive/the_dataset/cover/834.pgm', '/content/drive/MyDrive/the_dataset/cover/835.pgm', '/content/drive/MyDrive/the_dataset/cover/836.pgm', '/content/drive/MyDrive/the_dataset/cover/837.pgm', '/content/drive/MyDrive/the_dataset/cover/838.pgm', '/content/drive/MyDrive/the_dataset/cover/839.pgm', '/content/drive/MyDrive/the_dataset/cover/84.pgm', '/content/drive/MyDrive/the_dataset/cover/840.pgm', '/content/drive/MyDrive/the_dataset/cover/841.pgm', '/content/drive/MyDrive/the_dataset/cover/842.pgm', '/content/drive/MyDrive/the_dataset/cover/843.pgm', '/content/drive/MyDrive/the_dataset/cover/844.pgm', '/content/drive/MyDrive/the_dataset/cover/845.pgm', '/content/drive/MyDrive/the_dataset/cover/846.pgm', '/content/drive/MyDrive/the_dataset/cover/847.pgm', '/content/drive/MyDrive/the_dataset/cover/848.pgm', '/content/drive/MyDrive/the_dataset/cover/849.pgm', '/content/drive/MyDrive/the_dataset/cover/85.pgm', '/content/drive/MyDrive/the_dataset/cover/850.pgm', '/content/drive/MyDrive/the_dataset/cover/851.pgm', '/content/drive/MyDrive/the_dataset/cover/852.pgm', '/content/drive/MyDrive/the_dataset/cover/853.pgm', '/content/drive/MyDrive/the_dataset/cover/854.pgm', '/content/drive/MyDrive/the_dataset/cover/855.pgm', '/content/drive/MyDrive/the_dataset/cover/856.pgm', '/content/drive/MyDrive/the_dataset/cover/857.pgm', '/content/drive/MyDrive/the_dataset/cover/858.pgm', '/content/drive/MyDrive/the_dataset/cover/859.pgm', '/content/drive/MyDrive/the_dataset/cover/86.pgm', '/content/drive/MyDrive/the_dataset/cover/860.pgm', '/content/drive/MyDrive/the_dataset/cover/861.pgm', '/content/drive/MyDrive/the_dataset/cover/862.pgm', '/content/drive/MyDrive/the_dataset/cover/863.pgm', '/content/drive/MyDrive/the_dataset/cover/864.pgm', '/content/drive/MyDrive/the_dataset/cover/865.pgm', '/content/drive/MyDrive/the_dataset/cover/866.pgm', '/content/drive/MyDrive/the_dataset/cover/867.pgm', '/content/drive/MyDrive/the_dataset/cover/868.pgm', '/content/drive/MyDrive/the_dataset/cover/869.pgm', '/content/drive/MyDrive/the_dataset/cover/87.pgm', '/content/drive/MyDrive/the_dataset/cover/870.pgm', '/content/drive/MyDrive/the_dataset/cover/871.pgm', '/content/drive/MyDrive/the_dataset/cover/872.pgm', '/content/drive/MyDrive/the_dataset/cover/873.pgm', '/content/drive/MyDrive/the_dataset/cover/874.pgm', '/content/drive/MyDrive/the_dataset/cover/875.pgm', '/content/drive/MyDrive/the_dataset/cover/876.pgm', '/content/drive/MyDrive/the_dataset/cover/877.pgm', '/content/drive/MyDrive/the_dataset/cover/878.pgm', '/content/drive/MyDrive/the_dataset/cover/879.pgm', '/content/drive/MyDrive/the_dataset/cover/88.pgm', '/content/drive/MyDrive/the_dataset/cover/880.pgm', '/content/drive/MyDrive/the_dataset/cover/881.pgm', '/content/drive/MyDrive/the_dataset/cover/882.pgm', '/content/drive/MyDrive/the_dataset/cover/883.pgm', '/content/drive/MyDrive/the_dataset/cover/884.pgm', '/content/drive/MyDrive/the_dataset/cover/885.pgm', '/content/drive/MyDrive/the_dataset/cover/886.pgm', '/content/drive/MyDrive/the_dataset/cover/887.pgm', '/content/drive/MyDrive/the_dataset/cover/888.pgm', '/content/drive/MyDrive/the_dataset/cover/889.pgm', '/content/drive/MyDrive/the_dataset/cover/89.pgm', '/content/drive/MyDrive/the_dataset/cover/890.pgm', '/content/drive/MyDrive/the_dataset/cover/891.pgm', '/content/drive/MyDrive/the_dataset/cover/892.pgm', '/content/drive/MyDrive/the_dataset/cover/893.pgm', '/content/drive/MyDrive/the_dataset/cover/894.pgm', '/content/drive/MyDrive/the_dataset/cover/895.pgm', '/content/drive/MyDrive/the_dataset/cover/896.pgm', '/content/drive/MyDrive/the_dataset/cover/897.pgm', '/content/drive/MyDrive/the_dataset/cover/898.pgm', '/content/drive/MyDrive/the_dataset/cover/899.pgm', '/content/drive/MyDrive/the_dataset/cover/9.pgm', '/content/drive/MyDrive/the_dataset/cover/90.pgm', '/content/drive/MyDrive/the_dataset/cover/900.pgm', '/content/drive/MyDrive/the_dataset/cover/901.pgm', '/content/drive/MyDrive/the_dataset/cover/902.pgm', '/content/drive/MyDrive/the_dataset/cover/903.pgm', '/content/drive/MyDrive/the_dataset/cover/904.pgm', '/content/drive/MyDrive/the_dataset/cover/905.pgm', '/content/drive/MyDrive/the_dataset/cover/906.pgm', '/content/drive/MyDrive/the_dataset/cover/907.pgm', '/content/drive/MyDrive/the_dataset/cover/908.pgm', '/content/drive/MyDrive/the_dataset/cover/909.pgm', '/content/drive/MyDrive/the_dataset/cover/91.pgm', '/content/drive/MyDrive/the_dataset/cover/910.pgm', '/content/drive/MyDrive/the_dataset/cover/911.pgm', '/content/drive/MyDrive/the_dataset/cover/912.pgm', '/content/drive/MyDrive/the_dataset/cover/913.pgm', '/content/drive/MyDrive/the_dataset/cover/914.pgm', '/content/drive/MyDrive/the_dataset/cover/915.pgm', '/content/drive/MyDrive/the_dataset/cover/916.pgm', '/content/drive/MyDrive/the_dataset/cover/917.pgm', '/content/drive/MyDrive/the_dataset/cover/918.pgm', '/content/drive/MyDrive/the_dataset/cover/919.pgm', '/content/drive/MyDrive/the_dataset/cover/92.pgm', '/content/drive/MyDrive/the_dataset/cover/920.pgm', '/content/drive/MyDrive/the_dataset/cover/921.pgm', '/content/drive/MyDrive/the_dataset/cover/922.pgm', '/content/drive/MyDrive/the_dataset/cover/923.pgm', '/content/drive/MyDrive/the_dataset/cover/924.pgm', '/content/drive/MyDrive/the_dataset/cover/925.pgm', '/content/drive/MyDrive/the_dataset/cover/926.pgm', '/content/drive/MyDrive/the_dataset/cover/927.pgm', '/content/drive/MyDrive/the_dataset/cover/928.pgm', '/content/drive/MyDrive/the_dataset/cover/929.pgm', '/content/drive/MyDrive/the_dataset/cover/93.pgm', '/content/drive/MyDrive/the_dataset/cover/930.pgm', '/content/drive/MyDrive/the_dataset/cover/931.pgm', '/content/drive/MyDrive/the_dataset/cover/932.pgm', '/content/drive/MyDrive/the_dataset/cover/933.pgm', '/content/drive/MyDrive/the_dataset/cover/934.pgm', '/content/drive/MyDrive/the_dataset/cover/935.pgm', '/content/drive/MyDrive/the_dataset/cover/936.pgm', '/content/drive/MyDrive/the_dataset/cover/937.pgm', '/content/drive/MyDrive/the_dataset/cover/938.pgm', '/content/drive/MyDrive/the_dataset/cover/939.pgm', '/content/drive/MyDrive/the_dataset/cover/94.pgm', '/content/drive/MyDrive/the_dataset/cover/940.pgm', '/content/drive/MyDrive/the_dataset/cover/941.pgm', '/content/drive/MyDrive/the_dataset/cover/942.pgm', '/content/drive/MyDrive/the_dataset/cover/943.pgm', '/content/drive/MyDrive/the_dataset/cover/944.pgm', '/content/drive/MyDrive/the_dataset/cover/945.pgm', '/content/drive/MyDrive/the_dataset/cover/946.pgm', '/content/drive/MyDrive/the_dataset/cover/947.pgm', '/content/drive/MyDrive/the_dataset/cover/948.pgm', '/content/drive/MyDrive/the_dataset/cover/949.pgm', '/content/drive/MyDrive/the_dataset/cover/95.pgm', '/content/drive/MyDrive/the_dataset/cover/950.pgm', '/content/drive/MyDrive/the_dataset/cover/951.pgm', '/content/drive/MyDrive/the_dataset/cover/952.pgm', '/content/drive/MyDrive/the_dataset/cover/953.pgm', '/content/drive/MyDrive/the_dataset/cover/954.pgm', '/content/drive/MyDrive/the_dataset/cover/955.pgm', '/content/drive/MyDrive/the_dataset/cover/956.pgm', '/content/drive/MyDrive/the_dataset/cover/957.pgm', '/content/drive/MyDrive/the_dataset/cover/958.pgm', '/content/drive/MyDrive/the_dataset/cover/959.pgm', '/content/drive/MyDrive/the_dataset/cover/96.pgm', '/content/drive/MyDrive/the_dataset/cover/960.pgm', '/content/drive/MyDrive/the_dataset/cover/961.pgm', '/content/drive/MyDrive/the_dataset/cover/962.pgm', '/content/drive/MyDrive/the_dataset/cover/963.pgm', '/content/drive/MyDrive/the_dataset/cover/964.pgm', '/content/drive/MyDrive/the_dataset/cover/965.pgm', '/content/drive/MyDrive/the_dataset/cover/966.pgm', '/content/drive/MyDrive/the_dataset/cover/967.pgm', '/content/drive/MyDrive/the_dataset/cover/968.pgm', '/content/drive/MyDrive/the_dataset/cover/969.pgm', '/content/drive/MyDrive/the_dataset/cover/97.pgm', '/content/drive/MyDrive/the_dataset/cover/970.pgm', '/content/drive/MyDrive/the_dataset/cover/971.pgm', '/content/drive/MyDrive/the_dataset/cover/972.pgm', '/content/drive/MyDrive/the_dataset/cover/973.pgm', '/content/drive/MyDrive/the_dataset/cover/974.pgm', '/content/drive/MyDrive/the_dataset/cover/975.pgm', '/content/drive/MyDrive/the_dataset/cover/976.pgm', '/content/drive/MyDrive/the_dataset/cover/977.pgm', '/content/drive/MyDrive/the_dataset/cover/978.pgm', '/content/drive/MyDrive/the_dataset/cover/979.pgm', '/content/drive/MyDrive/the_dataset/cover/98.pgm', '/content/drive/MyDrive/the_dataset/cover/980.pgm', '/content/drive/MyDrive/the_dataset/cover/981.pgm', '/content/drive/MyDrive/the_dataset/cover/982.pgm', '/content/drive/MyDrive/the_dataset/cover/983.pgm', '/content/drive/MyDrive/the_dataset/cover/984.pgm', '/content/drive/MyDrive/the_dataset/cover/985.pgm', '/content/drive/MyDrive/the_dataset/cover/986.pgm', '/content/drive/MyDrive/the_dataset/cover/987.pgm', '/content/drive/MyDrive/the_dataset/cover/988.pgm', '/content/drive/MyDrive/the_dataset/cover/989.pgm', '/content/drive/MyDrive/the_dataset/cover/99.pgm', '/content/drive/MyDrive/the_dataset/cover/990.pgm', '/content/drive/MyDrive/the_dataset/cover/991.pgm', '/content/drive/MyDrive/the_dataset/cover/992.pgm', '/content/drive/MyDrive/the_dataset/cover/993.pgm', '/content/drive/MyDrive/the_dataset/cover/994.pgm', '/content/drive/MyDrive/the_dataset/cover/995.pgm', '/content/drive/MyDrive/the_dataset/cover/996.pgm', '/content/drive/MyDrive/the_dataset/cover/997.pgm', '/content/drive/MyDrive/the_dataset/cover/998.pgm', '/content/drive/MyDrive/the_dataset/cover/999.pgm', '/content/drive/MyDrive/the_dataset/stego/1.pgm', '/content/drive/MyDrive/the_dataset/stego/10.pgm', '/content/drive/MyDrive/the_dataset/stego/100.pgm', '/content/drive/MyDrive/the_dataset/stego/1000.pgm', '/content/drive/MyDrive/the_dataset/stego/101.pgm', '/content/drive/MyDrive/the_dataset/stego/102.pgm', '/content/drive/MyDrive/the_dataset/stego/103.pgm', '/content/drive/MyDrive/the_dataset/stego/104.pgm', '/content/drive/MyDrive/the_dataset/stego/105.pgm', '/content/drive/MyDrive/the_dataset/stego/106.pgm', '/content/drive/MyDrive/the_dataset/stego/107.pgm', '/content/drive/MyDrive/the_dataset/stego/108.pgm', '/content/drive/MyDrive/the_dataset/stego/109.pgm', '/content/drive/MyDrive/the_dataset/stego/11.pgm', '/content/drive/MyDrive/the_dataset/stego/110.pgm', '/content/drive/MyDrive/the_dataset/stego/111.pgm', '/content/drive/MyDrive/the_dataset/stego/112.pgm', '/content/drive/MyDrive/the_dataset/stego/113.pgm', '/content/drive/MyDrive/the_dataset/stego/114.pgm', '/content/drive/MyDrive/the_dataset/stego/115.pgm', '/content/drive/MyDrive/the_dataset/stego/116.pgm', '/content/drive/MyDrive/the_dataset/stego/117.pgm', '/content/drive/MyDrive/the_dataset/stego/118.pgm', '/content/drive/MyDrive/the_dataset/stego/119.pgm', '/content/drive/MyDrive/the_dataset/stego/12.pgm', '/content/drive/MyDrive/the_dataset/stego/120.pgm', '/content/drive/MyDrive/the_dataset/stego/121.pgm', '/content/drive/MyDrive/the_dataset/stego/122.pgm', '/content/drive/MyDrive/the_dataset/stego/123.pgm', '/content/drive/MyDrive/the_dataset/stego/124.pgm', '/content/drive/MyDrive/the_dataset/stego/125.pgm', '/content/drive/MyDrive/the_dataset/stego/126.pgm', '/content/drive/MyDrive/the_dataset/stego/127.pgm', '/content/drive/MyDrive/the_dataset/stego/128.pgm', '/content/drive/MyDrive/the_dataset/stego/129.pgm', '/content/drive/MyDrive/the_dataset/stego/13.pgm', '/content/drive/MyDrive/the_dataset/stego/130.pgm', '/content/drive/MyDrive/the_dataset/stego/131.pgm', '/content/drive/MyDrive/the_dataset/stego/132.pgm', '/content/drive/MyDrive/the_dataset/stego/133.pgm', '/content/drive/MyDrive/the_dataset/stego/134.pgm', '/content/drive/MyDrive/the_dataset/stego/135.pgm', '/content/drive/MyDrive/the_dataset/stego/136.pgm', '/content/drive/MyDrive/the_dataset/stego/137.pgm', '/content/drive/MyDrive/the_dataset/stego/138.pgm', '/content/drive/MyDrive/the_dataset/stego/139.pgm', '/content/drive/MyDrive/the_dataset/stego/14.pgm', '/content/drive/MyDrive/the_dataset/stego/140.pgm', '/content/drive/MyDrive/the_dataset/stego/141.pgm', '/content/drive/MyDrive/the_dataset/stego/142.pgm', '/content/drive/MyDrive/the_dataset/stego/143.pgm', '/content/drive/MyDrive/the_dataset/stego/144.pgm', '/content/drive/MyDrive/the_dataset/stego/145.pgm', '/content/drive/MyDrive/the_dataset/stego/146.pgm', '/content/drive/MyDrive/the_dataset/stego/147.pgm', '/content/drive/MyDrive/the_dataset/stego/148.pgm', '/content/drive/MyDrive/the_dataset/stego/149.pgm', '/content/drive/MyDrive/the_dataset/stego/15.pgm', '/content/drive/MyDrive/the_dataset/stego/150.pgm', '/content/drive/MyDrive/the_dataset/stego/151.pgm', '/content/drive/MyDrive/the_dataset/stego/152.pgm', '/content/drive/MyDrive/the_dataset/stego/153.pgm', '/content/drive/MyDrive/the_dataset/stego/154.pgm', '/content/drive/MyDrive/the_dataset/stego/155.pgm', '/content/drive/MyDrive/the_dataset/stego/156.pgm', '/content/drive/MyDrive/the_dataset/stego/157.pgm', '/content/drive/MyDrive/the_dataset/stego/158.pgm', '/content/drive/MyDrive/the_dataset/stego/159.pgm', '/content/drive/MyDrive/the_dataset/stego/16.pgm', '/content/drive/MyDrive/the_dataset/stego/160.pgm', '/content/drive/MyDrive/the_dataset/stego/161.pgm', '/content/drive/MyDrive/the_dataset/stego/162.pgm', '/content/drive/MyDrive/the_dataset/stego/163.pgm', '/content/drive/MyDrive/the_dataset/stego/164.pgm', '/content/drive/MyDrive/the_dataset/stego/165.pgm', '/content/drive/MyDrive/the_dataset/stego/166.pgm', '/content/drive/MyDrive/the_dataset/stego/167.pgm', '/content/drive/MyDrive/the_dataset/stego/168.pgm', '/content/drive/MyDrive/the_dataset/stego/169.pgm', '/content/drive/MyDrive/the_dataset/stego/17.pgm', '/content/drive/MyDrive/the_dataset/stego/170.pgm', '/content/drive/MyDrive/the_dataset/stego/171.pgm', '/content/drive/MyDrive/the_dataset/stego/172.pgm', '/content/drive/MyDrive/the_dataset/stego/173.pgm', '/content/drive/MyDrive/the_dataset/stego/174.pgm', '/content/drive/MyDrive/the_dataset/stego/175.pgm', '/content/drive/MyDrive/the_dataset/stego/176.pgm', '/content/drive/MyDrive/the_dataset/stego/177.pgm', '/content/drive/MyDrive/the_dataset/stego/178.pgm', '/content/drive/MyDrive/the_dataset/stego/179.pgm', '/content/drive/MyDrive/the_dataset/stego/18.pgm', '/content/drive/MyDrive/the_dataset/stego/180.pgm', '/content/drive/MyDrive/the_dataset/stego/181.pgm', '/content/drive/MyDrive/the_dataset/stego/182.pgm', '/content/drive/MyDrive/the_dataset/stego/183.pgm', '/content/drive/MyDrive/the_dataset/stego/184.pgm', '/content/drive/MyDrive/the_dataset/stego/185.pgm', '/content/drive/MyDrive/the_dataset/stego/186.pgm', '/content/drive/MyDrive/the_dataset/stego/187.pgm', '/content/drive/MyDrive/the_dataset/stego/188.pgm', '/content/drive/MyDrive/the_dataset/stego/189.pgm', '/content/drive/MyDrive/the_dataset/stego/19.pgm', '/content/drive/MyDrive/the_dataset/stego/190.pgm', '/content/drive/MyDrive/the_dataset/stego/191.pgm', '/content/drive/MyDrive/the_dataset/stego/192.pgm', '/content/drive/MyDrive/the_dataset/stego/193.pgm', '/content/drive/MyDrive/the_dataset/stego/194.pgm', '/content/drive/MyDrive/the_dataset/stego/195.pgm', '/content/drive/MyDrive/the_dataset/stego/196.pgm', '/content/drive/MyDrive/the_dataset/stego/197.pgm', '/content/drive/MyDrive/the_dataset/stego/198.pgm', '/content/drive/MyDrive/the_dataset/stego/199.pgm', '/content/drive/MyDrive/the_dataset/stego/2.pgm', '/content/drive/MyDrive/the_dataset/stego/20.pgm', '/content/drive/MyDrive/the_dataset/stego/200.pgm', '/content/drive/MyDrive/the_dataset/stego/201.pgm', '/content/drive/MyDrive/the_dataset/stego/202.pgm', '/content/drive/MyDrive/the_dataset/stego/203.pgm', '/content/drive/MyDrive/the_dataset/stego/204.pgm', '/content/drive/MyDrive/the_dataset/stego/205.pgm', '/content/drive/MyDrive/the_dataset/stego/206.pgm', '/content/drive/MyDrive/the_dataset/stego/207.pgm', '/content/drive/MyDrive/the_dataset/stego/208.pgm', '/content/drive/MyDrive/the_dataset/stego/209.pgm', '/content/drive/MyDrive/the_dataset/stego/21.pgm', '/content/drive/MyDrive/the_dataset/stego/210.pgm', '/content/drive/MyDrive/the_dataset/stego/211.pgm', '/content/drive/MyDrive/the_dataset/stego/212.pgm', '/content/drive/MyDrive/the_dataset/stego/213.pgm', '/content/drive/MyDrive/the_dataset/stego/214.pgm', '/content/drive/MyDrive/the_dataset/stego/215.pgm', '/content/drive/MyDrive/the_dataset/stego/216.pgm', '/content/drive/MyDrive/the_dataset/stego/217.pgm', '/content/drive/MyDrive/the_dataset/stego/218.pgm', '/content/drive/MyDrive/the_dataset/stego/219.pgm', '/content/drive/MyDrive/the_dataset/stego/22.pgm', '/content/drive/MyDrive/the_dataset/stego/220.pgm', '/content/drive/MyDrive/the_dataset/stego/221.pgm', '/content/drive/MyDrive/the_dataset/stego/222.pgm', '/content/drive/MyDrive/the_dataset/stego/223.pgm', '/content/drive/MyDrive/the_dataset/stego/224.pgm', '/content/drive/MyDrive/the_dataset/stego/225.pgm', '/content/drive/MyDrive/the_dataset/stego/226.pgm', '/content/drive/MyDrive/the_dataset/stego/227.pgm', '/content/drive/MyDrive/the_dataset/stego/228.pgm', '/content/drive/MyDrive/the_dataset/stego/229.pgm', '/content/drive/MyDrive/the_dataset/stego/23.pgm', '/content/drive/MyDrive/the_dataset/stego/230.pgm', '/content/drive/MyDrive/the_dataset/stego/231.pgm', '/content/drive/MyDrive/the_dataset/stego/232.pgm', '/content/drive/MyDrive/the_dataset/stego/233.pgm', '/content/drive/MyDrive/the_dataset/stego/234.pgm', '/content/drive/MyDrive/the_dataset/stego/235.pgm', '/content/drive/MyDrive/the_dataset/stego/236.pgm', '/content/drive/MyDrive/the_dataset/stego/237.pgm', '/content/drive/MyDrive/the_dataset/stego/238.pgm', '/content/drive/MyDrive/the_dataset/stego/239.pgm', '/content/drive/MyDrive/the_dataset/stego/24.pgm', '/content/drive/MyDrive/the_dataset/stego/240.pgm', '/content/drive/MyDrive/the_dataset/stego/241.pgm', '/content/drive/MyDrive/the_dataset/stego/242.pgm', '/content/drive/MyDrive/the_dataset/stego/243.pgm', '/content/drive/MyDrive/the_dataset/stego/244.pgm', '/content/drive/MyDrive/the_dataset/stego/245.pgm', '/content/drive/MyDrive/the_dataset/stego/246.pgm', '/content/drive/MyDrive/the_dataset/stego/247.pgm', '/content/drive/MyDrive/the_dataset/stego/248.pgm', '/content/drive/MyDrive/the_dataset/stego/249.pgm', '/content/drive/MyDrive/the_dataset/stego/25.pgm', '/content/drive/MyDrive/the_dataset/stego/250.pgm', '/content/drive/MyDrive/the_dataset/stego/251.pgm', '/content/drive/MyDrive/the_dataset/stego/252.pgm', '/content/drive/MyDrive/the_dataset/stego/253.pgm', '/content/drive/MyDrive/the_dataset/stego/254.pgm', '/content/drive/MyDrive/the_dataset/stego/255.pgm', '/content/drive/MyDrive/the_dataset/stego/256.pgm', '/content/drive/MyDrive/the_dataset/stego/257.pgm', '/content/drive/MyDrive/the_dataset/stego/258.pgm', '/content/drive/MyDrive/the_dataset/stego/259.pgm', '/content/drive/MyDrive/the_dataset/stego/26.pgm', '/content/drive/MyDrive/the_dataset/stego/260.pgm', '/content/drive/MyDrive/the_dataset/stego/261.pgm', '/content/drive/MyDrive/the_dataset/stego/262.pgm', '/content/drive/MyDrive/the_dataset/stego/263.pgm', '/content/drive/MyDrive/the_dataset/stego/264.pgm', '/content/drive/MyDrive/the_dataset/stego/265.pgm', '/content/drive/MyDrive/the_dataset/stego/266.pgm', '/content/drive/MyDrive/the_dataset/stego/267.pgm', '/content/drive/MyDrive/the_dataset/stego/268.pgm', '/content/drive/MyDrive/the_dataset/stego/269.pgm', '/content/drive/MyDrive/the_dataset/stego/27.pgm', '/content/drive/MyDrive/the_dataset/stego/270.pgm', '/content/drive/MyDrive/the_dataset/stego/271.pgm', '/content/drive/MyDrive/the_dataset/stego/272.pgm', '/content/drive/MyDrive/the_dataset/stego/273.pgm', '/content/drive/MyDrive/the_dataset/stego/274.pgm', '/content/drive/MyDrive/the_dataset/stego/275.pgm', '/content/drive/MyDrive/the_dataset/stego/276.pgm', '/content/drive/MyDrive/the_dataset/stego/277.pgm', '/content/drive/MyDrive/the_dataset/stego/278.pgm', '/content/drive/MyDrive/the_dataset/stego/279.pgm', '/content/drive/MyDrive/the_dataset/stego/28.pgm', '/content/drive/MyDrive/the_dataset/stego/280.pgm', '/content/drive/MyDrive/the_dataset/stego/281.pgm', '/content/drive/MyDrive/the_dataset/stego/282.pgm', '/content/drive/MyDrive/the_dataset/stego/283.pgm', '/content/drive/MyDrive/the_dataset/stego/284.pgm', '/content/drive/MyDrive/the_dataset/stego/285.pgm', '/content/drive/MyDrive/the_dataset/stego/286.pgm', '/content/drive/MyDrive/the_dataset/stego/287.pgm', '/content/drive/MyDrive/the_dataset/stego/288.pgm', '/content/drive/MyDrive/the_dataset/stego/289.pgm', '/content/drive/MyDrive/the_dataset/stego/29.pgm', '/content/drive/MyDrive/the_dataset/stego/290.pgm', '/content/drive/MyDrive/the_dataset/stego/291.pgm', '/content/drive/MyDrive/the_dataset/stego/292.pgm', '/content/drive/MyDrive/the_dataset/stego/293.pgm', '/content/drive/MyDrive/the_dataset/stego/294.pgm', '/content/drive/MyDrive/the_dataset/stego/295.pgm', '/content/drive/MyDrive/the_dataset/stego/296.pgm', '/content/drive/MyDrive/the_dataset/stego/297.pgm', '/content/drive/MyDrive/the_dataset/stego/298.pgm', '/content/drive/MyDrive/the_dataset/stego/299.pgm', '/content/drive/MyDrive/the_dataset/stego/3.pgm', '/content/drive/MyDrive/the_dataset/stego/30.pgm', '/content/drive/MyDrive/the_dataset/stego/300.pgm', '/content/drive/MyDrive/the_dataset/stego/301.pgm', '/content/drive/MyDrive/the_dataset/stego/302.pgm', '/content/drive/MyDrive/the_dataset/stego/303.pgm', '/content/drive/MyDrive/the_dataset/stego/304.pgm', '/content/drive/MyDrive/the_dataset/stego/305.pgm', '/content/drive/MyDrive/the_dataset/stego/306.pgm', '/content/drive/MyDrive/the_dataset/stego/307.pgm', '/content/drive/MyDrive/the_dataset/stego/308.pgm', '/content/drive/MyDrive/the_dataset/stego/309.pgm', '/content/drive/MyDrive/the_dataset/stego/31.pgm', '/content/drive/MyDrive/the_dataset/stego/310.pgm', '/content/drive/MyDrive/the_dataset/stego/311.pgm', '/content/drive/MyDrive/the_dataset/stego/312.pgm', '/content/drive/MyDrive/the_dataset/stego/313.pgm', '/content/drive/MyDrive/the_dataset/stego/314.pgm', '/content/drive/MyDrive/the_dataset/stego/315.pgm', '/content/drive/MyDrive/the_dataset/stego/316.pgm', '/content/drive/MyDrive/the_dataset/stego/317.pgm', '/content/drive/MyDrive/the_dataset/stego/318.pgm', '/content/drive/MyDrive/the_dataset/stego/319.pgm', '/content/drive/MyDrive/the_dataset/stego/32.pgm', '/content/drive/MyDrive/the_dataset/stego/320.pgm', '/content/drive/MyDrive/the_dataset/stego/321.pgm', '/content/drive/MyDrive/the_dataset/stego/322.pgm', '/content/drive/MyDrive/the_dataset/stego/323.pgm', '/content/drive/MyDrive/the_dataset/stego/324.pgm', '/content/drive/MyDrive/the_dataset/stego/325.pgm', '/content/drive/MyDrive/the_dataset/stego/326.pgm', '/content/drive/MyDrive/the_dataset/stego/327.pgm', '/content/drive/MyDrive/the_dataset/stego/328.pgm', '/content/drive/MyDrive/the_dataset/stego/329.pgm', '/content/drive/MyDrive/the_dataset/stego/33.pgm', '/content/drive/MyDrive/the_dataset/stego/330.pgm', '/content/drive/MyDrive/the_dataset/stego/331.pgm', '/content/drive/MyDrive/the_dataset/stego/332.pgm', '/content/drive/MyDrive/the_dataset/stego/333.pgm', '/content/drive/MyDrive/the_dataset/stego/334.pgm', '/content/drive/MyDrive/the_dataset/stego/335.pgm', '/content/drive/MyDrive/the_dataset/stego/336.pgm', '/content/drive/MyDrive/the_dataset/stego/337.pgm', '/content/drive/MyDrive/the_dataset/stego/338.pgm', '/content/drive/MyDrive/the_dataset/stego/339.pgm', '/content/drive/MyDrive/the_dataset/stego/34.pgm', '/content/drive/MyDrive/the_dataset/stego/340.pgm', '/content/drive/MyDrive/the_dataset/stego/341.pgm', '/content/drive/MyDrive/the_dataset/stego/342.pgm', '/content/drive/MyDrive/the_dataset/stego/343.pgm', '/content/drive/MyDrive/the_dataset/stego/344.pgm', '/content/drive/MyDrive/the_dataset/stego/345.pgm', '/content/drive/MyDrive/the_dataset/stego/346.pgm', '/content/drive/MyDrive/the_dataset/stego/347.pgm', '/content/drive/MyDrive/the_dataset/stego/348.pgm', '/content/drive/MyDrive/the_dataset/stego/349.pgm', '/content/drive/MyDrive/the_dataset/stego/35.pgm', '/content/drive/MyDrive/the_dataset/stego/350.pgm', '/content/drive/MyDrive/the_dataset/stego/351.pgm', '/content/drive/MyDrive/the_dataset/stego/352.pgm', '/content/drive/MyDrive/the_dataset/stego/353.pgm', '/content/drive/MyDrive/the_dataset/stego/354.pgm', '/content/drive/MyDrive/the_dataset/stego/355.pgm', '/content/drive/MyDrive/the_dataset/stego/356.pgm', '/content/drive/MyDrive/the_dataset/stego/357.pgm', '/content/drive/MyDrive/the_dataset/stego/358.pgm', '/content/drive/MyDrive/the_dataset/stego/359.pgm', '/content/drive/MyDrive/the_dataset/stego/36.pgm', '/content/drive/MyDrive/the_dataset/stego/360.pgm', '/content/drive/MyDrive/the_dataset/stego/361.pgm', '/content/drive/MyDrive/the_dataset/stego/362.pgm', '/content/drive/MyDrive/the_dataset/stego/363.pgm', '/content/drive/MyDrive/the_dataset/stego/364.pgm', '/content/drive/MyDrive/the_dataset/stego/365.pgm', '/content/drive/MyDrive/the_dataset/stego/366.pgm', '/content/drive/MyDrive/the_dataset/stego/367.pgm', '/content/drive/MyDrive/the_dataset/stego/368.pgm', '/content/drive/MyDrive/the_dataset/stego/369.pgm', '/content/drive/MyDrive/the_dataset/stego/37.pgm', '/content/drive/MyDrive/the_dataset/stego/370.pgm', '/content/drive/MyDrive/the_dataset/stego/371.pgm', '/content/drive/MyDrive/the_dataset/stego/372.pgm', '/content/drive/MyDrive/the_dataset/stego/373.pgm', '/content/drive/MyDrive/the_dataset/stego/374.pgm', '/content/drive/MyDrive/the_dataset/stego/375.pgm', '/content/drive/MyDrive/the_dataset/stego/376.pgm', '/content/drive/MyDrive/the_dataset/stego/377.pgm', '/content/drive/MyDrive/the_dataset/stego/378.pgm', '/content/drive/MyDrive/the_dataset/stego/379.pgm', '/content/drive/MyDrive/the_dataset/stego/38.pgm', '/content/drive/MyDrive/the_dataset/stego/380.pgm', '/content/drive/MyDrive/the_dataset/stego/381.pgm', '/content/drive/MyDrive/the_dataset/stego/382.pgm', '/content/drive/MyDrive/the_dataset/stego/383.pgm', '/content/drive/MyDrive/the_dataset/stego/384.pgm', '/content/drive/MyDrive/the_dataset/stego/385.pgm', '/content/drive/MyDrive/the_dataset/stego/386.pgm', '/content/drive/MyDrive/the_dataset/stego/387.pgm', '/content/drive/MyDrive/the_dataset/stego/388.pgm', '/content/drive/MyDrive/the_dataset/stego/389.pgm', '/content/drive/MyDrive/the_dataset/stego/39.pgm', '/content/drive/MyDrive/the_dataset/stego/390.pgm', '/content/drive/MyDrive/the_dataset/stego/391.pgm', '/content/drive/MyDrive/the_dataset/stego/392.pgm', '/content/drive/MyDrive/the_dataset/stego/393.pgm', '/content/drive/MyDrive/the_dataset/stego/394.pgm', '/content/drive/MyDrive/the_dataset/stego/395.pgm', '/content/drive/MyDrive/the_dataset/stego/396.pgm', '/content/drive/MyDrive/the_dataset/stego/397.pgm', '/content/drive/MyDrive/the_dataset/stego/398.pgm', '/content/drive/MyDrive/the_dataset/stego/399.pgm', '/content/drive/MyDrive/the_dataset/stego/4.pgm', '/content/drive/MyDrive/the_dataset/stego/40.pgm', '/content/drive/MyDrive/the_dataset/stego/400.pgm', '/content/drive/MyDrive/the_dataset/stego/401.pgm', '/content/drive/MyDrive/the_dataset/stego/402.pgm', '/content/drive/MyDrive/the_dataset/stego/403.pgm', '/content/drive/MyDrive/the_dataset/stego/404.pgm', '/content/drive/MyDrive/the_dataset/stego/405.pgm', '/content/drive/MyDrive/the_dataset/stego/406.pgm', '/content/drive/MyDrive/the_dataset/stego/407.pgm', '/content/drive/MyDrive/the_dataset/stego/408.pgm', '/content/drive/MyDrive/the_dataset/stego/409.pgm', '/content/drive/MyDrive/the_dataset/stego/41.pgm', '/content/drive/MyDrive/the_dataset/stego/410.pgm', '/content/drive/MyDrive/the_dataset/stego/411.pgm', '/content/drive/MyDrive/the_dataset/stego/412.pgm', '/content/drive/MyDrive/the_dataset/stego/413.pgm', '/content/drive/MyDrive/the_dataset/stego/414.pgm', '/content/drive/MyDrive/the_dataset/stego/415.pgm', '/content/drive/MyDrive/the_dataset/stego/416.pgm', '/content/drive/MyDrive/the_dataset/stego/417.pgm', '/content/drive/MyDrive/the_dataset/stego/418.pgm', '/content/drive/MyDrive/the_dataset/stego/419.pgm', '/content/drive/MyDrive/the_dataset/stego/42.pgm', '/content/drive/MyDrive/the_dataset/stego/420.pgm', '/content/drive/MyDrive/the_dataset/stego/421.pgm', '/content/drive/MyDrive/the_dataset/stego/422.pgm', '/content/drive/MyDrive/the_dataset/stego/423.pgm', '/content/drive/MyDrive/the_dataset/stego/424.pgm', '/content/drive/MyDrive/the_dataset/stego/425.pgm', '/content/drive/MyDrive/the_dataset/stego/426.pgm', '/content/drive/MyDrive/the_dataset/stego/427.pgm', '/content/drive/MyDrive/the_dataset/stego/428.pgm', '/content/drive/MyDrive/the_dataset/stego/429.pgm', '/content/drive/MyDrive/the_dataset/stego/43.pgm', '/content/drive/MyDrive/the_dataset/stego/430.pgm', '/content/drive/MyDrive/the_dataset/stego/431.pgm', '/content/drive/MyDrive/the_dataset/stego/432.pgm', '/content/drive/MyDrive/the_dataset/stego/433.pgm', '/content/drive/MyDrive/the_dataset/stego/434.pgm', '/content/drive/MyDrive/the_dataset/stego/435.pgm', '/content/drive/MyDrive/the_dataset/stego/436.pgm', '/content/drive/MyDrive/the_dataset/stego/437.pgm', '/content/drive/MyDrive/the_dataset/stego/438.pgm', '/content/drive/MyDrive/the_dataset/stego/439.pgm', '/content/drive/MyDrive/the_dataset/stego/44.pgm', '/content/drive/MyDrive/the_dataset/stego/440.pgm', '/content/drive/MyDrive/the_dataset/stego/441.pgm', '/content/drive/MyDrive/the_dataset/stego/442.pgm', '/content/drive/MyDrive/the_dataset/stego/443.pgm', '/content/drive/MyDrive/the_dataset/stego/444.pgm', '/content/drive/MyDrive/the_dataset/stego/445.pgm', '/content/drive/MyDrive/the_dataset/stego/446.pgm', '/content/drive/MyDrive/the_dataset/stego/447.pgm', '/content/drive/MyDrive/the_dataset/stego/448.pgm', '/content/drive/MyDrive/the_dataset/stego/449.pgm', '/content/drive/MyDrive/the_dataset/stego/45.pgm', '/content/drive/MyDrive/the_dataset/stego/450.pgm', '/content/drive/MyDrive/the_dataset/stego/451.pgm', '/content/drive/MyDrive/the_dataset/stego/452.pgm', '/content/drive/MyDrive/the_dataset/stego/453.pgm', '/content/drive/MyDrive/the_dataset/stego/454.pgm', '/content/drive/MyDrive/the_dataset/stego/455.pgm', '/content/drive/MyDrive/the_dataset/stego/456.pgm', '/content/drive/MyDrive/the_dataset/stego/457.pgm', '/content/drive/MyDrive/the_dataset/stego/458.pgm', '/content/drive/MyDrive/the_dataset/stego/459.pgm', '/content/drive/MyDrive/the_dataset/stego/46.pgm', '/content/drive/MyDrive/the_dataset/stego/460.pgm', '/content/drive/MyDrive/the_dataset/stego/461.pgm', '/content/drive/MyDrive/the_dataset/stego/462.pgm', '/content/drive/MyDrive/the_dataset/stego/463.pgm', '/content/drive/MyDrive/the_dataset/stego/464.pgm', '/content/drive/MyDrive/the_dataset/stego/465.pgm', '/content/drive/MyDrive/the_dataset/stego/466.pgm', '/content/drive/MyDrive/the_dataset/stego/467.pgm', '/content/drive/MyDrive/the_dataset/stego/468.pgm', '/content/drive/MyDrive/the_dataset/stego/469.pgm', '/content/drive/MyDrive/the_dataset/stego/47.pgm', '/content/drive/MyDrive/the_dataset/stego/470.pgm', '/content/drive/MyDrive/the_dataset/stego/471.pgm', '/content/drive/MyDrive/the_dataset/stego/472.pgm', '/content/drive/MyDrive/the_dataset/stego/473.pgm', '/content/drive/MyDrive/the_dataset/stego/474.pgm', '/content/drive/MyDrive/the_dataset/stego/475.pgm', '/content/drive/MyDrive/the_dataset/stego/476.pgm', '/content/drive/MyDrive/the_dataset/stego/477.pgm', '/content/drive/MyDrive/the_dataset/stego/478.pgm', '/content/drive/MyDrive/the_dataset/stego/479.pgm', '/content/drive/MyDrive/the_dataset/stego/48.pgm', '/content/drive/MyDrive/the_dataset/stego/480.pgm', '/content/drive/MyDrive/the_dataset/stego/481.pgm', '/content/drive/MyDrive/the_dataset/stego/482.pgm', '/content/drive/MyDrive/the_dataset/stego/483.pgm', '/content/drive/MyDrive/the_dataset/stego/484.pgm', '/content/drive/MyDrive/the_dataset/stego/485.pgm', '/content/drive/MyDrive/the_dataset/stego/486.pgm', '/content/drive/MyDrive/the_dataset/stego/487.pgm', '/content/drive/MyDrive/the_dataset/stego/488.pgm', '/content/drive/MyDrive/the_dataset/stego/489.pgm', '/content/drive/MyDrive/the_dataset/stego/49.pgm', '/content/drive/MyDrive/the_dataset/stego/490.pgm', '/content/drive/MyDrive/the_dataset/stego/491.pgm', '/content/drive/MyDrive/the_dataset/stego/492.pgm', '/content/drive/MyDrive/the_dataset/stego/493.pgm', '/content/drive/MyDrive/the_dataset/stego/494.pgm', '/content/drive/MyDrive/the_dataset/stego/495.pgm', '/content/drive/MyDrive/the_dataset/stego/496.pgm', '/content/drive/MyDrive/the_dataset/stego/497.pgm', '/content/drive/MyDrive/the_dataset/stego/498.pgm', '/content/drive/MyDrive/the_dataset/stego/499.pgm', '/content/drive/MyDrive/the_dataset/stego/5.pgm', '/content/drive/MyDrive/the_dataset/stego/50.pgm', '/content/drive/MyDrive/the_dataset/stego/500.pgm', '/content/drive/MyDrive/the_dataset/stego/501.pgm', '/content/drive/MyDrive/the_dataset/stego/502.pgm', '/content/drive/MyDrive/the_dataset/stego/503.pgm', '/content/drive/MyDrive/the_dataset/stego/504.pgm', '/content/drive/MyDrive/the_dataset/stego/505.pgm', '/content/drive/MyDrive/the_dataset/stego/506.pgm', '/content/drive/MyDrive/the_dataset/stego/507.pgm', '/content/drive/MyDrive/the_dataset/stego/508.pgm', '/content/drive/MyDrive/the_dataset/stego/509.pgm', '/content/drive/MyDrive/the_dataset/stego/51.pgm', '/content/drive/MyDrive/the_dataset/stego/510.pgm', '/content/drive/MyDrive/the_dataset/stego/511.pgm', '/content/drive/MyDrive/the_dataset/stego/512.pgm', '/content/drive/MyDrive/the_dataset/stego/513.pgm', '/content/drive/MyDrive/the_dataset/stego/514.pgm', '/content/drive/MyDrive/the_dataset/stego/515.pgm', '/content/drive/MyDrive/the_dataset/stego/516.pgm', '/content/drive/MyDrive/the_dataset/stego/517.pgm', '/content/drive/MyDrive/the_dataset/stego/518.pgm', '/content/drive/MyDrive/the_dataset/stego/519.pgm', '/content/drive/MyDrive/the_dataset/stego/52.pgm', '/content/drive/MyDrive/the_dataset/stego/520.pgm', '/content/drive/MyDrive/the_dataset/stego/521.pgm', '/content/drive/MyDrive/the_dataset/stego/522.pgm', '/content/drive/MyDrive/the_dataset/stego/523.pgm', '/content/drive/MyDrive/the_dataset/stego/524.pgm', '/content/drive/MyDrive/the_dataset/stego/525.pgm', '/content/drive/MyDrive/the_dataset/stego/526.pgm', '/content/drive/MyDrive/the_dataset/stego/527.pgm', '/content/drive/MyDrive/the_dataset/stego/528.pgm', '/content/drive/MyDrive/the_dataset/stego/529.pgm', '/content/drive/MyDrive/the_dataset/stego/53.pgm', '/content/drive/MyDrive/the_dataset/stego/530.pgm', '/content/drive/MyDrive/the_dataset/stego/531.pgm', '/content/drive/MyDrive/the_dataset/stego/532.pgm', '/content/drive/MyDrive/the_dataset/stego/533.pgm', '/content/drive/MyDrive/the_dataset/stego/534.pgm', '/content/drive/MyDrive/the_dataset/stego/535.pgm', '/content/drive/MyDrive/the_dataset/stego/536.pgm', '/content/drive/MyDrive/the_dataset/stego/537.pgm', '/content/drive/MyDrive/the_dataset/stego/538.pgm', '/content/drive/MyDrive/the_dataset/stego/539.pgm', '/content/drive/MyDrive/the_dataset/stego/54.pgm', '/content/drive/MyDrive/the_dataset/stego/540.pgm', '/content/drive/MyDrive/the_dataset/stego/541.pgm', '/content/drive/MyDrive/the_dataset/stego/542.pgm', '/content/drive/MyDrive/the_dataset/stego/543.pgm', '/content/drive/MyDrive/the_dataset/stego/544.pgm', '/content/drive/MyDrive/the_dataset/stego/545.pgm', '/content/drive/MyDrive/the_dataset/stego/546.pgm', '/content/drive/MyDrive/the_dataset/stego/547.pgm', '/content/drive/MyDrive/the_dataset/stego/548.pgm', '/content/drive/MyDrive/the_dataset/stego/549.pgm', '/content/drive/MyDrive/the_dataset/stego/55.pgm', '/content/drive/MyDrive/the_dataset/stego/550.pgm', '/content/drive/MyDrive/the_dataset/stego/551.pgm', '/content/drive/MyDrive/the_dataset/stego/552.pgm', '/content/drive/MyDrive/the_dataset/stego/553.pgm', '/content/drive/MyDrive/the_dataset/stego/554.pgm', '/content/drive/MyDrive/the_dataset/stego/555.pgm', '/content/drive/MyDrive/the_dataset/stego/556.pgm', '/content/drive/MyDrive/the_dataset/stego/557.pgm', '/content/drive/MyDrive/the_dataset/stego/558.pgm', '/content/drive/MyDrive/the_dataset/stego/559.pgm', '/content/drive/MyDrive/the_dataset/stego/56.pgm', '/content/drive/MyDrive/the_dataset/stego/560.pgm', '/content/drive/MyDrive/the_dataset/stego/561.pgm', '/content/drive/MyDrive/the_dataset/stego/562.pgm', '/content/drive/MyDrive/the_dataset/stego/563.pgm', '/content/drive/MyDrive/the_dataset/stego/564.pgm', '/content/drive/MyDrive/the_dataset/stego/565.pgm', '/content/drive/MyDrive/the_dataset/stego/566.pgm', '/content/drive/MyDrive/the_dataset/stego/567.pgm', '/content/drive/MyDrive/the_dataset/stego/568.pgm', '/content/drive/MyDrive/the_dataset/stego/569.pgm', '/content/drive/MyDrive/the_dataset/stego/57.pgm', '/content/drive/MyDrive/the_dataset/stego/570.pgm', '/content/drive/MyDrive/the_dataset/stego/571.pgm', '/content/drive/MyDrive/the_dataset/stego/572.pgm', '/content/drive/MyDrive/the_dataset/stego/573.pgm', '/content/drive/MyDrive/the_dataset/stego/574.pgm', '/content/drive/MyDrive/the_dataset/stego/575.pgm', '/content/drive/MyDrive/the_dataset/stego/576.pgm', '/content/drive/MyDrive/the_dataset/stego/577.pgm', '/content/drive/MyDrive/the_dataset/stego/578.pgm', '/content/drive/MyDrive/the_dataset/stego/579.pgm', '/content/drive/MyDrive/the_dataset/stego/58.pgm', '/content/drive/MyDrive/the_dataset/stego/580.pgm', '/content/drive/MyDrive/the_dataset/stego/581.pgm', '/content/drive/MyDrive/the_dataset/stego/582.pgm', '/content/drive/MyDrive/the_dataset/stego/583.pgm', '/content/drive/MyDrive/the_dataset/stego/584.pgm', '/content/drive/MyDrive/the_dataset/stego/585.pgm', '/content/drive/MyDrive/the_dataset/stego/586.pgm', '/content/drive/MyDrive/the_dataset/stego/587.pgm', '/content/drive/MyDrive/the_dataset/stego/588.pgm', '/content/drive/MyDrive/the_dataset/stego/589.pgm', '/content/drive/MyDrive/the_dataset/stego/59.pgm', '/content/drive/MyDrive/the_dataset/stego/590.pgm', '/content/drive/MyDrive/the_dataset/stego/591.pgm', '/content/drive/MyDrive/the_dataset/stego/592.pgm', '/content/drive/MyDrive/the_dataset/stego/593.pgm', '/content/drive/MyDrive/the_dataset/stego/594.pgm', '/content/drive/MyDrive/the_dataset/stego/595.pgm', '/content/drive/MyDrive/the_dataset/stego/596.pgm', '/content/drive/MyDrive/the_dataset/stego/597.pgm', '/content/drive/MyDrive/the_dataset/stego/598.pgm', '/content/drive/MyDrive/the_dataset/stego/599.pgm', '/content/drive/MyDrive/the_dataset/stego/6.pgm', '/content/drive/MyDrive/the_dataset/stego/60.pgm', '/content/drive/MyDrive/the_dataset/stego/600.pgm', '/content/drive/MyDrive/the_dataset/stego/601.pgm', '/content/drive/MyDrive/the_dataset/stego/602.pgm', '/content/drive/MyDrive/the_dataset/stego/603.pgm', '/content/drive/MyDrive/the_dataset/stego/604.pgm', '/content/drive/MyDrive/the_dataset/stego/605.pgm', '/content/drive/MyDrive/the_dataset/stego/606.pgm', '/content/drive/MyDrive/the_dataset/stego/607.pgm', '/content/drive/MyDrive/the_dataset/stego/608.pgm', '/content/drive/MyDrive/the_dataset/stego/609.pgm', '/content/drive/MyDrive/the_dataset/stego/61.pgm', '/content/drive/MyDrive/the_dataset/stego/610.pgm', '/content/drive/MyDrive/the_dataset/stego/611.pgm', '/content/drive/MyDrive/the_dataset/stego/612.pgm', '/content/drive/MyDrive/the_dataset/stego/613.pgm', '/content/drive/MyDrive/the_dataset/stego/614.pgm', '/content/drive/MyDrive/the_dataset/stego/615.pgm', '/content/drive/MyDrive/the_dataset/stego/616.pgm', '/content/drive/MyDrive/the_dataset/stego/617.pgm', '/content/drive/MyDrive/the_dataset/stego/618.pgm', '/content/drive/MyDrive/the_dataset/stego/619.pgm', '/content/drive/MyDrive/the_dataset/stego/62.pgm', '/content/drive/MyDrive/the_dataset/stego/620.pgm', '/content/drive/MyDrive/the_dataset/stego/621.pgm', '/content/drive/MyDrive/the_dataset/stego/622.pgm', '/content/drive/MyDrive/the_dataset/stego/623.pgm', '/content/drive/MyDrive/the_dataset/stego/624.pgm', '/content/drive/MyDrive/the_dataset/stego/625.pgm', '/content/drive/MyDrive/the_dataset/stego/626.pgm', '/content/drive/MyDrive/the_dataset/stego/627.pgm', '/content/drive/MyDrive/the_dataset/stego/628.pgm', '/content/drive/MyDrive/the_dataset/stego/629.pgm', '/content/drive/MyDrive/the_dataset/stego/63.pgm', '/content/drive/MyDrive/the_dataset/stego/630.pgm', '/content/drive/MyDrive/the_dataset/stego/631.pgm', '/content/drive/MyDrive/the_dataset/stego/632.pgm', '/content/drive/MyDrive/the_dataset/stego/633.pgm', '/content/drive/MyDrive/the_dataset/stego/634.pgm', '/content/drive/MyDrive/the_dataset/stego/635.pgm', '/content/drive/MyDrive/the_dataset/stego/636.pgm', '/content/drive/MyDrive/the_dataset/stego/637.pgm', '/content/drive/MyDrive/the_dataset/stego/638.pgm', '/content/drive/MyDrive/the_dataset/stego/639.pgm', '/content/drive/MyDrive/the_dataset/stego/64.pgm', '/content/drive/MyDrive/the_dataset/stego/640.pgm', '/content/drive/MyDrive/the_dataset/stego/641.pgm', '/content/drive/MyDrive/the_dataset/stego/642.pgm', '/content/drive/MyDrive/the_dataset/stego/643.pgm', '/content/drive/MyDrive/the_dataset/stego/644.pgm', '/content/drive/MyDrive/the_dataset/stego/645.pgm', '/content/drive/MyDrive/the_dataset/stego/646.pgm', '/content/drive/MyDrive/the_dataset/stego/647.pgm', '/content/drive/MyDrive/the_dataset/stego/648.pgm', '/content/drive/MyDrive/the_dataset/stego/649.pgm', '/content/drive/MyDrive/the_dataset/stego/65.pgm', '/content/drive/MyDrive/the_dataset/stego/650.pgm', '/content/drive/MyDrive/the_dataset/stego/651.pgm', '/content/drive/MyDrive/the_dataset/stego/652.pgm', '/content/drive/MyDrive/the_dataset/stego/653.pgm', '/content/drive/MyDrive/the_dataset/stego/654.pgm', '/content/drive/MyDrive/the_dataset/stego/655.pgm', '/content/drive/MyDrive/the_dataset/stego/656.pgm', '/content/drive/MyDrive/the_dataset/stego/657.pgm', '/content/drive/MyDrive/the_dataset/stego/658.pgm', '/content/drive/MyDrive/the_dataset/stego/659.pgm', '/content/drive/MyDrive/the_dataset/stego/66.pgm', '/content/drive/MyDrive/the_dataset/stego/660.pgm', '/content/drive/MyDrive/the_dataset/stego/661.pgm', '/content/drive/MyDrive/the_dataset/stego/662.pgm', '/content/drive/MyDrive/the_dataset/stego/663.pgm', '/content/drive/MyDrive/the_dataset/stego/664.pgm', '/content/drive/MyDrive/the_dataset/stego/665.pgm', '/content/drive/MyDrive/the_dataset/stego/666.pgm', '/content/drive/MyDrive/the_dataset/stego/667.pgm', '/content/drive/MyDrive/the_dataset/stego/668.pgm', '/content/drive/MyDrive/the_dataset/stego/669.pgm', '/content/drive/MyDrive/the_dataset/stego/67.pgm', '/content/drive/MyDrive/the_dataset/stego/670.pgm', '/content/drive/MyDrive/the_dataset/stego/671.pgm', '/content/drive/MyDrive/the_dataset/stego/672.pgm', '/content/drive/MyDrive/the_dataset/stego/673.pgm', '/content/drive/MyDrive/the_dataset/stego/674.pgm', '/content/drive/MyDrive/the_dataset/stego/675.pgm', '/content/drive/MyDrive/the_dataset/stego/676.pgm', '/content/drive/MyDrive/the_dataset/stego/677.pgm', '/content/drive/MyDrive/the_dataset/stego/678.pgm', '/content/drive/MyDrive/the_dataset/stego/679.pgm', '/content/drive/MyDrive/the_dataset/stego/68.pgm', '/content/drive/MyDrive/the_dataset/stego/680.pgm', '/content/drive/MyDrive/the_dataset/stego/681.pgm', '/content/drive/MyDrive/the_dataset/stego/682.pgm', '/content/drive/MyDrive/the_dataset/stego/683.pgm', '/content/drive/MyDrive/the_dataset/stego/684.pgm', '/content/drive/MyDrive/the_dataset/stego/685.pgm', '/content/drive/MyDrive/the_dataset/stego/686.pgm', '/content/drive/MyDrive/the_dataset/stego/687.pgm', '/content/drive/MyDrive/the_dataset/stego/688.pgm', '/content/drive/MyDrive/the_dataset/stego/689.pgm', '/content/drive/MyDrive/the_dataset/stego/69.pgm', '/content/drive/MyDrive/the_dataset/stego/690.pgm', '/content/drive/MyDrive/the_dataset/stego/691.pgm', '/content/drive/MyDrive/the_dataset/stego/692.pgm', '/content/drive/MyDrive/the_dataset/stego/693.pgm', '/content/drive/MyDrive/the_dataset/stego/694.pgm', '/content/drive/MyDrive/the_dataset/stego/695.pgm', '/content/drive/MyDrive/the_dataset/stego/696.pgm', '/content/drive/MyDrive/the_dataset/stego/697.pgm', '/content/drive/MyDrive/the_dataset/stego/698.pgm', '/content/drive/MyDrive/the_dataset/stego/699.pgm', '/content/drive/MyDrive/the_dataset/stego/7.pgm', '/content/drive/MyDrive/the_dataset/stego/70.pgm', '/content/drive/MyDrive/the_dataset/stego/700.pgm', '/content/drive/MyDrive/the_dataset/stego/701.pgm', '/content/drive/MyDrive/the_dataset/stego/702.pgm', '/content/drive/MyDrive/the_dataset/stego/703.pgm', '/content/drive/MyDrive/the_dataset/stego/704.pgm', '/content/drive/MyDrive/the_dataset/stego/705.pgm', '/content/drive/MyDrive/the_dataset/stego/706.pgm', '/content/drive/MyDrive/the_dataset/stego/707.pgm', '/content/drive/MyDrive/the_dataset/stego/708.pgm', '/content/drive/MyDrive/the_dataset/stego/709.pgm', '/content/drive/MyDrive/the_dataset/stego/71.pgm', '/content/drive/MyDrive/the_dataset/stego/710.pgm', '/content/drive/MyDrive/the_dataset/stego/711.pgm', '/content/drive/MyDrive/the_dataset/stego/712.pgm', '/content/drive/MyDrive/the_dataset/stego/713.pgm', '/content/drive/MyDrive/the_dataset/stego/714.pgm', '/content/drive/MyDrive/the_dataset/stego/715.pgm', '/content/drive/MyDrive/the_dataset/stego/716.pgm', '/content/drive/MyDrive/the_dataset/stego/717.pgm', '/content/drive/MyDrive/the_dataset/stego/718.pgm', '/content/drive/MyDrive/the_dataset/stego/719.pgm', '/content/drive/MyDrive/the_dataset/stego/72.pgm', '/content/drive/MyDrive/the_dataset/stego/720.pgm', '/content/drive/MyDrive/the_dataset/stego/721.pgm', '/content/drive/MyDrive/the_dataset/stego/722.pgm', '/content/drive/MyDrive/the_dataset/stego/723.pgm', '/content/drive/MyDrive/the_dataset/stego/724.pgm', '/content/drive/MyDrive/the_dataset/stego/725.pgm', '/content/drive/MyDrive/the_dataset/stego/726.pgm', '/content/drive/MyDrive/the_dataset/stego/727.pgm', '/content/drive/MyDrive/the_dataset/stego/728.pgm', '/content/drive/MyDrive/the_dataset/stego/729.pgm', '/content/drive/MyDrive/the_dataset/stego/73.pgm', '/content/drive/MyDrive/the_dataset/stego/730.pgm', '/content/drive/MyDrive/the_dataset/stego/731.pgm', '/content/drive/MyDrive/the_dataset/stego/732.pgm', '/content/drive/MyDrive/the_dataset/stego/733.pgm', '/content/drive/MyDrive/the_dataset/stego/734.pgm', '/content/drive/MyDrive/the_dataset/stego/735.pgm', '/content/drive/MyDrive/the_dataset/stego/736.pgm', '/content/drive/MyDrive/the_dataset/stego/737.pgm', '/content/drive/MyDrive/the_dataset/stego/738.pgm', '/content/drive/MyDrive/the_dataset/stego/739.pgm', '/content/drive/MyDrive/the_dataset/stego/74.pgm', '/content/drive/MyDrive/the_dataset/stego/740.pgm', '/content/drive/MyDrive/the_dataset/stego/741.pgm', '/content/drive/MyDrive/the_dataset/stego/742.pgm', '/content/drive/MyDrive/the_dataset/stego/743.pgm', '/content/drive/MyDrive/the_dataset/stego/744.pgm', '/content/drive/MyDrive/the_dataset/stego/745.pgm', '/content/drive/MyDrive/the_dataset/stego/746.pgm', '/content/drive/MyDrive/the_dataset/stego/747.pgm', '/content/drive/MyDrive/the_dataset/stego/748.pgm', '/content/drive/MyDrive/the_dataset/stego/749.pgm', '/content/drive/MyDrive/the_dataset/stego/75.pgm', '/content/drive/MyDrive/the_dataset/stego/750.pgm', '/content/drive/MyDrive/the_dataset/stego/751.pgm', '/content/drive/MyDrive/the_dataset/stego/752.pgm', '/content/drive/MyDrive/the_dataset/stego/753.pgm', '/content/drive/MyDrive/the_dataset/stego/754.pgm', '/content/drive/MyDrive/the_dataset/stego/755.pgm', '/content/drive/MyDrive/the_dataset/stego/756.pgm', '/content/drive/MyDrive/the_dataset/stego/757.pgm', '/content/drive/MyDrive/the_dataset/stego/758.pgm', '/content/drive/MyDrive/the_dataset/stego/759.pgm', '/content/drive/MyDrive/the_dataset/stego/76.pgm', '/content/drive/MyDrive/the_dataset/stego/760.pgm', '/content/drive/MyDrive/the_dataset/stego/761.pgm', '/content/drive/MyDrive/the_dataset/stego/762.pgm', '/content/drive/MyDrive/the_dataset/stego/763.pgm', '/content/drive/MyDrive/the_dataset/stego/764.pgm', '/content/drive/MyDrive/the_dataset/stego/765.pgm', '/content/drive/MyDrive/the_dataset/stego/766.pgm', '/content/drive/MyDrive/the_dataset/stego/767.pgm', '/content/drive/MyDrive/the_dataset/stego/768.pgm', '/content/drive/MyDrive/the_dataset/stego/769.pgm', '/content/drive/MyDrive/the_dataset/stego/77.pgm', '/content/drive/MyDrive/the_dataset/stego/770.pgm', '/content/drive/MyDrive/the_dataset/stego/771.pgm', '/content/drive/MyDrive/the_dataset/stego/772.pgm', '/content/drive/MyDrive/the_dataset/stego/773.pgm', '/content/drive/MyDrive/the_dataset/stego/774.pgm', '/content/drive/MyDrive/the_dataset/stego/775.pgm', '/content/drive/MyDrive/the_dataset/stego/776.pgm', '/content/drive/MyDrive/the_dataset/stego/777.pgm', '/content/drive/MyDrive/the_dataset/stego/778.pgm', '/content/drive/MyDrive/the_dataset/stego/779.pgm', '/content/drive/MyDrive/the_dataset/stego/78.pgm', '/content/drive/MyDrive/the_dataset/stego/780.pgm', '/content/drive/MyDrive/the_dataset/stego/781.pgm', '/content/drive/MyDrive/the_dataset/stego/782.pgm', '/content/drive/MyDrive/the_dataset/stego/783.pgm', '/content/drive/MyDrive/the_dataset/stego/784.pgm', '/content/drive/MyDrive/the_dataset/stego/785.pgm', '/content/drive/MyDrive/the_dataset/stego/786.pgm', '/content/drive/MyDrive/the_dataset/stego/787.pgm', '/content/drive/MyDrive/the_dataset/stego/788.pgm', '/content/drive/MyDrive/the_dataset/stego/789.pgm', '/content/drive/MyDrive/the_dataset/stego/79.pgm', '/content/drive/MyDrive/the_dataset/stego/790.pgm', '/content/drive/MyDrive/the_dataset/stego/791.pgm', '/content/drive/MyDrive/the_dataset/stego/792.pgm', '/content/drive/MyDrive/the_dataset/stego/793.pgm', '/content/drive/MyDrive/the_dataset/stego/794.pgm', '/content/drive/MyDrive/the_dataset/stego/795.pgm', '/content/drive/MyDrive/the_dataset/stego/796.pgm', '/content/drive/MyDrive/the_dataset/stego/797.pgm', '/content/drive/MyDrive/the_dataset/stego/798.pgm', '/content/drive/MyDrive/the_dataset/stego/799.pgm', '/content/drive/MyDrive/the_dataset/stego/8.pgm', '/content/drive/MyDrive/the_dataset/stego/80.pgm', '/content/drive/MyDrive/the_dataset/stego/800.pgm', '/content/drive/MyDrive/the_dataset/stego/801.pgm', '/content/drive/MyDrive/the_dataset/stego/802.pgm', '/content/drive/MyDrive/the_dataset/stego/803.pgm', '/content/drive/MyDrive/the_dataset/stego/804.pgm', '/content/drive/MyDrive/the_dataset/stego/805.pgm', '/content/drive/MyDrive/the_dataset/stego/806.pgm', '/content/drive/MyDrive/the_dataset/stego/807.pgm', '/content/drive/MyDrive/the_dataset/stego/808.pgm', '/content/drive/MyDrive/the_dataset/stego/809.pgm', '/content/drive/MyDrive/the_dataset/stego/81.pgm', '/content/drive/MyDrive/the_dataset/stego/810.pgm', '/content/drive/MyDrive/the_dataset/stego/811.pgm', '/content/drive/MyDrive/the_dataset/stego/812.pgm', '/content/drive/MyDrive/the_dataset/stego/813.pgm', '/content/drive/MyDrive/the_dataset/stego/814.pgm', '/content/drive/MyDrive/the_dataset/stego/815.pgm', '/content/drive/MyDrive/the_dataset/stego/816.pgm', '/content/drive/MyDrive/the_dataset/stego/817.pgm', '/content/drive/MyDrive/the_dataset/stego/818.pgm', '/content/drive/MyDrive/the_dataset/stego/819.pgm', '/content/drive/MyDrive/the_dataset/stego/82.pgm', '/content/drive/MyDrive/the_dataset/stego/820.pgm', '/content/drive/MyDrive/the_dataset/stego/821.pgm', '/content/drive/MyDrive/the_dataset/stego/822.pgm', '/content/drive/MyDrive/the_dataset/stego/823.pgm', '/content/drive/MyDrive/the_dataset/stego/824.pgm', '/content/drive/MyDrive/the_dataset/stego/825.pgm', '/content/drive/MyDrive/the_dataset/stego/826.pgm', '/content/drive/MyDrive/the_dataset/stego/827.pgm', '/content/drive/MyDrive/the_dataset/stego/828.pgm', '/content/drive/MyDrive/the_dataset/stego/829.pgm', '/content/drive/MyDrive/the_dataset/stego/83.pgm', '/content/drive/MyDrive/the_dataset/stego/830.pgm', '/content/drive/MyDrive/the_dataset/stego/831.pgm', '/content/drive/MyDrive/the_dataset/stego/832.pgm', '/content/drive/MyDrive/the_dataset/stego/833.pgm', '/content/drive/MyDrive/the_dataset/stego/834.pgm', '/content/drive/MyDrive/the_dataset/stego/835.pgm', '/content/drive/MyDrive/the_dataset/stego/836.pgm', '/content/drive/MyDrive/the_dataset/stego/837.pgm', '/content/drive/MyDrive/the_dataset/stego/838.pgm', '/content/drive/MyDrive/the_dataset/stego/839.pgm', '/content/drive/MyDrive/the_dataset/stego/84.pgm', '/content/drive/MyDrive/the_dataset/stego/840.pgm', '/content/drive/MyDrive/the_dataset/stego/841.pgm', '/content/drive/MyDrive/the_dataset/stego/842.pgm', '/content/drive/MyDrive/the_dataset/stego/843.pgm', '/content/drive/MyDrive/the_dataset/stego/844.pgm', '/content/drive/MyDrive/the_dataset/stego/845.pgm', '/content/drive/MyDrive/the_dataset/stego/846.pgm', '/content/drive/MyDrive/the_dataset/stego/847.pgm', '/content/drive/MyDrive/the_dataset/stego/848.pgm', '/content/drive/MyDrive/the_dataset/stego/849.pgm', '/content/drive/MyDrive/the_dataset/stego/85.pgm', '/content/drive/MyDrive/the_dataset/stego/850.pgm', '/content/drive/MyDrive/the_dataset/stego/851.pgm', '/content/drive/MyDrive/the_dataset/stego/852.pgm', '/content/drive/MyDrive/the_dataset/stego/853.pgm', '/content/drive/MyDrive/the_dataset/stego/854.pgm', '/content/drive/MyDrive/the_dataset/stego/855.pgm', '/content/drive/MyDrive/the_dataset/stego/856.pgm', '/content/drive/MyDrive/the_dataset/stego/857.pgm', '/content/drive/MyDrive/the_dataset/stego/858.pgm', '/content/drive/MyDrive/the_dataset/stego/859.pgm', '/content/drive/MyDrive/the_dataset/stego/86.pgm', '/content/drive/MyDrive/the_dataset/stego/860.pgm', '/content/drive/MyDrive/the_dataset/stego/861.pgm', '/content/drive/MyDrive/the_dataset/stego/862.pgm', '/content/drive/MyDrive/the_dataset/stego/863.pgm', '/content/drive/MyDrive/the_dataset/stego/864.pgm', '/content/drive/MyDrive/the_dataset/stego/865.pgm', '/content/drive/MyDrive/the_dataset/stego/866.pgm', '/content/drive/MyDrive/the_dataset/stego/867.pgm', '/content/drive/MyDrive/the_dataset/stego/868.pgm', '/content/drive/MyDrive/the_dataset/stego/869.pgm', '/content/drive/MyDrive/the_dataset/stego/87.pgm', '/content/drive/MyDrive/the_dataset/stego/870.pgm', '/content/drive/MyDrive/the_dataset/stego/871.pgm', '/content/drive/MyDrive/the_dataset/stego/872.pgm', '/content/drive/MyDrive/the_dataset/stego/873.pgm', '/content/drive/MyDrive/the_dataset/stego/874.pgm', '/content/drive/MyDrive/the_dataset/stego/875.pgm', '/content/drive/MyDrive/the_dataset/stego/876.pgm', '/content/drive/MyDrive/the_dataset/stego/877.pgm', '/content/drive/MyDrive/the_dataset/stego/878.pgm', '/content/drive/MyDrive/the_dataset/stego/879.pgm', '/content/drive/MyDrive/the_dataset/stego/88.pgm', '/content/drive/MyDrive/the_dataset/stego/880.pgm', '/content/drive/MyDrive/the_dataset/stego/881.pgm', '/content/drive/MyDrive/the_dataset/stego/882.pgm', '/content/drive/MyDrive/the_dataset/stego/883.pgm', '/content/drive/MyDrive/the_dataset/stego/884.pgm', '/content/drive/MyDrive/the_dataset/stego/885.pgm', '/content/drive/MyDrive/the_dataset/stego/886.pgm', '/content/drive/MyDrive/the_dataset/stego/887.pgm', '/content/drive/MyDrive/the_dataset/stego/888.pgm', '/content/drive/MyDrive/the_dataset/stego/889.pgm', '/content/drive/MyDrive/the_dataset/stego/89.pgm', '/content/drive/MyDrive/the_dataset/stego/890.pgm', '/content/drive/MyDrive/the_dataset/stego/891.pgm', '/content/drive/MyDrive/the_dataset/stego/892.pgm', '/content/drive/MyDrive/the_dataset/stego/893.pgm', '/content/drive/MyDrive/the_dataset/stego/894.pgm', '/content/drive/MyDrive/the_dataset/stego/895.pgm', '/content/drive/MyDrive/the_dataset/stego/896.pgm', '/content/drive/MyDrive/the_dataset/stego/897.pgm', '/content/drive/MyDrive/the_dataset/stego/898.pgm', '/content/drive/MyDrive/the_dataset/stego/899.pgm', '/content/drive/MyDrive/the_dataset/stego/9.pgm', '/content/drive/MyDrive/the_dataset/stego/90.pgm', '/content/drive/MyDrive/the_dataset/stego/900.pgm', '/content/drive/MyDrive/the_dataset/stego/901.pgm', '/content/drive/MyDrive/the_dataset/stego/902.pgm', '/content/drive/MyDrive/the_dataset/stego/903.pgm', '/content/drive/MyDrive/the_dataset/stego/904.pgm', '/content/drive/MyDrive/the_dataset/stego/905.pgm', '/content/drive/MyDrive/the_dataset/stego/906.pgm', '/content/drive/MyDrive/the_dataset/stego/907.pgm', '/content/drive/MyDrive/the_dataset/stego/908.pgm', '/content/drive/MyDrive/the_dataset/stego/909.pgm', '/content/drive/MyDrive/the_dataset/stego/91.pgm', '/content/drive/MyDrive/the_dataset/stego/910.pgm', '/content/drive/MyDrive/the_dataset/stego/911.pgm', '/content/drive/MyDrive/the_dataset/stego/912.pgm', '/content/drive/MyDrive/the_dataset/stego/913.pgm', '/content/drive/MyDrive/the_dataset/stego/914.pgm', '/content/drive/MyDrive/the_dataset/stego/915.pgm', '/content/drive/MyDrive/the_dataset/stego/916.pgm', '/content/drive/MyDrive/the_dataset/stego/917.pgm', '/content/drive/MyDrive/the_dataset/stego/918.pgm', '/content/drive/MyDrive/the_dataset/stego/919.pgm', '/content/drive/MyDrive/the_dataset/stego/92.pgm', '/content/drive/MyDrive/the_dataset/stego/920.pgm', '/content/drive/MyDrive/the_dataset/stego/921.pgm', '/content/drive/MyDrive/the_dataset/stego/922.pgm', '/content/drive/MyDrive/the_dataset/stego/923.pgm', '/content/drive/MyDrive/the_dataset/stego/924.pgm', '/content/drive/MyDrive/the_dataset/stego/925.pgm', '/content/drive/MyDrive/the_dataset/stego/926.pgm', '/content/drive/MyDrive/the_dataset/stego/927.pgm', '/content/drive/MyDrive/the_dataset/stego/928.pgm', '/content/drive/MyDrive/the_dataset/stego/929.pgm', '/content/drive/MyDrive/the_dataset/stego/93.pgm', '/content/drive/MyDrive/the_dataset/stego/930.pgm', '/content/drive/MyDrive/the_dataset/stego/931.pgm', '/content/drive/MyDrive/the_dataset/stego/932.pgm', '/content/drive/MyDrive/the_dataset/stego/933.pgm', '/content/drive/MyDrive/the_dataset/stego/934.pgm', '/content/drive/MyDrive/the_dataset/stego/935.pgm', '/content/drive/MyDrive/the_dataset/stego/936.pgm', '/content/drive/MyDrive/the_dataset/stego/937.pgm', '/content/drive/MyDrive/the_dataset/stego/938.pgm', '/content/drive/MyDrive/the_dataset/stego/939.pgm', '/content/drive/MyDrive/the_dataset/stego/94.pgm', '/content/drive/MyDrive/the_dataset/stego/940.pgm', '/content/drive/MyDrive/the_dataset/stego/941.pgm', '/content/drive/MyDrive/the_dataset/stego/942.pgm', '/content/drive/MyDrive/the_dataset/stego/943.pgm', '/content/drive/MyDrive/the_dataset/stego/944.pgm', '/content/drive/MyDrive/the_dataset/stego/945.pgm', '/content/drive/MyDrive/the_dataset/stego/946.pgm', '/content/drive/MyDrive/the_dataset/stego/947.pgm', '/content/drive/MyDrive/the_dataset/stego/948.pgm', '/content/drive/MyDrive/the_dataset/stego/949.pgm', '/content/drive/MyDrive/the_dataset/stego/95.pgm', '/content/drive/MyDrive/the_dataset/stego/950.pgm', '/content/drive/MyDrive/the_dataset/stego/951.pgm', '/content/drive/MyDrive/the_dataset/stego/952.pgm', '/content/drive/MyDrive/the_dataset/stego/953.pgm', '/content/drive/MyDrive/the_dataset/stego/954.pgm', '/content/drive/MyDrive/the_dataset/stego/955.pgm', '/content/drive/MyDrive/the_dataset/stego/956.pgm', '/content/drive/MyDrive/the_dataset/stego/957.pgm', '/content/drive/MyDrive/the_dataset/stego/958.pgm', '/content/drive/MyDrive/the_dataset/stego/959.pgm', '/content/drive/MyDrive/the_dataset/stego/96.pgm', '/content/drive/MyDrive/the_dataset/stego/960.pgm', '/content/drive/MyDrive/the_dataset/stego/961.pgm', '/content/drive/MyDrive/the_dataset/stego/962.pgm', '/content/drive/MyDrive/the_dataset/stego/963.pgm', '/content/drive/MyDrive/the_dataset/stego/964.pgm', '/content/drive/MyDrive/the_dataset/stego/965.pgm', '/content/drive/MyDrive/the_dataset/stego/966.pgm', '/content/drive/MyDrive/the_dataset/stego/967.pgm', '/content/drive/MyDrive/the_dataset/stego/968.pgm', '/content/drive/MyDrive/the_dataset/stego/969.pgm', '/content/drive/MyDrive/the_dataset/stego/97.pgm', '/content/drive/MyDrive/the_dataset/stego/970.pgm', '/content/drive/MyDrive/the_dataset/stego/971.pgm', '/content/drive/MyDrive/the_dataset/stego/972.pgm', '/content/drive/MyDrive/the_dataset/stego/973.pgm', '/content/drive/MyDrive/the_dataset/stego/974.pgm', '/content/drive/MyDrive/the_dataset/stego/975.pgm', '/content/drive/MyDrive/the_dataset/stego/976.pgm', '/content/drive/MyDrive/the_dataset/stego/977.pgm', '/content/drive/MyDrive/the_dataset/stego/978.pgm', '/content/drive/MyDrive/the_dataset/stego/979.pgm', '/content/drive/MyDrive/the_dataset/stego/98.pgm', '/content/drive/MyDrive/the_dataset/stego/980.pgm', '/content/drive/MyDrive/the_dataset/stego/981.pgm', '/content/drive/MyDrive/the_dataset/stego/982.pgm', '/content/drive/MyDrive/the_dataset/stego/983.pgm', '/content/drive/MyDrive/the_dataset/stego/984.pgm', '/content/drive/MyDrive/the_dataset/stego/985.pgm', '/content/drive/MyDrive/the_dataset/stego/986.pgm', '/content/drive/MyDrive/the_dataset/stego/987.pgm', '/content/drive/MyDrive/the_dataset/stego/988.pgm', '/content/drive/MyDrive/the_dataset/stego/989.pgm', '/content/drive/MyDrive/the_dataset/stego/99.pgm', '/content/drive/MyDrive/the_dataset/stego/990.pgm', '/content/drive/MyDrive/the_dataset/stego/991.pgm', '/content/drive/MyDrive/the_dataset/stego/992.pgm', '/content/drive/MyDrive/the_dataset/stego/993.pgm', '/content/drive/MyDrive/the_dataset/stego/994.pgm', '/content/drive/MyDrive/the_dataset/stego/995.pgm', '/content/drive/MyDrive/the_dataset/stego/996.pgm', '/content/drive/MyDrive/the_dataset/stego/997.pgm', '/content/drive/MyDrive/the_dataset/stego/998.pgm', '/content/drive/MyDrive/the_dataset/stego/999.pgm']\n",
            "<__main__.BalancedBatchSampler object at 0x7f59de1fbed0>\n"
          ],
          "name": "stdout"
        }
      ]
    },
    {
      "cell_type": "code",
      "metadata": {
        "id": "C4XE95M1Wwiq"
      },
      "source": [
        "train_loader_iter = iter(train_loader)"
      ],
      "execution_count": 24,
      "outputs": []
    },
    {
      "cell_type": "code",
      "metadata": {
        "id": "J_fte8uykzXV"
      },
      "source": [
        "import matplotlib.pyplot as plt\n",
        "\n",
        "\n",
        "datas =  next(iter(train_loader_iter))\n",
        "\n",
        "x, y = datas[\"image\"], datas[\"label\"]\n"
      ],
      "execution_count": null,
      "outputs": []
    },
    {
      "cell_type": "code",
      "metadata": {
        "id": "5OhGiwv3I6Tc"
      },
      "source": [
        "def get_default_device():\n",
        "    \"\"\"Pick GPU if available, else CPU\"\"\"\n",
        "    if torch.cuda.is_available():\n",
        "        return torch.device('cuda')\n",
        "    else:\n",
        "        return torch.device('cpu')\n"
      ],
      "execution_count": null,
      "outputs": []
    },
    {
      "cell_type": "code",
      "metadata": {
        "colab": {
          "base_uri": "https://localhost:8080/"
        },
        "id": "Ah9WzsnbJ-37",
        "outputId": "0616693f-de94-42d6-835b-cb8624a1dee0"
      },
      "source": [
        "device = torch.device('cpu')\n",
        "device\n"
      ],
      "execution_count": null,
      "outputs": [
        {
          "output_type": "execute_result",
          "data": {
            "text/plain": [
              "device(type='cpu')"
            ]
          },
          "metadata": {
            "tags": []
          },
          "execution_count": 68
        }
      ]
    },
    {
      "cell_type": "markdown",
      "metadata": {
        "id": "e8Ob1toJOCwu"
      },
      "source": [
        ""
      ]
    },
    {
      "cell_type": "code",
      "metadata": {
        "id": "_cKIz_vxXHvz"
      },
      "source": [
        "def train(epoch):\n",
        "  model.train()\n",
        "  running_loss, running_accuracy = 0., 0.\n",
        "  for batch in range(epoch):\n",
        "    data = next(iter(train_loader_iter))\n",
        "    img, lab = data[\"image\"], data[\"label\"]\n",
        "    inputs , labels = preprocess_data(img, lab, False)\n",
        "    optimizer.zero_grad()\n",
        "    output, feat_0, feat_1 = model(*inputs)\n",
        "    loss = criterion_1(output, labels) + 0.1 * criterion_2(feat_0, feat_1, labels)\n",
        "\n",
        "\n",
        "  #  the_accuracy = accuracy(output, labels).item()\n",
        "   # running_accuracy += the_accuracy\n",
        "   # running_loss += loss.item()\n",
        "\n",
        "    loss.backward()\n",
        "    optimizer.step()\n",
        "\n",
        "    print('EPOCH :',batch,\"LOSS:\", loss.item(), '\\n')"
      ],
      "execution_count": 28,
      "outputs": []
    },
    {
      "cell_type": "code",
      "metadata": {
        "id": "0gGd0KcAXUq6"
      },
      "source": [
        "def validate(epoch):\n",
        "  correct = 0\n",
        "  total = 0\n",
        "  with torch.no_grad():\n",
        "    model.eval()\n",
        "    for d in range(epoch):\n",
        "      data = next(iter(train_loader_iter))\n",
        "      image, lab = data[\"image\"], data[\"label\"]\n",
        "      i, l = preprocess_data(image, lab,False)\n",
        "      if epoch == 1:\n",
        "        print(lab)\n",
        "      output, feat0, feat1 = model(*i)\n",
        "      for idx, j in enumerate(output):\n",
        "        print(torch.argmax(j),\"--\",lab[idx])\n",
        "        if torch.argmax(j) == lab[idx]:\n",
        "          correct += 1\n",
        "        total +=1\n",
        "  \n",
        "  print(\"ACCURACY :\", correct/total,\"total :\",total, \"correct :\",correct )"
      ],
      "execution_count": null,
      "outputs": []
    },
    {
      "cell_type": "code",
      "metadata": {
        "id": "9fszWpUzio3H"
      },
      "source": [
        "train(100)"
      ],
      "execution_count": null,
      "outputs": []
    },
    {
      "cell_type": "code",
      "metadata": {
        "colab": {
          "base_uri": "https://localhost:8080/"
        },
        "id": "rGvtv_4w6wOB",
        "outputId": "ecdaa5b3-5421-4ecf-db5a-434a06fb9527"
      },
      "source": [
        "validate(1)"
      ],
      "execution_count": null,
      "outputs": [
        {
          "output_type": "stream",
          "text": [
            "tensor([1, 0, 1, 1, 0, 0, 1, 0, 0, 1])\n",
            "tensor(0) -- tensor(1)\n",
            "tensor(1) -- tensor(0)\n",
            "tensor(0) -- tensor(1)\n",
            "tensor(0) -- tensor(1)\n",
            "tensor(0) -- tensor(0)\n",
            "tensor(0) -- tensor(0)\n",
            "tensor(1) -- tensor(1)\n",
            "tensor(0) -- tensor(0)\n",
            "tensor(1) -- tensor(0)\n",
            "tensor(0) -- tensor(1)\n",
            "ACCURACY : 0.4 total : 10 correct : 4\n"
          ],
          "name": "stdout"
        }
      ]
    }
  ]
}