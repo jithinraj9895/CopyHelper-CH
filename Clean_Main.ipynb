{
  "nbformat": 4,
  "nbformat_minor": 0,
  "metadata": {
    "colab": {
      "name": "Clean_Main.ipynb",
      "provenance": [],
      "collapsed_sections": [],
      "authorship_tag": "ABX9TyOtCtrPzOVzu124WLAOe2D/",
      "include_colab_link": true
    },
    "kernelspec": {
      "name": "python3",
      "display_name": "Python 3"
    },
    "accelerator": "GPU"
  },
  "cells": [
    {
      "cell_type": "markdown",
      "metadata": {
        "id": "view-in-github",
        "colab_type": "text"
      },
      "source": [
        "<a href=\"https://colab.research.google.com/github/jithinraj9895/CopyHelper-CH/blob/master/Clean_Main.ipynb\" target=\"_parent\"><img src=\"https://colab.research.google.com/assets/colab-badge.svg\" alt=\"Open In Colab\"/></a>"
      ]
    },
    {
      "cell_type": "code",
      "metadata": {
        "colab": {
          "base_uri": "https://localhost:8080/"
        },
        "id": "vaZ5s4J-e-tC",
        "outputId": "a49ec447-c875-45e2-c195-ab203f295bff"
      },
      "source": [
        "from google.colab import drive\r\n",
        "drive.mount('/content/drive')"
      ],
      "execution_count": 1,
      "outputs": [
        {
          "output_type": "stream",
          "text": [
            "Mounted at /content/drive\n"
          ],
          "name": "stdout"
        }
      ]
    },
    {
      "cell_type": "code",
      "metadata": {
        "id": "6T3HtXI0JxJC"
      },
      "source": [
        "   from torchvision.datasets import ImageFolder\r\n",
        "   from torchvision.transforms import ToTensor\r\n",
        "   import torchvision.transforms as transforms"
      ],
      "execution_count": 2,
      "outputs": []
    },
    {
      "cell_type": "code",
      "metadata": {
        "id": "MmdaV4_zKUMh"
      },
      "source": [
        "from torch.utils.data.sampler import SubsetRandomSampler\r\n",
        "from torch.utils.data.dataloader import DataLoader\r\n",
        "import torch\r\n",
        "\r\n",
        "import os\r\n",
        "dir = \"/content/drive/MyDrive/mnist_stego\"\r\n",
        "\r\n",
        "dataset = ImageFolder(dir, transform= transforms.Compose([ transforms.Grayscale(num_output_channels=1), ToTensor()]))\r\n",
        "\r\n",
        "train_dl = DataLoader(dataset, batch_size=32,shuffle= True)"
      ],
      "execution_count": 70,
      "outputs": []
    },
    {
      "cell_type": "code",
      "metadata": {
        "colab": {
          "base_uri": "https://localhost:8080/"
        },
        "id": "9xd6h73eiCgw",
        "outputId": "c8b16d78-977a-4be3-de11-7c7c110f0094"
      },
      "source": [
        "print(len(train_dl))"
      ],
      "execution_count": 71,
      "outputs": [
        {
          "output_type": "stream",
          "text": [
            "190\n"
          ],
          "name": "stdout"
        }
      ]
    },
    {
      "cell_type": "code",
      "metadata": {
        "id": "uxGSg476q58I",
        "colab": {
          "base_uri": "https://localhost:8080/"
        },
        "outputId": "81e2650d-dd2d-473d-c652-4046e0e92c37"
      },
      "source": [
        "print(dataset.classes)"
      ],
      "execution_count": null,
      "outputs": [
        {
          "output_type": "stream",
          "text": [
            "['cover', 'stego']\n"
          ],
          "name": "stdout"
        }
      ]
    },
    {
      "cell_type": "code",
      "metadata": {
        "colab": {
          "base_uri": "https://localhost:8080/"
        },
        "id": "fv9ss41RLqoa",
        "outputId": "64058431-df3c-407c-9356-195e131d4f85"
      },
      "source": [
        "data = next(iter(train_dl))\r\n",
        "inputs, labels = data\r\n",
        "\r\n",
        "print(inputs.shape)\r\n",
        "print(labels)"
      ],
      "execution_count": 4,
      "outputs": [
        {
          "output_type": "stream",
          "text": [
            "torch.Size([32, 1, 28, 28])\n",
            "tensor([1, 1, 1, 1, 1, 1, 1, 1, 0, 1, 0, 1, 1, 0, 0, 1, 0, 1, 1, 0, 0, 1, 1, 0,\n",
            "        0, 1, 0, 0, 0, 0, 0, 1])\n"
          ],
          "name": "stdout"
        }
      ]
    },
    {
      "cell_type": "code",
      "metadata": {
        "id": "ef1fCcdBfOrP"
      },
      "source": [
        "import numpy as np\r\n",
        "import os\r\n",
        "import matplotlib.pyplot as plt\r\n",
        "import cv2\r\n",
        "import numpy as np\r\n",
        "import PIL as image\r\n",
        "import pickle as pl\r\n",
        "\r\n",
        "srm_dir = \"/content/drive/MyDrive\"\r\n",
        "SRM_npy = np.load(os.path.join(srm_dir,\"SRM_Kernels.npy\"))"
      ],
      "execution_count": 13,
      "outputs": []
    },
    {
      "cell_type": "code",
      "metadata": {
        "id": "XRV3meWgfREa"
      },
      "source": [
        "import torch.nn as nn\r\n",
        "import torch.nn.functional as F"
      ],
      "execution_count": 14,
      "outputs": []
    },
    {
      "cell_type": "code",
      "metadata": {
        "id": "RFnOgDElfhYS"
      },
      "source": [
        "def activation(x):\r\n",
        "  a = torch.ones(x.shape)\r\n",
        "  a = torch.mul(a, 3)\r\n",
        "  return torch.where(x > -3,x,a)\r\n",
        "\r\n",
        "\r\n",
        "class the_tlu(nn.Module):\r\n",
        "    def __init__(self):\r\n",
        "        super(the_tlu, self).__init__()\r\n",
        "        \r\n",
        "    def forward(self, x):\r\n",
        "        return activation(x)"
      ],
      "execution_count": 7,
      "outputs": []
    },
    {
      "cell_type": "code",
      "metadata": {
        "id": "h4kAMlksgM2F"
      },
      "source": [
        "import torch\r\n",
        "import torch.nn as nn\r\n",
        "from torch.optim.adamax import Adamax\r\n",
        "from torch.optim.adadelta import Adadelta\r\n",
        "import numpy as np\r\n",
        "import torch\r\n",
        "import torch.nn.functional as F\r\n",
        "from torch import nn\r\n",
        "from torch.nn import Parameter"
      ],
      "execution_count": 8,
      "outputs": []
    },
    {
      "cell_type": "code",
      "metadata": {
        "id": "-tgB-4SAhO52"
      },
      "source": [
        "\r\n",
        "\r\n",
        "class SRMConv2d(nn.Module):\r\n",
        "\r\n",
        "    def __init__(self, stride=1, padding=0):\r\n",
        "        super(SRMConv2d, self).__init__()\r\n",
        "        self.in_channels = 1\r\n",
        "        self.out_channels = 30\r\n",
        "        self.kernel_size = (5, 5)\r\n",
        "        if isinstance(stride, int):\r\n",
        "            self.stride = (stride, stride)\r\n",
        "        else:\r\n",
        "            self.stride = stride\r\n",
        "        if isinstance(padding, int):\r\n",
        "            self.padding = (padding, padding)\r\n",
        "        else:\r\n",
        "            self.padding = padding\r\n",
        "        self.dilation = (1, 1)\r\n",
        "        self.transpose = False\r\n",
        "        self.output_padding = (0,)\r\n",
        "        self.groups = 1\r\n",
        "        self.weight = Parameter(torch.Tensor(30, 1, 5, 5), requires_grad=True)\r\n",
        "        self.bias = Parameter(torch.Tensor(30), requires_grad=True)\r\n",
        "        self.reset_parameters()\r\n",
        "\r\n",
        "    def reset_parameters(self):\r\n",
        "        self.weight.data.numpy()[:] = SRM_npy\r\n",
        "        self.bias.data.zero_()\r\n",
        "\r\n",
        "    def forward(self, input):\r\n",
        "        return F.conv2d(input, self.weight, self.bias, self.stride, self.padding,\r\n",
        "                        self.dilation, self.groups)\r\n",
        "\r\n",
        "\r\n",
        "class BlockA(nn.Module):\r\n",
        "\r\n",
        "    def __init__(self, in_planes, out_planes, norm_layer=None,activation = nn.ReLU(inplace=True)):\r\n",
        "        super(BlockA, self).__init__()\r\n",
        "\r\n",
        "        if norm_layer is None:\r\n",
        "            norm_layer = nn.BatchNorm2d\r\n",
        "\r\n",
        "        self.conv1 = conv3x3(in_planes, out_planes)\r\n",
        "        self.bn1 = norm_layer(out_planes)\r\n",
        "        self.conv2 = conv3x3(out_planes, out_planes)\r\n",
        "        self.bn2 = norm_layer(out_planes)\r\n",
        "\r\n",
        "        self.relu = nn.ReLU(inplace=True)\r\n",
        "\r\n",
        "    def forward(self, x):\r\n",
        "        identity = x\r\n",
        "\r\n",
        "        out = self.conv1(x)\r\n",
        "        out = self.bn1(out)\r\n",
        "        out = self.relu(out)\r\n",
        "\r\n",
        "        out = self.conv2(out)\r\n",
        "        out = self.bn2(out)\r\n",
        "\r\n",
        "        out += identity\r\n",
        "        out = self.relu(out)\r\n",
        "\r\n",
        "        return out"
      ],
      "execution_count": 15,
      "outputs": []
    },
    {
      "cell_type": "code",
      "metadata": {
        "id": "XR-kU_0jj-fm"
      },
      "source": [
        "\r\n",
        "def accuracy(outputs, labels):\r\n",
        "    _, argmax = torch.max(outputs, 1)\r\n",
        "    return (labels == argmax.squeeze()).float().mean()\r\n",
        "\r\n",
        "\r\n",
        "def conv3x3(in_planes, out_planes, stride=1, groups=1, dilation=1):\r\n",
        "    return nn.Conv2d(in_planes, out_planes, kernel_size=3, stride=stride,\r\n",
        "                     padding=dilation, groups=groups, bias=False, dilation=dilation)\r\n",
        "\r\n",
        "\r\n",
        "def conv1x1(in_planes, out_planes, stride=1):\r\n",
        "    return nn.Conv2d(in_planes, out_planes, kernel_size=1, stride=stride, bias=False)\r\n",
        "\r\n"
      ],
      "execution_count": 18,
      "outputs": []
    },
    {
      "cell_type": "code",
      "metadata": {
        "id": "iymQw_QPj8M6"
      },
      "source": [
        "class BlockB(nn.Module):\r\n",
        "\r\n",
        "    def __init__(self, in_planes, out_planes, norm_layer=None):\r\n",
        "        super(BlockB, self).__init__()\r\n",
        "\r\n",
        "        if norm_layer is None:\r\n",
        "            norm_layer = nn.BatchNorm2d\r\n",
        "\r\n",
        "        self.conv1 = conv3x3(in_planes, out_planes, stride=2)\r\n",
        "        self.bn1 = norm_layer(out_planes)\r\n",
        "        self.conv2 = conv3x3(out_planes, out_planes)\r\n",
        "        self.bn2 = norm_layer(out_planes)\r\n",
        "        # self.pool = nn.AvgPool2d(3, stride=2, padding=1)\r\n",
        "\r\n",
        "        self.shortcut_conv = conv1x1(in_planes, out_planes, stride=2)\r\n",
        "        self.shortcut_bn = norm_layer(out_planes)\r\n",
        "\r\n",
        "        self.relu = nn.ReLU(inplace=True)\r\n",
        "\r\n",
        "    def forward(self, x):\r\n",
        "        identity = x\r\n",
        "\r\n",
        "        out = self.conv1(x)\r\n",
        "        out = self.bn1(out)\r\n",
        "        out = self.relu(out)\r\n",
        "\r\n",
        "        out = self.conv2(out)\r\n",
        "        out = self.bn2(out)\r\n",
        "        # out = self.pool(out)\r\n",
        "\r\n",
        "        identity = self.shortcut_conv(identity)\r\n",
        "        identity = self.shortcut_bn(identity)\r\n",
        "\r\n",
        "        out += identity\r\n",
        "        out = self.relu(out)\r\n",
        "\r\n",
        "        return out\r\n"
      ],
      "execution_count": 19,
      "outputs": []
    },
    {
      "cell_type": "code",
      "metadata": {
        "id": "syGiDmSgkECX"
      },
      "source": [
        "class KeNet(nn.Module):\r\n",
        "\r\n",
        "    def __init__(self, norm_layer=None, zero_init_residual=True, p=0.5):\r\n",
        "        super(KeNet, self).__init__()\r\n",
        "\r\n",
        "        self.zero_init_residual = zero_init_residual\r\n",
        "\r\n",
        "        if norm_layer is None:\r\n",
        "            norm_layer = nn.BatchNorm2d\r\n",
        "\r\n",
        "        self.srm = SRMConv2d(1, 0)\r\n",
        "        self.bn1 = norm_layer(30)\r\n",
        "\r\n",
        "        self.A1 = BlockA(30, 30, norm_layer=norm_layer)\r\n",
        "        self.A2 = BlockA(30, 30, norm_layer=norm_layer)\r\n",
        "        self.AA = BlockA(30, 30, norm_layer=norm_layer)\r\n",
        "\r\n",
        "        # self.B1 = BlockB(30, 30, norm_layer=norm_layer)\r\n",
        "        # self.B2 = BlockB(30, 64, norm_layer=norm_layer)\r\n",
        "\r\n",
        "        self.B3 = BlockB(30, 64, norm_layer=norm_layer)\r\n",
        "        self.A3 = BlockA(64, 64, norm_layer=norm_layer)\r\n",
        "\r\n",
        "        self.B4 = BlockB(64, 128, norm_layer=norm_layer)\r\n",
        "        self.A4 = BlockA(128, 128, norm_layer=norm_layer)\r\n",
        "\r\n",
        "        self.avgpool = nn.AdaptiveAvgPool2d((1, 1))\r\n",
        "        # self.bnfc = nn.BatchNorm1d(128)\r\n",
        "        self.relu = nn.ReLU(inplace=True)\r\n",
        "        # self.fcfusion = nn.Linear(128, 128) #4\r\n",
        "        self.fc = nn.Linear(128 * 4 + 1, 2)\r\n",
        "        self.dropout = nn.Dropout(p=p)\r\n",
        "\r\n",
        "        self.reset_parameters()\r\n",
        "\r\n",
        "    def reset_parameters(self):\r\n",
        "        for m in self.modules():\r\n",
        "            if isinstance(m, nn.Conv2d):\r\n",
        "                # nn.init.xavier_uniform_(m.weight)\r\n",
        "                # nn.init.constant_(m.bias, 0.2)\r\n",
        "                nn.init.kaiming_normal_(m.weight, mode='fan_out', nonlinearity='relu')\r\n",
        "            elif isinstance(m, nn.BatchNorm2d):\r\n",
        "                nn.init.constant_(m.weight, 1)\r\n",
        "                nn.init.constant_(m.bias, 0)\r\n",
        "            elif isinstance(m, nn.Linear):\r\n",
        "                nn.init.normal_(m.weight, std=0.01)\r\n",
        "\r\n",
        "        if self.zero_init_residual:\r\n",
        "            for m in self.modules():\r\n",
        "                if isinstance(m, (BlockA, BlockB)):\r\n",
        "                    nn.init.constant_(m.bn2.weight, 0)\r\n",
        "\r\n",
        "    def extract_feat(self, x):\r\n",
        "        x = x.float()\r\n",
        "        out = self.srm(x)\r\n",
        "        out = self.bn1(out)\r\n",
        "        out = self.relu(out)\r\n",
        "\r\n",
        "        out = self.A1(out)\r\n",
        "        out = self.A2(out)\r\n",
        "        out = self.AA(out)\r\n",
        "\r\n",
        "        # out = self.B1(out)\r\n",
        "        # out = self.B2(out)\r\n",
        "\r\n",
        "        out = self.B3(out)\r\n",
        "        out = self.A3(out)\r\n",
        "\r\n",
        "        out = self.B4(out)\r\n",
        "        out = self.A4(out)\r\n",
        "\r\n",
        "        out = self.avgpool(out)\r\n",
        "        out = out.view(out.size(0), out.size(1))\r\n",
        "\r\n",
        "        # out = self.relu(out)\r\n",
        "        # out = self.bnfc(out)\r\n",
        "\r\n",
        "        return out\r\n",
        "\r\n",
        "    def forward(self, *args):\r\n",
        "        ############# statistics fusion start #############\r\n",
        "        feats = torch.stack(\r\n",
        "            [self.extract_feat(subarea) for subarea in args], dim=0\r\n",
        "        )\r\n",
        "\r\n",
        "        euclidean_distance = F.pairwise_distance(feats[0], feats[1], eps=1e-6,\r\n",
        "                                                 keepdim=True)\r\n",
        "\r\n",
        "        if feats.shape[0] == 1:\r\n",
        "            final_feat = feats.squeeze(dim=0)\r\n",
        "        else:\r\n",
        "            # feats_sum = feats.sum(dim=0)\r\n",
        "            # feats_sub = feats[0] - feats[1]\r\n",
        "            feats_mean = feats.mean(dim=0)\r\n",
        "            feats_var = feats.var(dim=0)\r\n",
        "            feats_min, _ = feats.min(dim=0)\r\n",
        "            feats_max, _ = feats.max(dim=0)\r\n",
        "\r\n",
        "            '''feats_sum = feats.sum(dim=0)\r\n",
        "            feats_sub = abs(feats[0] - feats[1])\r\n",
        "            feats_prod = feats.prod(dim=0)\r\n",
        "            feats_max, _ = feats.max(dim=0)'''\r\n",
        "            \r\n",
        "            #final_feat = torch.cat(\r\n",
        "            #    [feats[0], feats[1], feats[0], feats[1]], dim=-1\r\n",
        "            #    #[euclidean_distance, feats_sum, feats_sub, feats_prod, feats_max], dim=-1\r\n",
        "            #)\r\n",
        "\r\n",
        "            final_feat = torch.cat(\r\n",
        "                [euclidean_distance, feats_mean, feats_var, feats_min, feats_max], dim=-1\r\n",
        "                #[euclidean_distance, feats_sum, feats_sub, feats_prod, feats_max], dim=-1\r\n",
        "            )\r\n",
        "\r\n",
        "        out = self.dropout(final_feat)\r\n",
        "        # out = self.fcfusion(out)\r\n",
        "        # out = self.relu(out)\r\n",
        "        out = self.fc(out)\r\n",
        "\r\n",
        "        return out, feats[0], feats[1]\r\n"
      ],
      "execution_count": 20,
      "outputs": []
    },
    {
      "cell_type": "code",
      "metadata": {
        "id": "75JIv1swkKYs"
      },
      "source": [
        "def preprocess_data(images, labels, random_crop):\r\n",
        "    # images of shape: NxCxHxW\r\n",
        "    if images.ndim == 5:  # 1xNxCxHxW\r\n",
        "        images = images.squeeze(0)\r\n",
        "        labels = labels.squeeze(0)\r\n",
        "    h, w = images.shape[-2:]\r\n",
        "\r\n",
        "    if random_crop:\r\n",
        "        ch = random.randint(h * 3 // 4, h)  # h // 2      #256\r\n",
        "        cw = random.randint(w * 3 // 4, w)  # square ch   #256\r\n",
        "\r\n",
        "        h0 = random.randint(0, h - ch)  # 128\r\n",
        "        w0 = random.randint(0, w - cw)  # 128\r\n",
        "    else:\r\n",
        "        ch, cw, h0, w0 = h, w, 0, 0\r\n",
        " \r\n",
        "        cw = cw & ~1\r\n",
        "        inputs = [\r\n",
        "            images[..., h0:h0 + ch, w0:w0 + cw // 2],\r\n",
        "            images[..., h0:h0 + ch, w0 + cw // 2:w0 + cw]\r\n",
        "        ]\r\n",
        "        \r\n",
        "    return inputs, labels"
      ],
      "execution_count": 21,
      "outputs": []
    },
    {
      "cell_type": "code",
      "metadata": {
        "id": "XGbJpr35kP9x"
      },
      "source": [
        "class ContrastiveLoss(nn.Module):\r\n",
        "\r\n",
        "    def __init__(self, margin=1.25):  # margin=2\r\n",
        "        super(ContrastiveLoss, self).__init__()\r\n",
        "        self.margin = margin\r\n",
        "\r\n",
        "    def forward(self, output1, output2, label):\r\n",
        "        label = label.to(torch.float32)\r\n",
        "        euclidean_distance = F.pairwise_distance(output1, output2)\r\n",
        "        loss_contrastive = torch.mean(\r\n",
        "            (1 - label) * torch.pow(euclidean_distance, 2) +\r\n",
        "            label * torch.pow(torch.clamp(self.margin - euclidean_distance, min=0.0), 2)\r\n",
        "        )\r\n",
        "\r\n",
        "        return loss_contrastive"
      ],
      "execution_count": 22,
      "outputs": []
    },
    {
      "cell_type": "code",
      "metadata": {
        "id": "LWrAjBzGnulQ"
      },
      "source": [
        "model = KeNet(norm_layer=None, zero_init_residual=True, p=0.5)"
      ],
      "execution_count": 23,
      "outputs": []
    },
    {
      "cell_type": "code",
      "metadata": {
        "id": "HCfXKC1qkSx6"
      },
      "source": [
        "criterion_1 = nn.CrossEntropyLoss()\r\n",
        "criterion_2 = ContrastiveLoss(margin=1)"
      ],
      "execution_count": 24,
      "outputs": []
    },
    {
      "cell_type": "code",
      "metadata": {
        "id": "PI4AfgRlk8O4"
      },
      "source": [
        "data = next(iter(train_dl))"
      ],
      "execution_count": null,
      "outputs": []
    },
    {
      "cell_type": "code",
      "metadata": {
        "colab": {
          "base_uri": "https://localhost:8080/"
        },
        "id": "w2b-vIu-mecy",
        "outputId": "157987b5-30d3-4901-eecd-5b08dea35fb0"
      },
      "source": [
        "imgs, label = data\r\n",
        "print(imgs.shape, label.shape)"
      ],
      "execution_count": null,
      "outputs": [
        {
          "output_type": "stream",
          "text": [
            "torch.Size([10, 1, 28, 28]) torch.Size([10])\n"
          ],
          "name": "stdout"
        }
      ]
    },
    {
      "cell_type": "code",
      "metadata": {
        "colab": {
          "base_uri": "https://localhost:8080/"
        },
        "id": "BfLinZQImsQ5",
        "outputId": "e9f4c651-2595-4dc6-cbcf-bdc3da917d4a"
      },
      "source": [
        "inputs , labels = preprocess_data(*data,False)\r\n",
        "output, feat_0, feat_1 = model(*inputs)\r\n",
        "\r\n",
        "print(output,feat_0,feat_1)\r\n",
        "print(output.shape)"
      ],
      "execution_count": null,
      "outputs": [
        {
          "output_type": "stream",
          "text": [
            "tensor([[-0.0570,  0.0979],\n",
            "        [ 0.0166,  0.0476],\n",
            "        [ 0.0298,  0.0207],\n",
            "        [ 0.0054,  0.0356],\n",
            "        [ 0.0506, -0.0063],\n",
            "        [-0.0585,  0.1010],\n",
            "        [-0.0357,  0.0741],\n",
            "        [ 0.0532, -0.0012],\n",
            "        [ 0.0062,  0.0508],\n",
            "        [-0.0571,  0.0979]], grad_fn=<AddmmBackward>) tensor([[0.1886, 0.2415, 0.4465,  ..., 0.1046, 0.2226, 0.2636],\n",
            "        [0.2070, 0.2435, 0.4370,  ..., 0.1660, 0.1074, 0.2305],\n",
            "        [0.1251, 0.2095, 0.4968,  ..., 0.0831, 0.1254, 0.1909],\n",
            "        ...,\n",
            "        [0.1428, 0.1893, 0.4391,  ..., 0.1197, 0.0586, 0.2107],\n",
            "        [0.1543, 0.2271, 0.4634,  ..., 0.1171, 0.1076, 0.2154],\n",
            "        [0.1882, 0.2416, 0.4465,  ..., 0.1048, 0.2223, 0.2636]],\n",
            "       grad_fn=<SelectBackward>) tensor([[0.1774, 0.2487, 0.4449,  ..., 0.1032, 0.2344, 0.2790],\n",
            "        [0.1539, 0.2143, 0.4542,  ..., 0.1332, 0.0598, 0.2136],\n",
            "        [0.1318, 0.2001, 0.4960,  ..., 0.0939, 0.1001, 0.1667],\n",
            "        ...,\n",
            "        [0.1623, 0.1735, 0.3709,  ..., 0.1550, 0.0174, 0.2275],\n",
            "        [0.2073, 0.2366, 0.4215,  ..., 0.1582, 0.1203, 0.2138],\n",
            "        [0.1772, 0.2489, 0.4448,  ..., 0.1035, 0.2342, 0.2792]],\n",
            "       grad_fn=<SelectBackward>)\n",
            "torch.Size([10, 2])\n"
          ],
          "name": "stdout"
        }
      ]
    },
    {
      "cell_type": "code",
      "metadata": {
        "colab": {
          "base_uri": "https://localhost:8080/"
        },
        "id": "cNWZtmSfDQ2o",
        "outputId": "9cfef33d-8ad6-45a9-802c-b7ac49bf7c30"
      },
      "source": [
        "print(feat_0.shape)"
      ],
      "execution_count": null,
      "outputs": [
        {
          "output_type": "stream",
          "text": [
            "torch.Size([10, 128])\n"
          ],
          "name": "stdout"
        }
      ]
    },
    {
      "cell_type": "code",
      "metadata": {
        "id": "K5XVw46tVEgq"
      },
      "source": [
        "optimizer = Adamax(model.parameters(), lr=0.001, eps=1e-08, weight_decay=0.0001)"
      ],
      "execution_count": 25,
      "outputs": []
    },
    {
      "cell_type": "code",
      "metadata": {
        "id": "hv5-3J0oU-uA"
      },
      "source": [
        "optimizer.zero_grad()"
      ],
      "execution_count": null,
      "outputs": []
    },
    {
      "cell_type": "code",
      "metadata": {
        "id": "H_Y7AadWsxE_"
      },
      "source": [
        "loss = criterion_1(output, labels) + 0.1 * criterion_2(feat_0, feat_1, labels)"
      ],
      "execution_count": null,
      "outputs": []
    },
    {
      "cell_type": "code",
      "metadata": {
        "id": "Iq_wn4oBeUbX"
      },
      "source": [
        "#  VALIDATION AND TRAINING STARTS #"
      ],
      "execution_count": null,
      "outputs": []
    },
    {
      "cell_type": "code",
      "metadata": {
        "id": "S8XNYMUvTWtj"
      },
      "source": [
        "def set_random_seed(seed=None):\r\n",
        "    \"\"\"Sets random seed for reproducibility.\r\n",
        "\r\n",
        "    Args:\r\n",
        "        seed (int, optional): Random seed.\r\n",
        "    \"\"\"\r\n",
        "    if seed is None:\r\n",
        "        seed = (\r\n",
        "                os.getpid()\r\n",
        "                + int(datetime.now().strftime(\"%S%f\"))\r\n",
        "                + int.from_bytes(os.urandom(2), \"big\")\r\n",
        "        )\r\n",
        "        logger = logging.getLogger(__name__)\r\n",
        "        logger.info('Using a generated random seed {}'.format(seed))\r\n",
        "    random.seed(seed)\r\n",
        "    np.random.seed(seed)\r\n",
        "    torch.set_rng_state(torch.manual_seed(seed).get_state())\r\n",
        "\r\n",
        "\r\n",
        "def get_random_seed():\r\n",
        "    return np.random.randint(2 ** 31)"
      ],
      "execution_count": 118,
      "outputs": []
    },
    {
      "cell_type": "code",
      "metadata": {
        "id": "bx0HIDrzL5lU"
      },
      "source": [
        "import torchvision\r\n",
        "import itertools\r\n",
        "import logging\r\n",
        "import math\r\n",
        "\r\n",
        "\r\n",
        "from torch.utils.data import BatchSampler\r\n",
        "from torch.utils.data import DataLoader\r\n",
        "from torch.utils.data import Sampler\r\n",
        "from torch.utils.data import SequentialSampler\r\n",
        "\r\n",
        "\r\n",
        "\r\n",
        "\r\n",
        "\r\n",
        "\r\n",
        "class TrainingSampler(Sampler):\r\n",
        "\r\n",
        "    def __init__(self, size, seed=None, shuffle=True):\r\n",
        "        self._size = size\r\n",
        "        self._shuffle = shuffle\r\n",
        "\r\n",
        "        if seed is None:\r\n",
        "            seed = get_random_seed()\r\n",
        "        self._seed = seed\r\n",
        "\r\n",
        "    def __iter__(self):\r\n",
        "        yield from itertools.islice(self._infinite_indices(), 0, None, 1)\r\n",
        "\r\n",
        "    def _infinite_indices(self):\r\n",
        "        g = torch.Generator()\r\n",
        "        g.manual_seed(self._seed)\r\n",
        "        while True:\r\n",
        "            if self._shuffle:\r\n",
        "                yield from torch.randperm(self._size, generator=g)\r\n",
        "            else:\r\n",
        "                yield from torch.arange(self._size)\r\n",
        "\r\n",
        "\r\n",
        "class BalancedBatchSampler(BatchSampler):\r\n",
        "\r\n",
        "    def __init__(self, sampler, group_ids, batch_size):\r\n",
        "        \"\"\"\r\n",
        "        Args:\r\n",
        "            sampler (Sampler): Base sampler.\r\n",
        "            group_ids (list[int]): If the sampler produces indices in range [0, N),\r\n",
        "                `group_ids` must be a list of `N` ints which contains the group id of each\r\n",
        "                sample. The group ids must be a set of integers in [0, num_groups).\r\n",
        "            batch_size (int): Size of mini-batch.\r\n",
        "        \"\"\"\r\n",
        "        if not isinstance(sampler, Sampler):\r\n",
        "            raise ValueError(\"sampler should be an instance of torch.utils.data.Sampler, \"\r\n",
        "                             \"but got sampler={}\".format(sampler))\r\n",
        "\r\n",
        "        self._sampler = sampler\r\n",
        "        self._group_ids = np.asarray(group_ids)\r\n",
        "        assert self._group_ids.ndim == 1\r\n",
        "        self._batch_size = batch_size\r\n",
        "        groups = np.unique(self._group_ids).tolist()\r\n",
        "        assert batch_size % len(groups) == 0\r\n",
        "\r\n",
        "        # buffer the indices of each group until batch size is reached\r\n",
        "        self._buffer_per_group = {k: [] for k in groups}\r\n",
        "        self._group_size = batch_size // len(groups)\r\n",
        "\r\n",
        "    def __iter__(self):\r\n",
        "        for idx in self._sampler:\r\n",
        "            group_id = self._group_ids[idx]\r\n",
        "            self._buffer_per_group[group_id].append(idx)\r\n",
        "            if all(len(v) >= self._group_size for k, v in self._buffer_per_group.items()):\r\n",
        "                idxs = []\r\n",
        "                # Collect across all groups\r\n",
        "                for k, v in self._buffer_per_group.items():\r\n",
        "                    idxs.extend(v[:self._group_size])\r\n",
        "                    del v[:self._group_size]\r\n",
        "\r\n",
        "                idxs = np.random.permutation(idxs)\r\n",
        "                yield idxs\r\n",
        "\r\n",
        "    def __len__(self):\r\n",
        "        raise NotImplementedError(\"len() of GroupedBatchSampler is not well-defined.\")\r\n",
        "\r\n",
        "\r\n",
        "def build_train_loader(cover_dir, stego_dir, batch_size=32, num_workers=0):\r\n",
        "    transform = transforms.Compose([\r\n",
        "        RandomRot(),\r\n",
        "        RandomFlip(),\r\n",
        "        ToTensor(),\r\n",
        "    ])\r\n",
        "    dataset = CoverStegoDataset(cover_dir, stego_dir, transform)\r\n",
        "\r\n",
        "    print(dataset.images)\r\n",
        "\r\n",
        "    size = len(dataset)\r\n",
        "\r\n",
        "    sampler = TrainingSampler(size)\r\n",
        "\r\n",
        "\r\n",
        "    batch_sampler = BalancedBatchSampler(sampler, dataset.labels, batch_size)\r\n",
        "    \r\n",
        "    print(batch_sampler)\r\n",
        "    epoch_length = math.ceil(size / batch_size)\r\n",
        "\r\n",
        "\r\n",
        "    train_loader = DataLoader(\r\n",
        "        dataset,\r\n",
        "        batch_sampler=batch_sampler,\r\n",
        "        num_workers=num_workers,\r\n",
        "        worker_init_fn= worker_init_reset_seed(0)\r\n",
        "    )\r\n",
        "    return train_loader, epoch_length\r\n",
        "\r\n",
        "def worker_init_reset_seed(worker_id):\r\n",
        "    set_random_seed(np.random.randint(2 ** 31) + worker_id)"
      ],
      "execution_count": 119,
      "outputs": []
    },
    {
      "cell_type": "code",
      "metadata": {
        "id": "KK-DnUZ0UoMU"
      },
      "source": [
        "import numpy as np\r\n",
        "from torch.utils.data import Dataset\r\n",
        "from PIL import Image\r\n",
        "import cv2\r\n",
        "\r\n",
        "\r\n",
        "class CoverStegoDataset(Dataset):\r\n",
        "\r\n",
        "    def __init__(self, cover_dir, stego_dir, transform=None):\r\n",
        "        self._transform = transform\r\n",
        "\r\n",
        "        self.images, self.labels = self.get_items(cover_dir, stego_dir)\r\n",
        "\r\n",
        "    def __len__(self):\r\n",
        "        return len(self.images)\r\n",
        "\r\n",
        "    def __getitem__(self, idx):\r\n",
        "        image = np.array(Image.open(self.images[idx]))\r\n",
        "        image = np.expand_dims(image, 2)  # (H, W, C)\r\n",
        "        assert image.ndim == 3\r\n",
        "\r\n",
        "        sample = {\r\n",
        "            'image': image,\r\n",
        "            'label': self.labels[idx]\r\n",
        "        }\r\n",
        "\r\n",
        "        if self._transform:\r\n",
        "            sample = self._transform(sample)\r\n",
        "        return sample\r\n",
        "\r\n",
        "    @staticmethod\r\n",
        "    def get_items(cover_dir, stego_dir):\r\n",
        "        images, labels = [], []\r\n",
        "\r\n",
        "        cover_names = sorted(os.listdir(cover_dir))\r\n",
        "        if stego_dir is not None:\r\n",
        "            stego_names = sorted(os.listdir(stego_dir))\r\n",
        "            assert cover_names == stego_names\r\n",
        "\r\n",
        "        file_names = cover_names\r\n",
        "        if stego_dir is None:\r\n",
        "            dir_to_label = [(cover_dir, 0), ]\r\n",
        "        else:\r\n",
        "            dir_to_label = [(cover_dir, 0), (stego_dir, 1)]\r\n",
        "        for image_dir, label in dir_to_label:\r\n",
        "            for file_name in file_names:\r\n",
        "                image_path = os.path.join(image_dir, file_name)\r\n",
        "                if not os.path.isfile(image_path):\r\n",
        "                    raise FileNotFoundError('{} not exists'.format(image_path))\r\n",
        "                images.append(image_path)\r\n",
        "                labels.append(label)\r\n",
        "\r\n",
        "        return images, labels"
      ],
      "execution_count": 120,
      "outputs": []
    },
    {
      "cell_type": "code",
      "metadata": {
        "id": "j7xayQfnPoxb"
      },
      "source": [
        "import numpy as np\r\n",
        "import torch\r\n",
        "import random\r\n",
        "\r\n",
        "\r\n",
        "class RandomRot(object):\r\n",
        "\r\n",
        "    def __call__(self, sample):\r\n",
        "        rot = random.randint(0, 3)\r\n",
        "        return {\r\n",
        "            'image': np.rot90(sample['image'], rot, axes=[-3, -2]).copy(),\r\n",
        "            'label': sample['label'],\r\n",
        "        }\r\n",
        "\r\n",
        "\r\n",
        "class RandomFlip(object):\r\n",
        "\r\n",
        "    def __init__(self, p=0.5):\r\n",
        "        self._p = p\r\n",
        "\r\n",
        "    def __call__(self, sample):\r\n",
        "        if random.random() < self._p:\r\n",
        "            return {\r\n",
        "                'image': np.flip(sample['image'], axis=-2).copy(),\r\n",
        "                'label': sample['label'],\r\n",
        "            }\r\n",
        "        else:\r\n",
        "            return sample\r\n",
        "\r\n",
        "\r\n",
        "class ToTensor(object):\r\n",
        "\r\n",
        "    def __call__(self, sample):\r\n",
        "        image, label = sample['image'], sample['label']\r\n",
        "        if image.ndim == 3:  # HxWxC\r\n",
        "            image = image.transpose(2, 0, 1)\r\n",
        "        else:  # NxHxWxC\r\n",
        "            image = image.transpose(0, 3, 1, 2)\r\n",
        "        return {\r\n",
        "            'image': torch.from_numpy(image).type(torch.FloatTensor),\r\n",
        "            'label': torch.tensor(label).long()\r\n",
        "        }\r\n"
      ],
      "execution_count": 121,
      "outputs": []
    },
    {
      "cell_type": "code",
      "metadata": {
        "id": "ml7PWEMFP0b4"
      },
      "source": [
        "covr_dir = \"/content/drive/MyDrive/the_dataset/cover\"\r\n",
        "steg_dir = \"/content/drive/MyDrive/the_dataset/stego\"\r\n",
        "\r\n"
      ],
      "execution_count": 147,
      "outputs": []
    },
    {
      "cell_type": "code",
      "metadata": {
        "id": "r2ukSmf-VLdP",
        "colab": {
          "base_uri": "https://localhost:8080/"
        },
        "outputId": "6f28c383-fa4e-4236-cd6f-01971a695e5d"
      },
      "source": [
        "train_loader, epoch_length = build_train_loader(\r\n",
        "        covr_dir, steg_dir, batch_size=10,\r\n",
        "        num_workers = 0\r\n",
        "    )"
      ],
      "execution_count": 151,
      "outputs": [
        {
          "output_type": "stream",
          "text": [
            "['/content/drive/MyDrive/the_dataset/cover/1.pgm', '/content/drive/MyDrive/the_dataset/cover/10.pgm', '/content/drive/MyDrive/the_dataset/cover/11.pgm', '/content/drive/MyDrive/the_dataset/cover/12.pgm', '/content/drive/MyDrive/the_dataset/cover/13.pgm', '/content/drive/MyDrive/the_dataset/cover/14.pgm', '/content/drive/MyDrive/the_dataset/cover/15.pgm', '/content/drive/MyDrive/the_dataset/cover/16.pgm', '/content/drive/MyDrive/the_dataset/cover/17.pgm', '/content/drive/MyDrive/the_dataset/cover/18.pgm', '/content/drive/MyDrive/the_dataset/cover/19.pgm', '/content/drive/MyDrive/the_dataset/cover/2.pgm', '/content/drive/MyDrive/the_dataset/cover/20.pgm', '/content/drive/MyDrive/the_dataset/cover/21.pgm', '/content/drive/MyDrive/the_dataset/cover/22.pgm', '/content/drive/MyDrive/the_dataset/cover/23.pgm', '/content/drive/MyDrive/the_dataset/cover/24.pgm', '/content/drive/MyDrive/the_dataset/cover/25.pgm', '/content/drive/MyDrive/the_dataset/cover/26.pgm', '/content/drive/MyDrive/the_dataset/cover/27.pgm', '/content/drive/MyDrive/the_dataset/cover/28.pgm', '/content/drive/MyDrive/the_dataset/cover/29.pgm', '/content/drive/MyDrive/the_dataset/cover/3.pgm', '/content/drive/MyDrive/the_dataset/cover/30.pgm', '/content/drive/MyDrive/the_dataset/cover/31.pgm', '/content/drive/MyDrive/the_dataset/cover/32.pgm', '/content/drive/MyDrive/the_dataset/cover/33.pgm', '/content/drive/MyDrive/the_dataset/cover/34.pgm', '/content/drive/MyDrive/the_dataset/cover/35.pgm', '/content/drive/MyDrive/the_dataset/cover/36.pgm', '/content/drive/MyDrive/the_dataset/cover/37.pgm', '/content/drive/MyDrive/the_dataset/cover/38.pgm', '/content/drive/MyDrive/the_dataset/cover/39.pgm', '/content/drive/MyDrive/the_dataset/cover/4.pgm', '/content/drive/MyDrive/the_dataset/cover/40.pgm', '/content/drive/MyDrive/the_dataset/cover/41.pgm', '/content/drive/MyDrive/the_dataset/cover/42.pgm', '/content/drive/MyDrive/the_dataset/cover/43.pgm', '/content/drive/MyDrive/the_dataset/cover/44.pgm', '/content/drive/MyDrive/the_dataset/cover/45.pgm', '/content/drive/MyDrive/the_dataset/cover/46.pgm', '/content/drive/MyDrive/the_dataset/cover/47.pgm', '/content/drive/MyDrive/the_dataset/cover/48.pgm', '/content/drive/MyDrive/the_dataset/cover/49.pgm', '/content/drive/MyDrive/the_dataset/cover/5.pgm', '/content/drive/MyDrive/the_dataset/cover/50.pgm', '/content/drive/MyDrive/the_dataset/cover/51.pgm', '/content/drive/MyDrive/the_dataset/cover/52.pgm', '/content/drive/MyDrive/the_dataset/cover/53.pgm', '/content/drive/MyDrive/the_dataset/cover/54.pgm', '/content/drive/MyDrive/the_dataset/cover/55.pgm', '/content/drive/MyDrive/the_dataset/cover/56.pgm', '/content/drive/MyDrive/the_dataset/cover/57.pgm', '/content/drive/MyDrive/the_dataset/cover/58.pgm', '/content/drive/MyDrive/the_dataset/cover/59.pgm', '/content/drive/MyDrive/the_dataset/cover/6.pgm', '/content/drive/MyDrive/the_dataset/cover/60.pgm', '/content/drive/MyDrive/the_dataset/cover/7.pgm', '/content/drive/MyDrive/the_dataset/cover/8.pgm', '/content/drive/MyDrive/the_dataset/cover/9.pgm', '/content/drive/MyDrive/the_dataset/stego/1.pgm', '/content/drive/MyDrive/the_dataset/stego/10.pgm', '/content/drive/MyDrive/the_dataset/stego/11.pgm', '/content/drive/MyDrive/the_dataset/stego/12.pgm', '/content/drive/MyDrive/the_dataset/stego/13.pgm', '/content/drive/MyDrive/the_dataset/stego/14.pgm', '/content/drive/MyDrive/the_dataset/stego/15.pgm', '/content/drive/MyDrive/the_dataset/stego/16.pgm', '/content/drive/MyDrive/the_dataset/stego/17.pgm', '/content/drive/MyDrive/the_dataset/stego/18.pgm', '/content/drive/MyDrive/the_dataset/stego/19.pgm', '/content/drive/MyDrive/the_dataset/stego/2.pgm', '/content/drive/MyDrive/the_dataset/stego/20.pgm', '/content/drive/MyDrive/the_dataset/stego/21.pgm', '/content/drive/MyDrive/the_dataset/stego/22.pgm', '/content/drive/MyDrive/the_dataset/stego/23.pgm', '/content/drive/MyDrive/the_dataset/stego/24.pgm', '/content/drive/MyDrive/the_dataset/stego/25.pgm', '/content/drive/MyDrive/the_dataset/stego/26.pgm', '/content/drive/MyDrive/the_dataset/stego/27.pgm', '/content/drive/MyDrive/the_dataset/stego/28.pgm', '/content/drive/MyDrive/the_dataset/stego/29.pgm', '/content/drive/MyDrive/the_dataset/stego/3.pgm', '/content/drive/MyDrive/the_dataset/stego/30.pgm', '/content/drive/MyDrive/the_dataset/stego/31.pgm', '/content/drive/MyDrive/the_dataset/stego/32.pgm', '/content/drive/MyDrive/the_dataset/stego/33.pgm', '/content/drive/MyDrive/the_dataset/stego/34.pgm', '/content/drive/MyDrive/the_dataset/stego/35.pgm', '/content/drive/MyDrive/the_dataset/stego/36.pgm', '/content/drive/MyDrive/the_dataset/stego/37.pgm', '/content/drive/MyDrive/the_dataset/stego/38.pgm', '/content/drive/MyDrive/the_dataset/stego/39.pgm', '/content/drive/MyDrive/the_dataset/stego/4.pgm', '/content/drive/MyDrive/the_dataset/stego/40.pgm', '/content/drive/MyDrive/the_dataset/stego/41.pgm', '/content/drive/MyDrive/the_dataset/stego/42.pgm', '/content/drive/MyDrive/the_dataset/stego/43.pgm', '/content/drive/MyDrive/the_dataset/stego/44.pgm', '/content/drive/MyDrive/the_dataset/stego/45.pgm', '/content/drive/MyDrive/the_dataset/stego/46.pgm', '/content/drive/MyDrive/the_dataset/stego/47.pgm', '/content/drive/MyDrive/the_dataset/stego/48.pgm', '/content/drive/MyDrive/the_dataset/stego/49.pgm', '/content/drive/MyDrive/the_dataset/stego/5.pgm', '/content/drive/MyDrive/the_dataset/stego/50.pgm', '/content/drive/MyDrive/the_dataset/stego/51.pgm', '/content/drive/MyDrive/the_dataset/stego/52.pgm', '/content/drive/MyDrive/the_dataset/stego/53.pgm', '/content/drive/MyDrive/the_dataset/stego/54.pgm', '/content/drive/MyDrive/the_dataset/stego/55.pgm', '/content/drive/MyDrive/the_dataset/stego/56.pgm', '/content/drive/MyDrive/the_dataset/stego/57.pgm', '/content/drive/MyDrive/the_dataset/stego/58.pgm', '/content/drive/MyDrive/the_dataset/stego/59.pgm', '/content/drive/MyDrive/the_dataset/stego/6.pgm', '/content/drive/MyDrive/the_dataset/stego/60.pgm', '/content/drive/MyDrive/the_dataset/stego/7.pgm', '/content/drive/MyDrive/the_dataset/stego/8.pgm', '/content/drive/MyDrive/the_dataset/stego/9.pgm']\n",
            "<__main__.BalancedBatchSampler object at 0x7f196e4592d0>\n"
          ],
          "name": "stdout"
        }
      ]
    },
    {
      "cell_type": "code",
      "metadata": {
        "id": "C4XE95M1Wwiq"
      },
      "source": [
        "train_loader_iter = iter(train_loader)"
      ],
      "execution_count": 152,
      "outputs": []
    },
    {
      "cell_type": "code",
      "metadata": {
        "id": "J_fte8uykzXV"
      },
      "source": [
        "import matplotlib.pyplot as plt\r\n",
        "\r\n",
        "\r\n",
        "datas =  next(iter(train_loader_iter))\r\n",
        "\r\n",
        "x, y = datas[\"image\"], datas[\"label\"]\r\n"
      ],
      "execution_count": 173,
      "outputs": []
    },
    {
      "cell_type": "code",
      "metadata": {
        "colab": {
          "base_uri": "https://localhost:8080/",
          "height": 286
        },
        "id": "GB2YoNti7Jmy",
        "outputId": "ab4fdfac-af87-4a0b-b58d-e21d0abc4a8a"
      },
      "source": [
        "i = 3\r\n",
        "\r\n",
        "print(y)\r\n",
        "plt.imshow(x[i].view(512,512))\r\n",
        "plt.show()"
      ],
      "execution_count": 175,
      "outputs": [
        {
          "output_type": "stream",
          "text": [
            "tensor([1, 0, 0, 1, 0, 1, 0, 1, 0, 1])\n"
          ],
          "name": "stdout"
        },
        {
          "output_type": "display_data",
          "data": {
            "image/png": "[encoded data removed]",
            "text/plain": [
              "<Figure size 432x288 with 1 Axes>"
            ]
          },
          "metadata": {
            "tags": [],
            "needs_background": "light"
          }
        }
      ]
    },
    {
      "cell_type": "code",
      "metadata": {
        "id": "_cKIz_vxXHvz"
      },
      "source": [
        "def train(epoch):\r\n",
        "  model.train()\r\n",
        "  running_loss, running_accuracy = 0., 0.\r\n",
        "  for batch in range(epoch):\r\n",
        "    data = next(iter(train_loader_iter))\r\n",
        "    img, lab = data[\"image\"], data[\"label\"]\r\n",
        "    inputs , labels = preprocess_data(img, lab, False)\r\n",
        "    optimizer.zero_grad()\r\n",
        "    output, feat_0, feat_1 = model(*inputs)\r\n",
        "    loss = criterion_1(output, labels) + 0.1 * criterion_2(feat_0, feat_1, labels)\r\n",
        "\r\n",
        "\r\n",
        "  #  the_accuracy = accuracy(output, labels).item()\r\n",
        "   # running_accuracy += the_accuracy\r\n",
        "   # running_loss += loss.item()\r\n",
        "\r\n",
        "    loss.backward()\r\n",
        "    optimizer.step()\r\n",
        "\r\n",
        "    print('EPOCH :',batch,\"LOSS:\", loss.item(), '\\n')"
      ],
      "execution_count": 153,
      "outputs": []
    },
    {
      "cell_type": "code",
      "metadata": {
        "id": "0gGd0KcAXUq6"
      },
      "source": [
        "def validate(epoch):\r\n",
        "  correct = 0\r\n",
        "  total = 0\r\n",
        "  with torch.no_grad():\r\n",
        "    model.eval()\r\n",
        "    for d in range(epoch):\r\n",
        "      data = next(iter(train_loader_iter))\r\n",
        "      image, lab = data[\"image\"], data[\"label\"]\r\n",
        "      i, l = preprocess_data(image, lab,False)\r\n",
        "      if epoch == 1:\r\n",
        "        print(lab)\r\n",
        "      output, feat0, feat1 = model(*i)\r\n",
        "      for idx, j in enumerate(output):\r\n",
        "        print(torch.argmax(j),\"--\",lab[idx])\r\n",
        "        if torch.argmax(j) == lab[idx]:\r\n",
        "          correct += 1\r\n",
        "        total +=1\r\n",
        "  \r\n",
        "  print(\"ACCURACY :\", correct/total,\"total :\",total, \"correct :\",correct )"
      ],
      "execution_count": 170,
      "outputs": []
    },
    {
      "cell_type": "code",
      "metadata": {
        "colab": {
          "base_uri": "https://localhost:8080/"
        },
        "id": "9fszWpUzio3H",
        "outputId": "cb2dd304-60b3-4171-a866-b527911c69b8"
      },
      "source": [
        "train(4)"
      ],
      "execution_count": 157,
      "outputs": [
        {
          "output_type": "stream",
          "text": [
            "EPOCH : 0 LOSS: 0.8251492977142334 \n",
            "\n",
            "EPOCH : 1 LOSS: 0.7688311338424683 \n",
            "\n",
            "EPOCH : 2 LOSS: 0.9058972597122192 \n",
            "\n",
            "EPOCH : 3 LOSS: 0.9043429493904114 \n",
            "\n"
          ],
          "name": "stdout"
        }
      ]
    },
    {
      "cell_type": "code",
      "metadata": {
        "colab": {
          "base_uri": "https://localhost:8080/"
        },
        "id": "rGvtv_4w6wOB",
        "outputId": "b4dddf39-d48e-4553-fcb6-8e54d5e73e23"
      },
      "source": [
        "validate(1)"
      ],
      "execution_count": 171,
      "outputs": [
        {
          "output_type": "stream",
          "text": [
            "tensor([1, 1, 0, 0, 1, 0, 0, 0, 1, 1])\n",
            "tensor(0) -- tensor(1)\n",
            "tensor(0) -- tensor(1)\n",
            "tensor(0) -- tensor(0)\n",
            "tensor(0) -- tensor(0)\n",
            "tensor(0) -- tensor(1)\n",
            "tensor(0) -- tensor(0)\n",
            "tensor(0) -- tensor(0)\n",
            "tensor(0) -- tensor(0)\n",
            "tensor(0) -- tensor(1)\n",
            "tensor(0) -- tensor(1)\n",
            "ACCURACY : 0.5 total : 10 correct : 5\n"
          ],
          "name": "stdout"
        }
      ]
    }
  ]
}